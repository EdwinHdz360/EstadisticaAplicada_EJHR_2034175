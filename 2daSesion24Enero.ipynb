{
 "cells": [
  {
   "cell_type": "markdown",
   "id": "a56c32b5-6bcc-4a00-a97a-7edda1a0d1f4",
   "metadata": {},
   "source": [
    "# Estadistica Aplicada\n",
    "## Edwin Javier Hernández Rodríguez 2034175\n",
    "### Objetos en Python"
   ]
  },
  {
   "cell_type": "code",
   "execution_count": 1,
   "id": "e406703f-0273-4041-8456-1d3929c0de0f",
   "metadata": {},
   "outputs": [],
   "source": [
    "alumno1 = ['Juan', 'Perez', 23]"
   ]
  },
  {
   "cell_type": "code",
   "execution_count": 2,
   "id": "cfc329e7-26a7-4613-843b-d6e4b274ca20",
   "metadata": {},
   "outputs": [],
   "source": [
    "estadistica_g4 = ['Juan', 'Raul', 'Jimena', 'Alejandra']"
   ]
  },
  {
   "cell_type": "code",
   "execution_count": 3,
   "id": "e9aaf4f9-55e0-43bf-8257-2490ac43934f",
   "metadata": {},
   "outputs": [
    {
     "data": {
      "text/plain": [
       "['Juan', 'Raul', 'Jimena', 'Alejandra']"
      ]
     },
     "execution_count": 3,
     "metadata": {},
     "output_type": "execute_result"
    }
   ],
   "source": [
    "estadistica_g4"
   ]
  },
  {
   "cell_type": "markdown",
   "id": "878997dc-259f-40e4-bb12-80299f8ee355",
   "metadata": {},
   "source": [
    "### Si queremos elegir a un elemento de la lista:\n",
    "#### Nota: Python empieza a contar desde cero"
   ]
  },
  {
   "cell_type": "code",
   "execution_count": 13,
   "id": "c3515fcf-a39b-473a-9a02-f4fbee95f2e4",
   "metadata": {},
   "outputs": [
    {
     "data": {
      "text/plain": [
       "'Jimena'"
      ]
     },
     "execution_count": 13,
     "metadata": {},
     "output_type": "execute_result"
    }
   ],
   "source": [
    "estadistica_g4[2]"
   ]
  },
  {
   "cell_type": "code",
   "execution_count": 12,
   "id": "0481dbf1-b1c5-4e61-adc9-0758d221831d",
   "metadata": {},
   "outputs": [
    {
     "data": {
      "text/plain": [
       "('Juan', 'Jimena')"
      ]
     },
     "execution_count": 12,
     "metadata": {},
     "output_type": "execute_result"
    }
   ],
   "source": [
    "estadistica_g4[0],estadistica_g4[2]"
   ]
  },
  {
   "cell_type": "markdown",
   "id": "70831197-dbdc-4ad5-b5eb-163e581891e3",
   "metadata": {},
   "source": [
    "Nota: en el siguiente ejemplo se ve como no toma la ultima posicion"
   ]
  },
  {
   "cell_type": "code",
   "execution_count": 16,
   "id": "6c65704c-0145-4fd4-8fd0-aee6ad515c5d",
   "metadata": {},
   "outputs": [
    {
     "data": {
      "text/plain": [
       "['Juan', 'Raul', 'Jimena']"
      ]
     },
     "execution_count": 16,
     "metadata": {},
     "output_type": "execute_result"
    }
   ],
   "source": [
    "estadistica_g4[0:3]"
   ]
  },
  {
   "cell_type": "code",
   "execution_count": 17,
   "id": "fce61201-7983-4754-850c-88a82b8fdcba",
   "metadata": {},
   "outputs": [],
   "source": [
    "estadistica_g4.append('Jaime')"
   ]
  },
  {
   "cell_type": "code",
   "execution_count": 19,
   "id": "22779de5-f46e-414a-9031-51f58af40b42",
   "metadata": {},
   "outputs": [
    {
     "data": {
      "text/plain": [
       "['Juan', 'Raul', 'Jimena', 'Alejandra', 'Jaime']"
      ]
     },
     "execution_count": 19,
     "metadata": {},
     "output_type": "execute_result"
    }
   ],
   "source": [
    "estadistica_g4[0:5]"
   ]
  },
  {
   "cell_type": "markdown",
   "id": "d96a3c01-0bb9-4ca0-85a8-301942fbfb1f",
   "metadata": {},
   "source": [
    "Para eliminar un elemento de la lista"
   ]
  },
  {
   "cell_type": "code",
   "execution_count": 20,
   "id": "ab8288ae-24a7-437a-80bb-2943b56676e4",
   "metadata": {},
   "outputs": [],
   "source": [
    "estadistica_g4.remove('Jimena')"
   ]
  },
  {
   "cell_type": "code",
   "execution_count": 21,
   "id": "d3376fc5-bfa6-4731-9650-b0019af37359",
   "metadata": {},
   "outputs": [
    {
     "data": {
      "text/plain": [
       "['Juan', 'Raul', 'Alejandra', 'Jaime']"
      ]
     },
     "execution_count": 21,
     "metadata": {},
     "output_type": "execute_result"
    }
   ],
   "source": [
    "estadistica_g4"
   ]
  },
  {
   "cell_type": "markdown",
   "id": "adc3223d-3429-4c81-9890-7c289a789875",
   "metadata": {},
   "source": [
    "### Para instalar librerías"
   ]
  },
  {
   "cell_type": "code",
   "execution_count": 26,
   "id": "87922ab3-53bb-4b63-8a2f-188cf34e6557",
   "metadata": {},
   "outputs": [
    {
     "name": "stdout",
     "output_type": "stream",
     "text": [
      "Requirement already satisfied: yfinance in c:\\users\\ehernandez\\anaconda3\\lib\\site-packages (0.2.4)\n",
      "Requirement already satisfied: frozendict>=2.3.4 in c:\\users\\ehernandez\\anaconda3\\lib\\site-packages (from yfinance) (2.3.4)\n",
      "Requirement already satisfied: html5lib>=1.1 in c:\\users\\ehernandez\\anaconda3\\lib\\site-packages (from yfinance) (1.1)\n",
      "Requirement already satisfied: appdirs>=1.4.4 in c:\\users\\ehernandez\\anaconda3\\lib\\site-packages (from yfinance) (1.4.4)\n",
      "Requirement already satisfied: multitasking>=0.0.7 in c:\\users\\ehernandez\\anaconda3\\lib\\site-packages (from yfinance) (0.0.11)\n",
      "Requirement already satisfied: lxml>=4.9.1 in c:\\users\\ehernandez\\anaconda3\\lib\\site-packages (from yfinance) (4.9.1)\n",
      "Requirement already satisfied: requests>=2.26 in c:\\users\\ehernandez\\anaconda3\\lib\\site-packages (from yfinance) (2.28.1)\n",
      "Requirement already satisfied: pandas>=1.3.0 in c:\\users\\ehernandez\\anaconda3\\lib\\site-packages (from yfinance) (1.4.4)\n",
      "Requirement already satisfied: cryptography>=3.3.2 in c:\\users\\ehernandez\\anaconda3\\lib\\site-packages (from yfinance) (37.0.1)\n",
      "Requirement already satisfied: pytz>=2022.5 in c:\\users\\ehernandez\\anaconda3\\lib\\site-packages (from yfinance) (2022.7.1)\n",
      "Requirement already satisfied: beautifulsoup4>=4.11.1 in c:\\users\\ehernandez\\anaconda3\\lib\\site-packages (from yfinance) (4.11.1)\n",
      "Requirement already satisfied: numpy>=1.16.5 in c:\\users\\ehernandez\\anaconda3\\lib\\site-packages (from yfinance) (1.21.5)\n",
      "Requirement already satisfied: soupsieve>1.2 in c:\\users\\ehernandez\\anaconda3\\lib\\site-packages (from beautifulsoup4>=4.11.1->yfinance) (2.3.1)\n",
      "Requirement already satisfied: cffi>=1.12 in c:\\users\\ehernandez\\anaconda3\\lib\\site-packages (from cryptography>=3.3.2->yfinance) (1.15.1)\n",
      "Requirement already satisfied: six>=1.9 in c:\\users\\ehernandez\\anaconda3\\lib\\site-packages (from html5lib>=1.1->yfinance) (1.16.0)\n",
      "Requirement already satisfied: webencodings in c:\\users\\ehernandez\\anaconda3\\lib\\site-packages (from html5lib>=1.1->yfinance) (0.5.1)\n",
      "Requirement already satisfied: python-dateutil>=2.8.1 in c:\\users\\ehernandez\\anaconda3\\lib\\site-packages (from pandas>=1.3.0->yfinance) (2.8.2)\n",
      "Requirement already satisfied: urllib3<1.27,>=1.21.1 in c:\\users\\ehernandez\\anaconda3\\lib\\site-packages (from requests>=2.26->yfinance) (1.26.11)\n",
      "Requirement already satisfied: charset-normalizer<3,>=2 in c:\\users\\ehernandez\\anaconda3\\lib\\site-packages (from requests>=2.26->yfinance) (2.0.4)\n",
      "Requirement already satisfied: idna<4,>=2.5 in c:\\users\\ehernandez\\anaconda3\\lib\\site-packages (from requests>=2.26->yfinance) (3.3)\n",
      "Requirement already satisfied: certifi>=2017.4.17 in c:\\users\\ehernandez\\anaconda3\\lib\\site-packages (from requests>=2.26->yfinance) (2022.9.14)\n",
      "Requirement already satisfied: pycparser in c:\\users\\ehernandez\\anaconda3\\lib\\site-packages (from cffi>=1.12->cryptography>=3.3.2->yfinance) (2.21)\n",
      "Note: you may need to restart the kernel to use updated packages.\n"
     ]
    }
   ],
   "source": [
    "pip install yfinance"
   ]
  },
  {
   "cell_type": "markdown",
   "id": "691e7931-7f54-46eb-a323-fcd3eb4fba44",
   "metadata": {},
   "source": [
    "#### Así se importa una librería:"
   ]
  },
  {
   "cell_type": "code",
   "execution_count": 28,
   "id": "f3759f51-599a-4e2a-bfbf-bb055ea76048",
   "metadata": {},
   "outputs": [],
   "source": [
    "import yfinance as yf"
   ]
  },
  {
   "cell_type": "code",
   "execution_count": 29,
   "id": "301bd830-b482-4907-9b62-6b5da2024141",
   "metadata": {},
   "outputs": [],
   "source": [
    "import numpy as np"
   ]
  },
  {
   "cell_type": "code",
   "execution_count": 30,
   "id": "e32184c3-34a8-4a84-9314-a17dfe3d459d",
   "metadata": {},
   "outputs": [],
   "source": [
    "edades = [12, 23, 34, 45, 56]"
   ]
  },
  {
   "cell_type": "code",
   "execution_count": 31,
   "id": "dcd6aa1c-eabe-4a55-9415-0291f5772064",
   "metadata": {},
   "outputs": [
    {
     "data": {
      "text/plain": [
       "list"
      ]
     },
     "execution_count": 31,
     "metadata": {},
     "output_type": "execute_result"
    }
   ],
   "source": [
    "type (edades)"
   ]
  },
  {
   "cell_type": "code",
   "execution_count": 32,
   "id": "86b32923-ed9b-4587-939b-60ff8407f4ca",
   "metadata": {},
   "outputs": [],
   "source": [
    "edades = np.array(edades)"
   ]
  },
  {
   "cell_type": "code",
   "execution_count": 33,
   "id": "fad8f752-f13a-4dc2-83f9-12ec567c5608",
   "metadata": {},
   "outputs": [
    {
     "data": {
      "text/plain": [
       "numpy.ndarray"
      ]
     },
     "execution_count": 33,
     "metadata": {},
     "output_type": "execute_result"
    }
   ],
   "source": [
    "type(edades)"
   ]
  },
  {
   "cell_type": "code",
   "execution_count": 34,
   "id": "1ead3cea-cae6-48ae-9873-38f258989671",
   "metadata": {},
   "outputs": [
    {
     "data": {
      "text/plain": [
       "170"
      ]
     },
     "execution_count": 34,
     "metadata": {},
     "output_type": "execute_result"
    }
   ],
   "source": [
    "np.sum(edades)"
   ]
  },
  {
   "cell_type": "code",
   "execution_count": 35,
   "id": "0d77123d-c3ac-47d5-96f8-d2ee467abdec",
   "metadata": {},
   "outputs": [
    {
     "data": {
      "text/plain": [
       "34.0"
      ]
     },
     "execution_count": 35,
     "metadata": {},
     "output_type": "execute_result"
    }
   ],
   "source": [
    "np.mean(edades)"
   ]
  },
  {
   "cell_type": "code",
   "execution_count": 36,
   "id": "a64be404-18fd-47df-946f-1b091afc1dc1",
   "metadata": {},
   "outputs": [
    {
     "data": {
      "text/plain": [
       "23647680"
      ]
     },
     "execution_count": 36,
     "metadata": {},
     "output_type": "execute_result"
    }
   ],
   "source": [
    "np.prod(edades)"
   ]
  },
  {
   "cell_type": "markdown",
   "id": "672f6e14-2cb9-4d7a-b89b-d5da93092d99",
   "metadata": {},
   "source": [
    "### **Poblacional**"
   ]
  },
  {
   "cell_type": "code",
   "execution_count": 37,
   "id": "540f03c4-461a-4a10-b66d-af3928cfb47b",
   "metadata": {},
   "outputs": [
    {
     "data": {
      "text/plain": [
       "242.0"
      ]
     },
     "execution_count": 37,
     "metadata": {},
     "output_type": "execute_result"
    }
   ],
   "source": [
    "np.var(edades)"
   ]
  },
  {
   "cell_type": "code",
   "execution_count": 38,
   "id": "d3b9ab9f-3785-4e11-9dee-9189eb8fd548",
   "metadata": {},
   "outputs": [
    {
     "data": {
      "text/plain": [
       "15.556349186104045"
      ]
     },
     "execution_count": 38,
     "metadata": {},
     "output_type": "execute_result"
    }
   ],
   "source": [
    "np.std(edades)"
   ]
  },
  {
   "cell_type": "markdown",
   "id": "67f78cdc-d20d-488d-8a03-2aa019dbeef8",
   "metadata": {},
   "source": [
    "### **Muestral**"
   ]
  },
  {
   "cell_type": "code",
   "execution_count": 41,
   "id": "5d5516b6-eb05-4d8f-a8fc-b1f515038591",
   "metadata": {},
   "outputs": [
    {
     "data": {
      "text/plain": [
       "302.5"
      ]
     },
     "execution_count": 41,
     "metadata": {},
     "output_type": "execute_result"
    }
   ],
   "source": [
    "np.var(edades, ddof = 1)"
   ]
  },
  {
   "cell_type": "code",
   "execution_count": 42,
   "id": "06e37616-abf3-4278-8f23-9174edab955e",
   "metadata": {},
   "outputs": [
    {
     "data": {
      "text/plain": [
       "17.392527130926087"
      ]
     },
     "execution_count": 42,
     "metadata": {},
     "output_type": "execute_result"
    }
   ],
   "source": [
    "np.std(edades,ddof = 1)"
   ]
  },
  {
   "cell_type": "markdown",
   "id": "d759e18f-b473-46ae-8752-9f34692f5980",
   "metadata": {},
   "source": [
    "### Para generar vectores"
   ]
  },
  {
   "cell_type": "code",
   "execution_count": 43,
   "id": "bf347837-95da-47fd-9b50-0d0113f6d961",
   "metadata": {},
   "outputs": [
    {
     "data": {
      "text/plain": [
       "array([0, 1, 2, 3, 4, 5, 6, 7, 8])"
      ]
     },
     "execution_count": 43,
     "metadata": {},
     "output_type": "execute_result"
    }
   ],
   "source": [
    "np.arange(9)"
   ]
  },
  {
   "cell_type": "code",
   "execution_count": 44,
   "id": "946f708b-630d-4480-8574-b9f546a46029",
   "metadata": {},
   "outputs": [
    {
     "data": {
      "text/plain": [
       "array([ 0, 15, 30, 45, 60, 75, 90])"
      ]
     },
     "execution_count": 44,
     "metadata": {},
     "output_type": "execute_result"
    }
   ],
   "source": [
    "np.arange(0,101,15)"
   ]
  },
  {
   "cell_type": "code",
   "execution_count": 45,
   "id": "668e6bf1-1794-40a1-a54e-ce7495f949c6",
   "metadata": {},
   "outputs": [
    {
     "data": {
      "text/plain": [
       "array([0., 0., 0., 0., 0.])"
      ]
     },
     "execution_count": 45,
     "metadata": {},
     "output_type": "execute_result"
    }
   ],
   "source": [
    "np.zeros(5)"
   ]
  },
  {
   "cell_type": "code",
   "execution_count": 46,
   "id": "4f29f2ed-37e8-4088-a242-bf0cf93a97b3",
   "metadata": {},
   "outputs": [
    {
     "data": {
      "text/plain": [
       "array([1., 1., 1., 1., 1.])"
      ]
     },
     "execution_count": 46,
     "metadata": {},
     "output_type": "execute_result"
    }
   ],
   "source": [
    "np.ones(5)"
   ]
  },
  {
   "cell_type": "code",
   "execution_count": 47,
   "id": "7ba90639-614d-4570-a182-5b7d38e3dba3",
   "metadata": {},
   "outputs": [
    {
     "data": {
      "text/plain": [
       "array([8, 8, 8, 8, 8, 8])"
      ]
     },
     "execution_count": 47,
     "metadata": {},
     "output_type": "execute_result"
    }
   ],
   "source": [
    "np.full(6,8)"
   ]
  },
  {
   "cell_type": "code",
   "execution_count": 48,
   "id": "3c5027e9-a8d1-4e35-8339-04cefeab060d",
   "metadata": {},
   "outputs": [
    {
     "data": {
      "text/plain": [
       "array([20, 16, 18,  3, 21,  0,  1, 21, 15,  4])"
      ]
     },
     "execution_count": 48,
     "metadata": {},
     "output_type": "execute_result"
    }
   ],
   "source": [
    "np.random.randint(0,25,10)"
   ]
  },
  {
   "cell_type": "markdown",
   "id": "8912e30b-b4f0-4817-8589-c769fb94b6cf",
   "metadata": {},
   "source": [
    "**Semilla**"
   ]
  },
  {
   "cell_type": "code",
   "execution_count": 51,
   "id": "ad5fa65d-6e7d-4c8f-969e-b00730f4d589",
   "metadata": {},
   "outputs": [],
   "source": [
    "np.random.seed(5)\n",
    "aleatorios = np.random.randint(0,25,10)"
   ]
  },
  {
   "cell_type": "markdown",
   "id": "b18508b8-48b9-4ac0-8197-96bc1b2db7aa",
   "metadata": {},
   "source": [
    "**Para ordenarlos**"
   ]
  },
  {
   "cell_type": "code",
   "execution_count": 52,
   "id": "0668e536-23a8-4a55-9c65-1956ce757e92",
   "metadata": {},
   "outputs": [],
   "source": [
    "aleatorios = np.sort(aleatorios)"
   ]
  },
  {
   "cell_type": "code",
   "execution_count": 53,
   "id": "e69abcb1-ad7f-4c39-902a-337047b60b70",
   "metadata": {},
   "outputs": [
    {
     "data": {
      "text/plain": [
       "array([ 3,  4,  6,  7,  8,  9, 14, 15, 16, 22])"
      ]
     },
     "execution_count": 53,
     "metadata": {},
     "output_type": "execute_result"
    }
   ],
   "source": [
    "aleatorios"
   ]
  }
 ],
 "metadata": {
  "kernelspec": {
   "display_name": "Python 3 (ipykernel)",
   "language": "python",
   "name": "python3"
  },
  "language_info": {
   "codemirror_mode": {
    "name": "ipython",
    "version": 3
   },
   "file_extension": ".py",
   "mimetype": "text/x-python",
   "name": "python",
   "nbconvert_exporter": "python",
   "pygments_lexer": "ipython3",
   "version": "3.9.13"
  }
 },
 "nbformat": 4,
 "nbformat_minor": 5
}
