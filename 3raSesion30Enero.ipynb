{
 "cells": [
  {
   "cell_type": "markdown",
   "id": "657fd924-cba3-4ae1-901a-0cacfbd3b283",
   "metadata": {},
   "source": [
    "# Estadistica Aplicada\n",
    "## Edwin Javier Hernández Rodríguez 2034175\n",
    "### 3ra Sesión"
   ]
  },
  {
   "cell_type": "code",
   "execution_count": 1,
   "id": "cd27fe75-9ef9-4a9f-a4ed-4c3c9e4f0df6",
   "metadata": {},
   "outputs": [],
   "source": [
    "import numpy as np"
   ]
  },
  {
   "cell_type": "code",
   "execution_count": 3,
   "id": "5213f707-15d8-4123-a00e-6c1bbe8d3e12",
   "metadata": {},
   "outputs": [],
   "source": [
    "np.random.seed(30)\n",
    "aleatorios = np.random.randint(0,20,10)"
   ]
  },
  {
   "cell_type": "code",
   "execution_count": 4,
   "id": "93103c16-5e81-44ed-aa92-40e43947e9df",
   "metadata": {},
   "outputs": [],
   "source": [
    "aleatorios = np.sort(aleatorios)"
   ]
  },
  {
   "cell_type": "code",
   "execution_count": 5,
   "id": "d9a1d712-b7af-4857-b253-9b2a4f53f9be",
   "metadata": {},
   "outputs": [
    {
     "data": {
      "text/plain": [
       "array([ 2,  3,  5,  5,  9, 12, 13, 13, 14, 17])"
      ]
     },
     "execution_count": 5,
     "metadata": {},
     "output_type": "execute_result"
    }
   ],
   "source": [
    "aleatorios"
   ]
  },
  {
   "cell_type": "markdown",
   "id": "c3eb907f-62ff-4304-93e8-71ff577de6ad",
   "metadata": {},
   "source": [
    "### Para elegir a una posicion del arreglo"
   ]
  },
  {
   "cell_type": "code",
   "execution_count": 6,
   "id": "0ae80150-3bf5-4ea8-bfc8-6afeed2f8f85",
   "metadata": {},
   "outputs": [
    {
     "data": {
      "text/plain": [
       "5"
      ]
     },
     "execution_count": 6,
     "metadata": {},
     "output_type": "execute_result"
    }
   ],
   "source": [
    "aleatorios[2]"
   ]
  },
  {
   "cell_type": "code",
   "execution_count": 7,
   "id": "a33b9d63-956f-43e7-8f42-2e494e5a5b1c",
   "metadata": {},
   "outputs": [
    {
     "data": {
      "text/plain": [
       "array([5, 5])"
      ]
     },
     "execution_count": 7,
     "metadata": {},
     "output_type": "execute_result"
    }
   ],
   "source": [
    "aleatorios [[2,3]]"
   ]
  },
  {
   "cell_type": "code",
   "execution_count": 8,
   "id": "8ab17d9b-c3c6-4239-9e85-37082cca128f",
   "metadata": {},
   "outputs": [
    {
     "data": {
      "text/plain": [
       "array([12, 13, 13, 14, 17])"
      ]
     },
     "execution_count": 8,
     "metadata": {},
     "output_type": "execute_result"
    }
   ],
   "source": [
    "aleatorios[aleatorios>10]"
   ]
  },
  {
   "cell_type": "code",
   "execution_count": 9,
   "id": "32b9f54d-be59-4e4c-837d-b7cf90ae9b49",
   "metadata": {},
   "outputs": [],
   "source": [
    "np.random.seed(315)\n",
    "aleatorios2 = np.random.randint(21,50,10)"
   ]
  },
  {
   "cell_type": "markdown",
   "id": "6de824a0-0492-49e7-a4a3-db52ecfb47e6",
   "metadata": {},
   "source": [
    "#### Convertira aleatorios2 en un arreglo, le vamos a calcular la media y vamos a redondear a un decimal\n",
    "\n",
    "### Función"
   ]
  },
  {
   "cell_type": "code",
   "execution_count": 10,
   "id": "233f1632-6f94-4e87-baab-e1f205b33e16",
   "metadata": {},
   "outputs": [
    {
     "data": {
      "text/plain": [
       "30.4"
      ]
     },
     "execution_count": 10,
     "metadata": {},
     "output_type": "execute_result"
    }
   ],
   "source": [
    "round(np.mean(np.array(aleatorios2)),1)"
   ]
  },
  {
   "cell_type": "markdown",
   "id": "dabdfe01-aa32-4274-a791-095dcfaf5a8e",
   "metadata": {},
   "source": [
    "### Método"
   ]
  },
  {
   "cell_type": "code",
   "execution_count": 11,
   "id": "809de76e-6fd3-4b7c-b173-950497249372",
   "metadata": {},
   "outputs": [
    {
     "data": {
      "text/plain": [
       "30.4"
      ]
     },
     "execution_count": 11,
     "metadata": {},
     "output_type": "execute_result"
    }
   ],
   "source": [
    "np.array(aleatorios2).mean().round(1)"
   ]
  },
  {
   "cell_type": "markdown",
   "id": "dc23bab1-c8ca-4c75-ba33-69e9e499dd57",
   "metadata": {
    "tags": []
   },
   "source": [
    "### TUPLA"
   ]
  },
  {
   "cell_type": "code",
   "execution_count": 13,
   "id": "be58d8b5-6ebf-414e-b5db-5c0620c09f6d",
   "metadata": {},
   "outputs": [
    {
     "data": {
      "text/plain": [
       "tuple"
      ]
     },
     "execution_count": 13,
     "metadata": {},
     "output_type": "execute_result"
    }
   ],
   "source": [
    "tupla1 = (23, 45, \"libro\")\n",
    "type(tupla1)"
   ]
  },
  {
   "cell_type": "code",
   "execution_count": 14,
   "id": "2a2ca7f1-a92c-407a-9e9c-c92480ecffaf",
   "metadata": {},
   "outputs": [
    {
     "data": {
      "text/plain": [
       "'libro'"
      ]
     },
     "execution_count": 14,
     "metadata": {},
     "output_type": "execute_result"
    }
   ],
   "source": [
    "tupla1[2]"
   ]
  },
  {
   "cell_type": "markdown",
   "id": "8a981c23-1c29-4b1d-8932-92a5000466f1",
   "metadata": {},
   "source": [
    "### Diccionario"
   ]
  },
  {
   "cell_type": "code",
   "execution_count": 19,
   "id": "f1dcf55a-3f91-4b9b-a679-59008754100e",
   "metadata": {},
   "outputs": [
    {
     "data": {
      "text/plain": [
       "{'Nombre': 'Juan', 'Apellido': 'Perez', 'Edad': 23}"
      ]
     },
     "execution_count": 19,
     "metadata": {},
     "output_type": "execute_result"
    }
   ],
   "source": [
    "alumno1_dic = {'Nombre': 'Juan', 'Apellido': 'Perez', 'Edad': 23}\n",
    "alumno1_dic"
   ]
  },
  {
   "cell_type": "markdown",
   "id": "a18a98ad-37d8-4177-a782-e3967cb73ff0",
   "metadata": {},
   "source": [
    "Clave......................................Clave2.....................................Clave3"
   ]
  },
  {
   "cell_type": "code",
   "execution_count": 20,
   "id": "f249779b-f3b6-4da3-8148-9d23d6125594",
   "metadata": {},
   "outputs": [
    {
     "data": {
      "text/plain": [
       "'Juan'"
      ]
     },
     "execution_count": 20,
     "metadata": {},
     "output_type": "execute_result"
    }
   ],
   "source": [
    "alumno1_dic['Nombre']"
   ]
  },
  {
   "cell_type": "code",
   "execution_count": 21,
   "id": "a7c5bf30-6f6e-4518-a565-337c8b876e9d",
   "metadata": {},
   "outputs": [
    {
     "data": {
      "text/plain": [
       "'Perez'"
      ]
     },
     "execution_count": 21,
     "metadata": {},
     "output_type": "execute_result"
    }
   ],
   "source": [
    "alumno1_dic['Apellido']"
   ]
  },
  {
   "cell_type": "code",
   "execution_count": 22,
   "id": "a0612a35-db6c-4a37-b8f2-0ebeca2a460f",
   "metadata": {},
   "outputs": [],
   "source": [
    "estadistica_g5 = {'Nombre':['Ale','Jaime','Teo'],'Apellido':['Leos','Lara','Leal'],'Edad':[23,28,17]}"
   ]
  },
  {
   "cell_type": "code",
   "execution_count": 24,
   "id": "525fd88f-3995-47c6-80bf-feb268c0a1e5",
   "metadata": {},
   "outputs": [
    {
     "data": {
      "text/plain": [
       "['Ale', 'Jaime', 'Teo']"
      ]
     },
     "execution_count": 24,
     "metadata": {},
     "output_type": "execute_result"
    }
   ],
   "source": [
    "estadistica_g5['Nombre']"
   ]
  },
  {
   "cell_type": "markdown",
   "id": "6b503ef3-8c08-4287-a0ce-42a015163ca5",
   "metadata": {},
   "source": [
    "#### Claves"
   ]
  },
  {
   "cell_type": "code",
   "execution_count": 25,
   "id": "0070b119-4c75-4ee3-a221-4bab1dcb1e1f",
   "metadata": {},
   "outputs": [
    {
     "data": {
      "text/plain": [
       "dict_keys(['Nombre', 'Apellido', 'Edad'])"
      ]
     },
     "execution_count": 25,
     "metadata": {},
     "output_type": "execute_result"
    }
   ],
   "source": [
    "estadistica_g5.keys()"
   ]
  },
  {
   "cell_type": "markdown",
   "id": "b2f69a92-2567-4666-a68b-4f3ff66285d1",
   "metadata": {},
   "source": [
    "### Pandas"
   ]
  },
  {
   "cell_type": "code",
   "execution_count": 26,
   "id": "18f9a1a8-da4b-4583-a277-40f4990357c3",
   "metadata": {},
   "outputs": [],
   "source": [
    "import pandas as pd"
   ]
  },
  {
   "cell_type": "code",
   "execution_count": 29,
   "id": "9e65a169-2018-4ec0-9a1b-d51befee7aba",
   "metadata": {},
   "outputs": [],
   "source": [
    "alumno1 = ['Juan', 'Perez', 23]\n",
    "alumno2 = ['Raul', 'Gonzalez', 17]\n",
    "alumno3 = ['Jimena', 'Rosas', 20]\n",
    "alumno4 = ['Alejandra', 'Saldaña', 21]\n"
   ]
  },
  {
   "cell_type": "code",
   "execution_count": 30,
   "id": "afef0f4a-965d-4b12-9b93-a1f756a94810",
   "metadata": {},
   "outputs": [],
   "source": [
    "clase_estadistica = [alumno1, alumno2, alumno3, alumno4]"
   ]
  },
  {
   "cell_type": "code",
   "execution_count": 31,
   "id": "46bcfa48-368a-488c-becf-eb73b7193d82",
   "metadata": {},
   "outputs": [
    {
     "data": {
      "text/plain": [
       "[['Juan', 'Perez', 23],\n",
       " ['Raul', 'Gonzalez', 17],\n",
       " ['Jimena', 'Rosas', 20],\n",
       " ['Alejandra', 'Saldaña', 21]]"
      ]
     },
     "execution_count": 31,
     "metadata": {},
     "output_type": "execute_result"
    }
   ],
   "source": [
    "clase_estadistica"
   ]
  },
  {
   "cell_type": "code",
   "execution_count": 36,
   "id": "dd006047-afb1-4a53-bdd7-e02d77a62350",
   "metadata": {},
   "outputs": [],
   "source": [
    "clase_estadistica = pd.DataFrame(clase_estadistica, columns = ['Nombre', 'Apellido', 'Edad'])"
   ]
  },
  {
   "cell_type": "code",
   "execution_count": 38,
   "id": "efc0ca50-4e56-4a2f-a0eb-b491814ebd6d",
   "metadata": {},
   "outputs": [
    {
     "data": {
      "text/html": [
       "<div>\n",
       "<style scoped>\n",
       "    .dataframe tbody tr th:only-of-type {\n",
       "        vertical-align: middle;\n",
       "    }\n",
       "\n",
       "    .dataframe tbody tr th {\n",
       "        vertical-align: top;\n",
       "    }\n",
       "\n",
       "    .dataframe thead th {\n",
       "        text-align: right;\n",
       "    }\n",
       "</style>\n",
       "<table border=\"1\" class=\"dataframe\">\n",
       "  <thead>\n",
       "    <tr style=\"text-align: right;\">\n",
       "      <th></th>\n",
       "      <th>Nombre</th>\n",
       "      <th>Apellido</th>\n",
       "      <th>Edad</th>\n",
       "      <th>Edad en días</th>\n",
       "    </tr>\n",
       "  </thead>\n",
       "  <tbody>\n",
       "    <tr>\n",
       "      <th>0</th>\n",
       "      <td>Juan</td>\n",
       "      <td>Perez</td>\n",
       "      <td>23</td>\n",
       "      <td>8395</td>\n",
       "    </tr>\n",
       "    <tr>\n",
       "      <th>1</th>\n",
       "      <td>Raul</td>\n",
       "      <td>Gonzalez</td>\n",
       "      <td>17</td>\n",
       "      <td>6205</td>\n",
       "    </tr>\n",
       "    <tr>\n",
       "      <th>2</th>\n",
       "      <td>Jimena</td>\n",
       "      <td>Rosas</td>\n",
       "      <td>20</td>\n",
       "      <td>7300</td>\n",
       "    </tr>\n",
       "    <tr>\n",
       "      <th>3</th>\n",
       "      <td>Alejandra</td>\n",
       "      <td>Saldaña</td>\n",
       "      <td>21</td>\n",
       "      <td>7665</td>\n",
       "    </tr>\n",
       "  </tbody>\n",
       "</table>\n",
       "</div>"
      ],
      "text/plain": [
       "      Nombre  Apellido  Edad  Edad en días\n",
       "0       Juan     Perez    23          8395\n",
       "1       Raul  Gonzalez    17          6205\n",
       "2     Jimena     Rosas    20          7300\n",
       "3  Alejandra   Saldaña    21          7665"
      ]
     },
     "execution_count": 38,
     "metadata": {},
     "output_type": "execute_result"
    }
   ],
   "source": [
    "clase_estadistica['Edad en días'] = clase_estadistica['Edad']*365\n",
    "clase_estadistica"
   ]
  },
  {
   "cell_type": "code",
   "execution_count": 39,
   "id": "dcc0b0c5-3454-47b3-83cd-1749bba92ba3",
   "metadata": {},
   "outputs": [],
   "source": [
    "clase_estadistica['Estado de origen'] = ['Zacatecas', 'Nuevo Leon', 'Tamaulipas', 'Sinaloa']"
   ]
  },
  {
   "cell_type": "code",
   "execution_count": 40,
   "id": "738238a5-5941-413e-aa26-229121b30c66",
   "metadata": {},
   "outputs": [
    {
     "data": {
      "text/html": [
       "<div>\n",
       "<style scoped>\n",
       "    .dataframe tbody tr th:only-of-type {\n",
       "        vertical-align: middle;\n",
       "    }\n",
       "\n",
       "    .dataframe tbody tr th {\n",
       "        vertical-align: top;\n",
       "    }\n",
       "\n",
       "    .dataframe thead th {\n",
       "        text-align: right;\n",
       "    }\n",
       "</style>\n",
       "<table border=\"1\" class=\"dataframe\">\n",
       "  <thead>\n",
       "    <tr style=\"text-align: right;\">\n",
       "      <th></th>\n",
       "      <th>Nombre</th>\n",
       "      <th>Apellido</th>\n",
       "      <th>Edad</th>\n",
       "      <th>Edad en días</th>\n",
       "      <th>Estado de origen</th>\n",
       "    </tr>\n",
       "  </thead>\n",
       "  <tbody>\n",
       "    <tr>\n",
       "      <th>0</th>\n",
       "      <td>Juan</td>\n",
       "      <td>Perez</td>\n",
       "      <td>23</td>\n",
       "      <td>8395</td>\n",
       "      <td>Zacatecas</td>\n",
       "    </tr>\n",
       "    <tr>\n",
       "      <th>1</th>\n",
       "      <td>Raul</td>\n",
       "      <td>Gonzalez</td>\n",
       "      <td>17</td>\n",
       "      <td>6205</td>\n",
       "      <td>Nuevo Leon</td>\n",
       "    </tr>\n",
       "    <tr>\n",
       "      <th>2</th>\n",
       "      <td>Jimena</td>\n",
       "      <td>Rosas</td>\n",
       "      <td>20</td>\n",
       "      <td>7300</td>\n",
       "      <td>Tamaulipas</td>\n",
       "    </tr>\n",
       "    <tr>\n",
       "      <th>3</th>\n",
       "      <td>Alejandra</td>\n",
       "      <td>Saldaña</td>\n",
       "      <td>21</td>\n",
       "      <td>7665</td>\n",
       "      <td>Sinaloa</td>\n",
       "    </tr>\n",
       "  </tbody>\n",
       "</table>\n",
       "</div>"
      ],
      "text/plain": [
       "      Nombre  Apellido  Edad  Edad en días Estado de origen\n",
       "0       Juan     Perez    23          8395        Zacatecas\n",
       "1       Raul  Gonzalez    17          6205       Nuevo Leon\n",
       "2     Jimena     Rosas    20          7300       Tamaulipas\n",
       "3  Alejandra   Saldaña    21          7665          Sinaloa"
      ]
     },
     "execution_count": 40,
     "metadata": {},
     "output_type": "execute_result"
    }
   ],
   "source": [
    "clase_estadistica"
   ]
  },
  {
   "cell_type": "markdown",
   "id": "b7472ea4-88bb-4e58-abd5-7538e75f9a6d",
   "metadata": {},
   "source": [
    "#### 1.-Seleccion estandar\n",
    "#### 2.- .loc\n",
    "#### 3.- .iloc\n",
    "#### 4.- Metodo (SQL)\n",
    "#### 5.- Seleccion por condicionales"
   ]
  },
  {
   "cell_type": "code",
   "execution_count": 41,
   "id": "898efa59-b052-4b2f-a612-53f5275b371c",
   "metadata": {},
   "outputs": [
    {
     "data": {
      "text/plain": [
       "0       Perez\n",
       "1    Gonzalez\n",
       "2       Rosas\n",
       "3     Saldaña\n",
       "Name: Apellido, dtype: object"
      ]
     },
     "execution_count": 41,
     "metadata": {},
     "output_type": "execute_result"
    }
   ],
   "source": [
    "#Seleccion estandar\n",
    "clase_estadistica['Apellido']"
   ]
  },
  {
   "cell_type": "code",
   "execution_count": 42,
   "id": "64f8aee1-a7d5-47bb-870c-e50292e4bf4e",
   "metadata": {},
   "outputs": [
    {
     "data": {
      "text/html": [
       "<div>\n",
       "<style scoped>\n",
       "    .dataframe tbody tr th:only-of-type {\n",
       "        vertical-align: middle;\n",
       "    }\n",
       "\n",
       "    .dataframe tbody tr th {\n",
       "        vertical-align: top;\n",
       "    }\n",
       "\n",
       "    .dataframe thead th {\n",
       "        text-align: right;\n",
       "    }\n",
       "</style>\n",
       "<table border=\"1\" class=\"dataframe\">\n",
       "  <thead>\n",
       "    <tr style=\"text-align: right;\">\n",
       "      <th></th>\n",
       "      <th>Apellido</th>\n",
       "      <th>Edad</th>\n",
       "    </tr>\n",
       "  </thead>\n",
       "  <tbody>\n",
       "    <tr>\n",
       "      <th>0</th>\n",
       "      <td>Perez</td>\n",
       "      <td>23</td>\n",
       "    </tr>\n",
       "    <tr>\n",
       "      <th>1</th>\n",
       "      <td>Gonzalez</td>\n",
       "      <td>17</td>\n",
       "    </tr>\n",
       "    <tr>\n",
       "      <th>2</th>\n",
       "      <td>Rosas</td>\n",
       "      <td>20</td>\n",
       "    </tr>\n",
       "    <tr>\n",
       "      <th>3</th>\n",
       "      <td>Saldaña</td>\n",
       "      <td>21</td>\n",
       "    </tr>\n",
       "  </tbody>\n",
       "</table>\n",
       "</div>"
      ],
      "text/plain": [
       "   Apellido  Edad\n",
       "0     Perez    23\n",
       "1  Gonzalez    17\n",
       "2     Rosas    20\n",
       "3   Saldaña    21"
      ]
     },
     "execution_count": 42,
     "metadata": {},
     "output_type": "execute_result"
    }
   ],
   "source": [
    "clase_estadistica[['Apellido', 'Edad']]"
   ]
  },
  {
   "cell_type": "code",
   "execution_count": 43,
   "id": "abef9726-f385-456e-bc65-e729388e3c7b",
   "metadata": {},
   "outputs": [
    {
     "data": {
      "text/html": [
       "<div>\n",
       "<style scoped>\n",
       "    .dataframe tbody tr th:only-of-type {\n",
       "        vertical-align: middle;\n",
       "    }\n",
       "\n",
       "    .dataframe tbody tr th {\n",
       "        vertical-align: top;\n",
       "    }\n",
       "\n",
       "    .dataframe thead th {\n",
       "        text-align: right;\n",
       "    }\n",
       "</style>\n",
       "<table border=\"1\" class=\"dataframe\">\n",
       "  <thead>\n",
       "    <tr style=\"text-align: right;\">\n",
       "      <th></th>\n",
       "      <th>Nombre</th>\n",
       "      <th>Apellido</th>\n",
       "      <th>Edad</th>\n",
       "      <th>Edad en días</th>\n",
       "      <th>Estado de origen</th>\n",
       "    </tr>\n",
       "  </thead>\n",
       "  <tbody>\n",
       "    <tr>\n",
       "      <th>0</th>\n",
       "      <td>Juan</td>\n",
       "      <td>Perez</td>\n",
       "      <td>23</td>\n",
       "      <td>8395</td>\n",
       "      <td>Zacatecas</td>\n",
       "    </tr>\n",
       "    <tr>\n",
       "      <th>1</th>\n",
       "      <td>Raul</td>\n",
       "      <td>Gonzalez</td>\n",
       "      <td>17</td>\n",
       "      <td>6205</td>\n",
       "      <td>Nuevo Leon</td>\n",
       "    </tr>\n",
       "  </tbody>\n",
       "</table>\n",
       "</div>"
      ],
      "text/plain": [
       "  Nombre  Apellido  Edad  Edad en días Estado de origen\n",
       "0   Juan     Perez    23          8395        Zacatecas\n",
       "1   Raul  Gonzalez    17          6205       Nuevo Leon"
      ]
     },
     "execution_count": 43,
     "metadata": {},
     "output_type": "execute_result"
    }
   ],
   "source": [
    "clase_estadistica[0:2]"
   ]
  },
  {
   "cell_type": "code",
   "execution_count": 45,
   "id": "19b44933-f742-4776-9f33-b33b73b21f00",
   "metadata": {},
   "outputs": [
    {
     "data": {
      "text/html": [
       "<div>\n",
       "<style scoped>\n",
       "    .dataframe tbody tr th:only-of-type {\n",
       "        vertical-align: middle;\n",
       "    }\n",
       "\n",
       "    .dataframe tbody tr th {\n",
       "        vertical-align: top;\n",
       "    }\n",
       "\n",
       "    .dataframe thead th {\n",
       "        text-align: right;\n",
       "    }\n",
       "</style>\n",
       "<table border=\"1\" class=\"dataframe\">\n",
       "  <thead>\n",
       "    <tr style=\"text-align: right;\">\n",
       "      <th></th>\n",
       "      <th>Apellido</th>\n",
       "      <th>Edad</th>\n",
       "    </tr>\n",
       "  </thead>\n",
       "  <tbody>\n",
       "    <tr>\n",
       "      <th>0</th>\n",
       "      <td>Perez</td>\n",
       "      <td>23</td>\n",
       "    </tr>\n",
       "    <tr>\n",
       "      <th>1</th>\n",
       "      <td>Gonzalez</td>\n",
       "      <td>17</td>\n",
       "    </tr>\n",
       "  </tbody>\n",
       "</table>\n",
       "</div>"
      ],
      "text/plain": [
       "   Apellido  Edad\n",
       "0     Perez    23\n",
       "1  Gonzalez    17"
      ]
     },
     "execution_count": 45,
     "metadata": {},
     "output_type": "execute_result"
    }
   ],
   "source": [
    "clase_estadistica[0:2][['Apellido','Edad']]"
   ]
  },
  {
   "cell_type": "markdown",
   "id": "b817ba17-a278-43d8-aef1-886c68edc025",
   "metadata": {
    "tags": []
   },
   "source": [
    "### .iloc\n",
    "Se tiene que dar posicion de filas y columnas"
   ]
  },
  {
   "cell_type": "code",
   "execution_count": 47,
   "id": "231d5db6-8021-45d3-800c-ced5d06149aa",
   "metadata": {},
   "outputs": [
    {
     "data": {
      "text/plain": [
       "0    23\n",
       "1    17\n",
       "2    20\n",
       "3    21\n",
       "Name: Edad, dtype: int64"
      ]
     },
     "execution_count": 47,
     "metadata": {},
     "output_type": "execute_result"
    }
   ],
   "source": [
    "clase_estadistica.iloc[:,2]"
   ]
  },
  {
   "cell_type": "code",
   "execution_count": 48,
   "id": "f634a262-658d-41f4-9977-04ddd9c1f445",
   "metadata": {},
   "outputs": [
    {
     "data": {
      "text/html": [
       "<div>\n",
       "<style scoped>\n",
       "    .dataframe tbody tr th:only-of-type {\n",
       "        vertical-align: middle;\n",
       "    }\n",
       "\n",
       "    .dataframe tbody tr th {\n",
       "        vertical-align: top;\n",
       "    }\n",
       "\n",
       "    .dataframe thead th {\n",
       "        text-align: right;\n",
       "    }\n",
       "</style>\n",
       "<table border=\"1\" class=\"dataframe\">\n",
       "  <thead>\n",
       "    <tr style=\"text-align: right;\">\n",
       "      <th></th>\n",
       "      <th>Nombre</th>\n",
       "      <th>Edad</th>\n",
       "    </tr>\n",
       "  </thead>\n",
       "  <tbody>\n",
       "    <tr>\n",
       "      <th>0</th>\n",
       "      <td>Juan</td>\n",
       "      <td>23</td>\n",
       "    </tr>\n",
       "    <tr>\n",
       "      <th>1</th>\n",
       "      <td>Raul</td>\n",
       "      <td>17</td>\n",
       "    </tr>\n",
       "    <tr>\n",
       "      <th>2</th>\n",
       "      <td>Jimena</td>\n",
       "      <td>20</td>\n",
       "    </tr>\n",
       "    <tr>\n",
       "      <th>3</th>\n",
       "      <td>Alejandra</td>\n",
       "      <td>21</td>\n",
       "    </tr>\n",
       "  </tbody>\n",
       "</table>\n",
       "</div>"
      ],
      "text/plain": [
       "      Nombre  Edad\n",
       "0       Juan    23\n",
       "1       Raul    17\n",
       "2     Jimena    20\n",
       "3  Alejandra    21"
      ]
     },
     "execution_count": 48,
     "metadata": {},
     "output_type": "execute_result"
    }
   ],
   "source": [
    "#Si quisieramos nombre y edad\n",
    "clase_estadistica.iloc[:,[0,2]]"
   ]
  },
  {
   "cell_type": "code",
   "execution_count": 49,
   "id": "1d24b57c-215e-4c90-976c-cc6549b231ea",
   "metadata": {},
   "outputs": [
    {
     "data": {
      "text/plain": [
       "Nombre    Juan\n",
       "Edad        23\n",
       "Name: 0, dtype: object"
      ]
     },
     "execution_count": 49,
     "metadata": {},
     "output_type": "execute_result"
    }
   ],
   "source": [
    "#Nombre y edad de juan\n",
    "clase_estadistica.iloc[0,[0,2]]"
   ]
  },
  {
   "cell_type": "code",
   "execution_count": 50,
   "id": "a9531f1e-26d1-4b49-8302-a884afd40163",
   "metadata": {},
   "outputs": [
    {
     "data": {
      "text/html": [
       "<div>\n",
       "<style scoped>\n",
       "    .dataframe tbody tr th:only-of-type {\n",
       "        vertical-align: middle;\n",
       "    }\n",
       "\n",
       "    .dataframe tbody tr th {\n",
       "        vertical-align: top;\n",
       "    }\n",
       "\n",
       "    .dataframe thead th {\n",
       "        text-align: right;\n",
       "    }\n",
       "</style>\n",
       "<table border=\"1\" class=\"dataframe\">\n",
       "  <thead>\n",
       "    <tr style=\"text-align: right;\">\n",
       "      <th></th>\n",
       "      <th>Nombre</th>\n",
       "      <th>Edad</th>\n",
       "    </tr>\n",
       "  </thead>\n",
       "  <tbody>\n",
       "    <tr>\n",
       "      <th>0</th>\n",
       "      <td>Juan</td>\n",
       "      <td>23</td>\n",
       "    </tr>\n",
       "    <tr>\n",
       "      <th>1</th>\n",
       "      <td>Raul</td>\n",
       "      <td>17</td>\n",
       "    </tr>\n",
       "  </tbody>\n",
       "</table>\n",
       "</div>"
      ],
      "text/plain": [
       "  Nombre  Edad\n",
       "0   Juan    23\n",
       "1   Raul    17"
      ]
     },
     "execution_count": 50,
     "metadata": {},
     "output_type": "execute_result"
    }
   ],
   "source": [
    "#Para ver a juan y raul\n",
    "clase_estadistica.iloc[0:2,[0,2]]"
   ]
  },
  {
   "cell_type": "markdown",
   "id": "21f7d6cb-80f5-41cc-9e53-3fac86428137",
   "metadata": {},
   "source": [
    "### .loc (etiqueta / nombre)"
   ]
  },
  {
   "cell_type": "code",
   "execution_count": 52,
   "id": "6ac4bc1b-aef6-464c-9c2f-4f1d9bf2ef33",
   "metadata": {},
   "outputs": [
    {
     "data": {
      "text/html": [
       "<div>\n",
       "<style scoped>\n",
       "    .dataframe tbody tr th:only-of-type {\n",
       "        vertical-align: middle;\n",
       "    }\n",
       "\n",
       "    .dataframe tbody tr th {\n",
       "        vertical-align: top;\n",
       "    }\n",
       "\n",
       "    .dataframe thead th {\n",
       "        text-align: right;\n",
       "    }\n",
       "</style>\n",
       "<table border=\"1\" class=\"dataframe\">\n",
       "  <thead>\n",
       "    <tr style=\"text-align: right;\">\n",
       "      <th></th>\n",
       "      <th>Edad</th>\n",
       "      <th>Nombre</th>\n",
       "    </tr>\n",
       "  </thead>\n",
       "  <tbody>\n",
       "    <tr>\n",
       "      <th>0</th>\n",
       "      <td>23</td>\n",
       "      <td>Juan</td>\n",
       "    </tr>\n",
       "    <tr>\n",
       "      <th>1</th>\n",
       "      <td>17</td>\n",
       "      <td>Raul</td>\n",
       "    </tr>\n",
       "    <tr>\n",
       "      <th>2</th>\n",
       "      <td>20</td>\n",
       "      <td>Jimena</td>\n",
       "    </tr>\n",
       "    <tr>\n",
       "      <th>3</th>\n",
       "      <td>21</td>\n",
       "      <td>Alejandra</td>\n",
       "    </tr>\n",
       "  </tbody>\n",
       "</table>\n",
       "</div>"
      ],
      "text/plain": [
       "   Edad     Nombre\n",
       "0    23       Juan\n",
       "1    17       Raul\n",
       "2    20     Jimena\n",
       "3    21  Alejandra"
      ]
     },
     "execution_count": 52,
     "metadata": {},
     "output_type": "execute_result"
    }
   ],
   "source": [
    "clase_estadistica.loc[:,['Edad', 'Nombre']]"
   ]
  },
  {
   "cell_type": "markdown",
   "id": "91477d60-6409-450f-b36d-b5da17e337d8",
   "metadata": {},
   "source": [
    "### Metodo SQL"
   ]
  },
  {
   "cell_type": "code",
   "execution_count": 53,
   "id": "98b7632f-61ab-4e99-8fc2-d9a27924fbe2",
   "metadata": {},
   "outputs": [
    {
     "data": {
      "text/plain": [
       "0    23\n",
       "1    17\n",
       "2    20\n",
       "3    21\n",
       "Name: Edad, dtype: int64"
      ]
     },
     "execution_count": 53,
     "metadata": {},
     "output_type": "execute_result"
    }
   ],
   "source": [
    "clase_estadistica.Edad"
   ]
  },
  {
   "cell_type": "markdown",
   "id": "8cba1358-81fb-4504-b37e-eefbdb690ada",
   "metadata": {},
   "source": [
    "### Seleccion por condicionales"
   ]
  },
  {
   "cell_type": "code",
   "execution_count": 54,
   "id": "ec14b16e-8ad9-4db4-99c7-e2daa8af82ab",
   "metadata": {},
   "outputs": [
    {
     "data": {
      "text/html": [
       "<div>\n",
       "<style scoped>\n",
       "    .dataframe tbody tr th:only-of-type {\n",
       "        vertical-align: middle;\n",
       "    }\n",
       "\n",
       "    .dataframe tbody tr th {\n",
       "        vertical-align: top;\n",
       "    }\n",
       "\n",
       "    .dataframe thead th {\n",
       "        text-align: right;\n",
       "    }\n",
       "</style>\n",
       "<table border=\"1\" class=\"dataframe\">\n",
       "  <thead>\n",
       "    <tr style=\"text-align: right;\">\n",
       "      <th></th>\n",
       "      <th>Nombre</th>\n",
       "      <th>Apellido</th>\n",
       "      <th>Edad</th>\n",
       "      <th>Edad en días</th>\n",
       "      <th>Estado de origen</th>\n",
       "    </tr>\n",
       "  </thead>\n",
       "  <tbody>\n",
       "    <tr>\n",
       "      <th>0</th>\n",
       "      <td>Juan</td>\n",
       "      <td>Perez</td>\n",
       "      <td>23</td>\n",
       "      <td>8395</td>\n",
       "      <td>Zacatecas</td>\n",
       "    </tr>\n",
       "    <tr>\n",
       "      <th>2</th>\n",
       "      <td>Jimena</td>\n",
       "      <td>Rosas</td>\n",
       "      <td>20</td>\n",
       "      <td>7300</td>\n",
       "      <td>Tamaulipas</td>\n",
       "    </tr>\n",
       "    <tr>\n",
       "      <th>3</th>\n",
       "      <td>Alejandra</td>\n",
       "      <td>Saldaña</td>\n",
       "      <td>21</td>\n",
       "      <td>7665</td>\n",
       "      <td>Sinaloa</td>\n",
       "    </tr>\n",
       "  </tbody>\n",
       "</table>\n",
       "</div>"
      ],
      "text/plain": [
       "      Nombre Apellido  Edad  Edad en días Estado de origen\n",
       "0       Juan    Perez    23          8395        Zacatecas\n",
       "2     Jimena    Rosas    20          7300       Tamaulipas\n",
       "3  Alejandra  Saldaña    21          7665          Sinaloa"
      ]
     },
     "execution_count": 54,
     "metadata": {},
     "output_type": "execute_result"
    }
   ],
   "source": [
    "clase_estadistica[clase_estadistica['Edad']>=18]"
   ]
  },
  {
   "cell_type": "markdown",
   "id": "83106e50-8bf5-42fd-a75a-d8779dddd501",
   "metadata": {},
   "source": [
    "### Para ordenar"
   ]
  },
  {
   "cell_type": "code",
   "execution_count": 56,
   "id": "e296118d-2159-499d-9cb5-e16f7700e483",
   "metadata": {},
   "outputs": [
    {
     "data": {
      "text/html": [
       "<div>\n",
       "<style scoped>\n",
       "    .dataframe tbody tr th:only-of-type {\n",
       "        vertical-align: middle;\n",
       "    }\n",
       "\n",
       "    .dataframe tbody tr th {\n",
       "        vertical-align: top;\n",
       "    }\n",
       "\n",
       "    .dataframe thead th {\n",
       "        text-align: right;\n",
       "    }\n",
       "</style>\n",
       "<table border=\"1\" class=\"dataframe\">\n",
       "  <thead>\n",
       "    <tr style=\"text-align: right;\">\n",
       "      <th></th>\n",
       "      <th>Nombre</th>\n",
       "      <th>Apellido</th>\n",
       "      <th>Edad</th>\n",
       "      <th>Edad en días</th>\n",
       "      <th>Estado de origen</th>\n",
       "    </tr>\n",
       "  </thead>\n",
       "  <tbody>\n",
       "    <tr>\n",
       "      <th>0</th>\n",
       "      <td>Juan</td>\n",
       "      <td>Perez</td>\n",
       "      <td>23</td>\n",
       "      <td>8395</td>\n",
       "      <td>Zacatecas</td>\n",
       "    </tr>\n",
       "    <tr>\n",
       "      <th>3</th>\n",
       "      <td>Alejandra</td>\n",
       "      <td>Saldaña</td>\n",
       "      <td>21</td>\n",
       "      <td>7665</td>\n",
       "      <td>Sinaloa</td>\n",
       "    </tr>\n",
       "    <tr>\n",
       "      <th>2</th>\n",
       "      <td>Jimena</td>\n",
       "      <td>Rosas</td>\n",
       "      <td>20</td>\n",
       "      <td>7300</td>\n",
       "      <td>Tamaulipas</td>\n",
       "    </tr>\n",
       "    <tr>\n",
       "      <th>1</th>\n",
       "      <td>Raul</td>\n",
       "      <td>Gonzalez</td>\n",
       "      <td>17</td>\n",
       "      <td>6205</td>\n",
       "      <td>Nuevo Leon</td>\n",
       "    </tr>\n",
       "  </tbody>\n",
       "</table>\n",
       "</div>"
      ],
      "text/plain": [
       "      Nombre  Apellido  Edad  Edad en días Estado de origen\n",
       "0       Juan     Perez    23          8395        Zacatecas\n",
       "3  Alejandra   Saldaña    21          7665          Sinaloa\n",
       "2     Jimena     Rosas    20          7300       Tamaulipas\n",
       "1       Raul  Gonzalez    17          6205       Nuevo Leon"
      ]
     },
     "execution_count": 56,
     "metadata": {},
     "output_type": "execute_result"
    }
   ],
   "source": [
    "clase_estadistica.sort_values('Edad', ascending = False)"
   ]
  },
  {
   "cell_type": "code",
   "execution_count": 57,
   "id": "a5f0a575-18db-4177-b550-7100645e6099",
   "metadata": {},
   "outputs": [
    {
     "data": {
      "text/html": [
       "<div>\n",
       "<style scoped>\n",
       "    .dataframe tbody tr th:only-of-type {\n",
       "        vertical-align: middle;\n",
       "    }\n",
       "\n",
       "    .dataframe tbody tr th {\n",
       "        vertical-align: top;\n",
       "    }\n",
       "\n",
       "    .dataframe thead th {\n",
       "        text-align: right;\n",
       "    }\n",
       "</style>\n",
       "<table border=\"1\" class=\"dataframe\">\n",
       "  <thead>\n",
       "    <tr style=\"text-align: right;\">\n",
       "      <th></th>\n",
       "      <th>Nombre</th>\n",
       "      <th>Apellido</th>\n",
       "      <th>Edad</th>\n",
       "      <th>Edad en días</th>\n",
       "      <th>Estado de origen</th>\n",
       "    </tr>\n",
       "  </thead>\n",
       "  <tbody>\n",
       "    <tr>\n",
       "      <th>1</th>\n",
       "      <td>Raul</td>\n",
       "      <td>Gonzalez</td>\n",
       "      <td>17</td>\n",
       "      <td>6205</td>\n",
       "      <td>Nuevo Leon</td>\n",
       "    </tr>\n",
       "    <tr>\n",
       "      <th>0</th>\n",
       "      <td>Juan</td>\n",
       "      <td>Perez</td>\n",
       "      <td>23</td>\n",
       "      <td>8395</td>\n",
       "      <td>Zacatecas</td>\n",
       "    </tr>\n",
       "    <tr>\n",
       "      <th>2</th>\n",
       "      <td>Jimena</td>\n",
       "      <td>Rosas</td>\n",
       "      <td>20</td>\n",
       "      <td>7300</td>\n",
       "      <td>Tamaulipas</td>\n",
       "    </tr>\n",
       "    <tr>\n",
       "      <th>3</th>\n",
       "      <td>Alejandra</td>\n",
       "      <td>Saldaña</td>\n",
       "      <td>21</td>\n",
       "      <td>7665</td>\n",
       "      <td>Sinaloa</td>\n",
       "    </tr>\n",
       "  </tbody>\n",
       "</table>\n",
       "</div>"
      ],
      "text/plain": [
       "      Nombre  Apellido  Edad  Edad en días Estado de origen\n",
       "1       Raul  Gonzalez    17          6205       Nuevo Leon\n",
       "0       Juan     Perez    23          8395        Zacatecas\n",
       "2     Jimena     Rosas    20          7300       Tamaulipas\n",
       "3  Alejandra   Saldaña    21          7665          Sinaloa"
      ]
     },
     "execution_count": 57,
     "metadata": {},
     "output_type": "execute_result"
    }
   ],
   "source": [
    "clase_estadistica.sort_values(['Apellido', 'Nombre'], ascending = [True,True])"
   ]
  },
  {
   "cell_type": "code",
   "execution_count": 58,
   "id": "daad5632-20d9-499b-b7a5-50cfb4ad5171",
   "metadata": {},
   "outputs": [
    {
     "data": {
      "text/plain": [
       "20.25"
      ]
     },
     "execution_count": 58,
     "metadata": {},
     "output_type": "execute_result"
    }
   ],
   "source": [
    "clase_estadistica['Edad'].mean()"
   ]
  },
  {
   "cell_type": "code",
   "execution_count": 59,
   "id": "71e9e985-d9af-49b7-b412-81e27e4d1b60",
   "metadata": {},
   "outputs": [
    {
     "data": {
      "text/plain": [
       "6.25"
      ]
     },
     "execution_count": 59,
     "metadata": {},
     "output_type": "execute_result"
    }
   ],
   "source": [
    "clase_estadistica['Edad'].var(ddof = 1)"
   ]
  },
  {
   "cell_type": "code",
   "execution_count": 60,
   "id": "00674c85-0e24-40d9-9cff-e9cf7de80b25",
   "metadata": {},
   "outputs": [
    {
     "data": {
      "text/html": [
       "<div>\n",
       "<style scoped>\n",
       "    .dataframe tbody tr th:only-of-type {\n",
       "        vertical-align: middle;\n",
       "    }\n",
       "\n",
       "    .dataframe tbody tr th {\n",
       "        vertical-align: top;\n",
       "    }\n",
       "\n",
       "    .dataframe thead th {\n",
       "        text-align: right;\n",
       "    }\n",
       "</style>\n",
       "<table border=\"1\" class=\"dataframe\">\n",
       "  <thead>\n",
       "    <tr style=\"text-align: right;\">\n",
       "      <th></th>\n",
       "      <th>Nombre</th>\n",
       "      <th>Apellido</th>\n",
       "      <th>Edad</th>\n",
       "      <th>Edad en días</th>\n",
       "      <th>Estado de origen</th>\n",
       "    </tr>\n",
       "  </thead>\n",
       "  <tbody>\n",
       "    <tr>\n",
       "      <th>0</th>\n",
       "      <td>Juan</td>\n",
       "      <td>Perez</td>\n",
       "      <td>23</td>\n",
       "      <td>8395</td>\n",
       "      <td>Zacatecas</td>\n",
       "    </tr>\n",
       "    <tr>\n",
       "      <th>2</th>\n",
       "      <td>Jimena</td>\n",
       "      <td>Rosas</td>\n",
       "      <td>20</td>\n",
       "      <td>7300</td>\n",
       "      <td>Tamaulipas</td>\n",
       "    </tr>\n",
       "    <tr>\n",
       "      <th>3</th>\n",
       "      <td>Alejandra</td>\n",
       "      <td>Saldaña</td>\n",
       "      <td>21</td>\n",
       "      <td>7665</td>\n",
       "      <td>Sinaloa</td>\n",
       "    </tr>\n",
       "  </tbody>\n",
       "</table>\n",
       "</div>"
      ],
      "text/plain": [
       "      Nombre Apellido  Edad  Edad en días Estado de origen\n",
       "0       Juan    Perez    23          8395        Zacatecas\n",
       "2     Jimena    Rosas    20          7300       Tamaulipas\n",
       "3  Alejandra  Saldaña    21          7665          Sinaloa"
      ]
     },
     "execution_count": 60,
     "metadata": {},
     "output_type": "execute_result"
    }
   ],
   "source": [
    "clase_estadistica[clase_estadistica['Edad']>=18]"
   ]
  },
  {
   "cell_type": "code",
   "execution_count": 62,
   "id": "98f59826-e46d-4ec8-926a-31379bdfa941",
   "metadata": {},
   "outputs": [
    {
     "data": {
      "text/plain": [
       "21.333333333333332"
      ]
     },
     "execution_count": 62,
     "metadata": {},
     "output_type": "execute_result"
    }
   ],
   "source": [
    "clase_estadistica[clase_estadistica['Edad']>=18]['Edad'].mean()"
   ]
  },
  {
   "cell_type": "markdown",
   "id": "eea01777-51ea-496e-ae1f-9736ef629787",
   "metadata": {},
   "source": [
    "### Condicional"
   ]
  },
  {
   "cell_type": "code",
   "execution_count": 65,
   "id": "07e4e679-9301-45ea-86a1-f5b0bbf9fea8",
   "metadata": {},
   "outputs": [
    {
     "data": {
      "text/html": [
       "<div>\n",
       "<style scoped>\n",
       "    .dataframe tbody tr th:only-of-type {\n",
       "        vertical-align: middle;\n",
       "    }\n",
       "\n",
       "    .dataframe tbody tr th {\n",
       "        vertical-align: top;\n",
       "    }\n",
       "\n",
       "    .dataframe thead th {\n",
       "        text-align: right;\n",
       "    }\n",
       "</style>\n",
       "<table border=\"1\" class=\"dataframe\">\n",
       "  <thead>\n",
       "    <tr style=\"text-align: right;\">\n",
       "      <th></th>\n",
       "      <th>Nombre</th>\n",
       "      <th>Apellido</th>\n",
       "      <th>Edad</th>\n",
       "      <th>Edad en días</th>\n",
       "      <th>Estado de origen</th>\n",
       "      <th>Mayoría de edad</th>\n",
       "    </tr>\n",
       "  </thead>\n",
       "  <tbody>\n",
       "    <tr>\n",
       "      <th>0</th>\n",
       "      <td>Juan</td>\n",
       "      <td>Perez</td>\n",
       "      <td>23</td>\n",
       "      <td>8395</td>\n",
       "      <td>Zacatecas</td>\n",
       "      <td>Mayor de edad</td>\n",
       "    </tr>\n",
       "    <tr>\n",
       "      <th>1</th>\n",
       "      <td>Raul</td>\n",
       "      <td>Gonzalez</td>\n",
       "      <td>17</td>\n",
       "      <td>6205</td>\n",
       "      <td>Nuevo Leon</td>\n",
       "      <td>Menor de edad</td>\n",
       "    </tr>\n",
       "    <tr>\n",
       "      <th>2</th>\n",
       "      <td>Jimena</td>\n",
       "      <td>Rosas</td>\n",
       "      <td>20</td>\n",
       "      <td>7300</td>\n",
       "      <td>Tamaulipas</td>\n",
       "      <td>Mayor de edad</td>\n",
       "    </tr>\n",
       "    <tr>\n",
       "      <th>3</th>\n",
       "      <td>Alejandra</td>\n",
       "      <td>Saldaña</td>\n",
       "      <td>21</td>\n",
       "      <td>7665</td>\n",
       "      <td>Sinaloa</td>\n",
       "      <td>Mayor de edad</td>\n",
       "    </tr>\n",
       "  </tbody>\n",
       "</table>\n",
       "</div>"
      ],
      "text/plain": [
       "      Nombre  Apellido  Edad  Edad en días Estado de origen Mayoría de edad\n",
       "0       Juan     Perez    23          8395        Zacatecas   Mayor de edad\n",
       "1       Raul  Gonzalez    17          6205       Nuevo Leon   Menor de edad\n",
       "2     Jimena     Rosas    20          7300       Tamaulipas   Mayor de edad\n",
       "3  Alejandra   Saldaña    21          7665          Sinaloa   Mayor de edad"
      ]
     },
     "execution_count": 65,
     "metadata": {},
     "output_type": "execute_result"
    }
   ],
   "source": [
    "clase_estadistica['Mayoría de edad'] = np.where(clase_estadistica['Edad']>=18,'Mayor de edad', 'Menor de edad')\n",
    "clase_estadistica"
   ]
  },
  {
   "cell_type": "code",
   "execution_count": 67,
   "id": "c48641d1-c498-4bd9-b082-a4952a1acd91",
   "metadata": {},
   "outputs": [
    {
     "data": {
      "text/html": [
       "<div>\n",
       "<style scoped>\n",
       "    .dataframe tbody tr th:only-of-type {\n",
       "        vertical-align: middle;\n",
       "    }\n",
       "\n",
       "    .dataframe tbody tr th {\n",
       "        vertical-align: top;\n",
       "    }\n",
       "\n",
       "    .dataframe thead th {\n",
       "        text-align: right;\n",
       "    }\n",
       "</style>\n",
       "<table border=\"1\" class=\"dataframe\">\n",
       "  <thead>\n",
       "    <tr style=\"text-align: right;\">\n",
       "      <th></th>\n",
       "      <th>Nombre</th>\n",
       "      <th>Apellido</th>\n",
       "      <th>Edad</th>\n",
       "      <th>Edad en días</th>\n",
       "      <th>Estado de origen</th>\n",
       "      <th>Mayoría de edad</th>\n",
       "      <th>edad escolar</th>\n",
       "    </tr>\n",
       "  </thead>\n",
       "  <tbody>\n",
       "    <tr>\n",
       "      <th>0</th>\n",
       "      <td>Juan</td>\n",
       "      <td>Perez</td>\n",
       "      <td>23</td>\n",
       "      <td>8395</td>\n",
       "      <td>Zacatecas</td>\n",
       "      <td>Mayor de edad</td>\n",
       "      <td>estudia licenciatura</td>\n",
       "    </tr>\n",
       "    <tr>\n",
       "      <th>1</th>\n",
       "      <td>Raul</td>\n",
       "      <td>Gonzalez</td>\n",
       "      <td>17</td>\n",
       "      <td>6205</td>\n",
       "      <td>Nuevo Leon</td>\n",
       "      <td>Menor de edad</td>\n",
       "      <td>Preparatoria</td>\n",
       "    </tr>\n",
       "    <tr>\n",
       "      <th>2</th>\n",
       "      <td>Jimena</td>\n",
       "      <td>Rosas</td>\n",
       "      <td>20</td>\n",
       "      <td>7300</td>\n",
       "      <td>Tamaulipas</td>\n",
       "      <td>Mayor de edad</td>\n",
       "      <td>estudia licenciatura</td>\n",
       "    </tr>\n",
       "    <tr>\n",
       "      <th>3</th>\n",
       "      <td>Alejandra</td>\n",
       "      <td>Saldaña</td>\n",
       "      <td>21</td>\n",
       "      <td>7665</td>\n",
       "      <td>Sinaloa</td>\n",
       "      <td>Mayor de edad</td>\n",
       "      <td>estudia licenciatura</td>\n",
       "    </tr>\n",
       "  </tbody>\n",
       "</table>\n",
       "</div>"
      ],
      "text/plain": [
       "      Nombre  Apellido  Edad  Edad en días Estado de origen Mayoría de edad  \\\n",
       "0       Juan     Perez    23          8395        Zacatecas   Mayor de edad   \n",
       "1       Raul  Gonzalez    17          6205       Nuevo Leon   Menor de edad   \n",
       "2     Jimena     Rosas    20          7300       Tamaulipas   Mayor de edad   \n",
       "3  Alejandra   Saldaña    21          7665          Sinaloa   Mayor de edad   \n",
       "\n",
       "           edad escolar  \n",
       "0  estudia licenciatura  \n",
       "1          Preparatoria  \n",
       "2  estudia licenciatura  \n",
       "3  estudia licenciatura  "
      ]
     },
     "execution_count": 67,
     "metadata": {},
     "output_type": "execute_result"
    }
   ],
   "source": [
    "#Ahora con mas condiciones\n",
    "conditions = [clase_estadistica['Edad'] <= 17,\n",
    "              clase_estadistica['Edad'] <= 23,\n",
    "              clase_estadistica['Edad'] > 23]\n",
    "choices = ['Preparatoria', 'estudia licenciatura', 'egresado']\n",
    "clase_estadistica['edad escolar'] = np.select(conditions, choices, default = 'Invalid')\n",
    "clase_estadistica"
   ]
  }
 ],
 "metadata": {
  "kernelspec": {
   "display_name": "Python 3 (ipykernel)",
   "language": "python",
   "name": "python3"
  },
  "language_info": {
   "codemirror_mode": {
    "name": "ipython",
    "version": 3
   },
   "file_extension": ".py",
   "mimetype": "text/x-python",
   "name": "python",
   "nbconvert_exporter": "python",
   "pygments_lexer": "ipython3",
   "version": "3.9.13"
  }
 },
 "nbformat": 4,
 "nbformat_minor": 5
}
