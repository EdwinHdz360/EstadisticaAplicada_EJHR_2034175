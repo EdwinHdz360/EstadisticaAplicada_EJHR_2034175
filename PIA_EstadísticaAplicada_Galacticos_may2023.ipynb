{
 "cells": [
  {
   "cell_type": "markdown",
   "id": "f80deedd",
   "metadata": {},
   "source": [
    "# Estadística Aplicada\n",
    "## PIA Pronósticos de Metrorrey\n",
    "## Estadística Aplicada\n",
    "### Equipo: Los Galácticos\n",
    "#### 2034187 Acosta de Lara David Denzel \n",
    "#### 1842489 Castellanos Flores Geraldy \n",
    "#### 1851389 Garza del Río Evelyn \n",
    "#### 2034175 Hernández Rodríguez Edwin Javier\n",
    "### 16 mayo de 2023"
   ]
  },
  {
   "cell_type": "markdown",
   "id": "2912e6ab",
   "metadata": {},
   "source": [
    "### Introducción"
   ]
  },
  {
   "cell_type": "markdown",
   "id": "937780e2",
   "metadata": {},
   "source": [
    "La serie de tiempo a analizar tiene como datos a la cantidad de usuarios que utilizan el transporte subterráneo para llegar a sus destinos. Dicha base de datos recaba la información desde enero del año 1995 y su límite es en diciembre del año 2021. La frecuencia de estos datos es mensual así como resaltar que la cantidad de usuarios por mes, se encuentre en 'miles'.\n",
    "\n",
    "En medida que ha pasado el tiempo, la ciudad de Monterrey y toda su área metropolitana han crecido económica y demográficamente en la cantidad de personas que viven en los alrededores, por lo que el transporte público ha elevado su popularidad y uso, el metro al ser un transporte \"económico\" y rápido, ha sido la preferencia de miles de usuarios que lo usan como medio para llegar a su casa, trabajo, escuela o cualquier otro destino, por lo que se espera que la cantidad de personas que lo usen vaya en aumento, a excepción del inicio de la pandemia que fue cuando se tomaron medidas estrictas.\n",
    "\n",
    "A continuación se graficará el comportamiento del uso del metro a lo largo de los años."
   ]
  },
  {
   "cell_type": "code",
   "execution_count": 1,
   "id": "38981e3a",
   "metadata": {},
   "outputs": [],
   "source": [
    "import pandas as pd\n",
    "import numpy as np\n",
    "import matplotlib.pyplot as plt\n",
    "%matplotlib inline"
   ]
  },
  {
   "cell_type": "code",
   "execution_count": 2,
   "id": "ea98cc1a",
   "metadata": {},
   "outputs": [],
   "source": [
    "metrorrey = pd.read_csv('pasajeros_metrorrey.csv')"
   ]
  },
  {
   "cell_type": "code",
   "execution_count": 3,
   "id": "65ac9bee",
   "metadata": {},
   "outputs": [
    {
     "data": {
      "text/html": [
       "<div>\n",
       "<style scoped>\n",
       "    .dataframe tbody tr th:only-of-type {\n",
       "        vertical-align: middle;\n",
       "    }\n",
       "\n",
       "    .dataframe tbody tr th {\n",
       "        vertical-align: top;\n",
       "    }\n",
       "\n",
       "    .dataframe thead th {\n",
       "        text-align: right;\n",
       "    }\n",
       "</style>\n",
       "<table border=\"1\" class=\"dataframe\">\n",
       "  <thead>\n",
       "    <tr style=\"text-align: right;\">\n",
       "      <th></th>\n",
       "      <th>Periodos</th>\n",
       "      <th>miles_pasajeros_month</th>\n",
       "    </tr>\n",
       "  </thead>\n",
       "  <tbody>\n",
       "    <tr>\n",
       "      <th>0</th>\n",
       "      <td>1995/01</td>\n",
       "      <td>3439.0</td>\n",
       "    </tr>\n",
       "    <tr>\n",
       "      <th>1</th>\n",
       "      <td>1995/02</td>\n",
       "      <td>2879.0</td>\n",
       "    </tr>\n",
       "    <tr>\n",
       "      <th>2</th>\n",
       "      <td>1995/03</td>\n",
       "      <td>3103.0</td>\n",
       "    </tr>\n",
       "    <tr>\n",
       "      <th>3</th>\n",
       "      <td>1995/04</td>\n",
       "      <td>3491.0</td>\n",
       "    </tr>\n",
       "    <tr>\n",
       "      <th>4</th>\n",
       "      <td>1995/05</td>\n",
       "      <td>3109.0</td>\n",
       "    </tr>\n",
       "  </tbody>\n",
       "</table>\n",
       "</div>"
      ],
      "text/plain": [
       "  Periodos  miles_pasajeros_month\n",
       "0  1995/01                 3439.0\n",
       "1  1995/02                 2879.0\n",
       "2  1995/03                 3103.0\n",
       "3  1995/04                 3491.0\n",
       "4  1995/05                 3109.0"
      ]
     },
     "execution_count": 3,
     "metadata": {},
     "output_type": "execute_result"
    }
   ],
   "source": [
    "metrorrey.head()"
   ]
  },
  {
   "cell_type": "code",
   "execution_count": 4,
   "id": "2aedeba5",
   "metadata": {},
   "outputs": [],
   "source": [
    "#convertimos la variable fecha en 'datetime'\n",
    "metrorrey['Periodos'] = pd.to_datetime(metrorrey['Periodos'], format = '%Y/%m') "
   ]
  },
  {
   "cell_type": "code",
   "execution_count": 5,
   "id": "ce10f97b",
   "metadata": {},
   "outputs": [],
   "source": [
    "metrorrey = metrorrey.set_index('Periodos')"
   ]
  },
  {
   "cell_type": "code",
   "execution_count": 6,
   "id": "67ff0918",
   "metadata": {},
   "outputs": [
    {
     "data": {
      "text/plain": [
       "DatetimeIndex(['1995-01-01', '1995-02-01', '1995-03-01', '1995-04-01',\n",
       "               '1995-05-01', '1995-06-01', '1995-07-01', '1995-08-01',\n",
       "               '1995-09-01', '1995-10-01',\n",
       "               ...\n",
       "               '2021-03-01', '2021-04-01', '2021-05-01', '2021-06-01',\n",
       "               '2021-07-01', '2021-08-01', '2021-09-01', '2021-10-01',\n",
       "               '2021-11-01', '2021-12-01'],\n",
       "              dtype='datetime64[ns]', name='Periodos', length=324, freq='MS')"
      ]
     },
     "execution_count": 6,
     "metadata": {},
     "output_type": "execute_result"
    }
   ],
   "source": [
    "metrorrey.index.freq = 'MS'\n",
    "metrorrey.index #debería decir formato mensual"
   ]
  },
  {
   "cell_type": "code",
   "execution_count": 7,
   "id": "4bc918b0",
   "metadata": {
    "scrolled": true
   },
   "outputs": [
    {
     "data": {
      "image/png": "[encoded data removed]",
      "text/plain": [
       "<Figure size 864x432 with 1 Axes>"
      ]
     },
     "metadata": {
      "needs_background": "light"
     },
     "output_type": "display_data"
    }
   ],
   "source": [
    "metrorrey['miles_pasajeros_month'].plot(figsize=(12,6))\n",
    "plt.title('Miles de pasajeros de metrorrey 1995-2021')\n",
    "plt.ylabel('miles')\n",
    "plt.xlabel('meses')\n",
    "plt.show()"
   ]
  },
  {
   "cell_type": "markdown",
   "id": "c3d3e098",
   "metadata": {},
   "source": [
    "Se puede observar una tendencia positiva hasta el primer trimestre del 2020 por lo cual podemos descartar que haya estacionalidad en la serie. Para complementar el análisis preliminar, tenemos las siguientes observaciones:\n",
    "- Se obtuvo un incremento significativo en los usuarios del metro a inicios del 2009, esto lo podemos atribuir a la ampliación que tuvo una de las líneas del metro la cual conectó hasta el municipio de General Escobedo.\n",
    "- La caída que hubo en Abril del 2020 fue consecuencia de la emergencia sanitaria por Covid-19 ya que se decidieron reducir los aforos en locales, empresas y en el transporte público incluido el metro."
   ]
  },
  {
   "cell_type": "markdown",
   "id": "5822075a",
   "metadata": {},
   "source": [
    "### Propósito del pronóstico"
   ]
  },
  {
   "cell_type": "markdown",
   "id": "00e5b6ae",
   "metadata": {},
   "source": [
    "Es de interés para Metrorrey el conocer la cantidad de pasajeros que se espera en los próximos meses, ya que en base a esto se pueden tomar medidas como aumentar la frecuencia de tiempo que hay de espera entre cada tren en las estaciones o incluso, la cantidad de vagones, con el fin de proporcionar el mejor servicio a los usuarios.\n",
    "\n",
    "Otra razón para conocere el pronóstico es por si Metrorrey planea aplicar un aumento a la tarifa del metro como ya ocurrió en Junio del 2022. Ya que si el objetivo es hacer una recaudación para aplicarla en otras obras del metro como lo es la construcción de las siguientes 3 líneas del metro, según lo pronosticado se podría determinar la cantidad de dinero \"extra\"."
   ]
  },
  {
   "cell_type": "markdown",
   "id": "ffa51847",
   "metadata": {},
   "source": [
    "### Estadísticas Descriptivas"
   ]
  },
  {
   "cell_type": "code",
   "execution_count": 8,
   "id": "94afa139",
   "metadata": {},
   "outputs": [
    {
     "data": {
      "text/plain": [
       "8477.41"
      ]
     },
     "execution_count": 8,
     "metadata": {},
     "output_type": "execute_result"
    }
   ],
   "source": [
    "prom_usuarios =round(metrorrey['miles_pasajeros_month'].mean(),2)\n",
    "prom_usuarios"
   ]
  },
  {
   "cell_type": "markdown",
   "id": "12c7f58d",
   "metadata": {},
   "source": [
    "El promedio de usuarios mensuales desde 1995 hasta 2021 ha sido de 8,477.41 miles de personas.\n",
    "\n",
    "Como esta estadística abarca demasiado de tiempo, se hará un promedio del 2015-2019 y del 2020 en adelante, esto para comparar como cambio el promedio a consecuencia del Covid-19"
   ]
  },
  {
   "cell_type": "code",
   "execution_count": 9,
   "id": "1a004299",
   "metadata": {},
   "outputs": [
    {
     "name": "stdout",
     "output_type": "stream",
     "text": [
      "El promedio mensual de usuarios del metro antes de covid fue de: 15151.16, mientras que despues de covid se ha registrado el promedio de: 9148.76\n"
     ]
    }
   ],
   "source": [
    "bf_covid = round(metrorrey.loc['2015/01':'2019/12', 'miles_pasajeros_month'].mean(),2)\n",
    "af_covid = round(metrorrey.loc['2020/01':, 'miles_pasajeros_month'].mean(),2)\n",
    "print(f'El promedio mensual de usuarios del metro antes de covid fue de: {bf_covid}, mientras que despues de covid se ha registrado el promedio de: {af_covid}')"
   ]
  },
  {
   "cell_type": "code",
   "execution_count": 10,
   "id": "cbe9fb5d",
   "metadata": {},
   "outputs": [
    {
     "name": "stdout",
     "output_type": "stream",
     "text": [
      "Index(['miles_pasajeros_month'], dtype='object')\n"
     ]
    }
   ],
   "source": [
    "print(metrorrey.columns)"
   ]
  },
  {
   "cell_type": "markdown",
   "id": "275808af",
   "metadata": {},
   "source": [
    "### Media Movil"
   ]
  },
  {
   "cell_type": "markdown",
   "id": "28e4d904",
   "metadata": {},
   "source": [
    "Para observar mejor cual ha sido el comportamiento de la cantidad de usuarios del metro, aplicaremos el promedio móvil para 3 y 6 periodos"
   ]
  },
  {
   "cell_type": "code",
   "execution_count": 11,
   "id": "442c134d",
   "metadata": {},
   "outputs": [],
   "source": [
    "metrorrey['PMS-3'] = metrorrey['miles_pasajeros_month'].rolling(window=3).mean()\n",
    "metrorrey['PMS-6'] = metrorrey['miles_pasajeros_month'].rolling(window=6).mean()"
   ]
  },
  {
   "cell_type": "code",
   "execution_count": 25,
   "id": "31090bed",
   "metadata": {},
   "outputs": [
    {
     "data": {
      "text/plain": [
       "<matplotlib.legend.Legend at 0x23afcacdfa0>"
      ]
     },
     "execution_count": 25,
     "metadata": {},
     "output_type": "execute_result"
    },
    {
     "data": {
      "image/png": "[encoded data removed]",
      "text/plain": [
       "<Figure size 432x288 with 1 Axes>"
      ]
     },
     "metadata": {
      "needs_background": "light"
     },
     "output_type": "display_data"
    }
   ],
   "source": [
    "metrorrey['PMS-3'].plot(color = 'blue')\n",
    "metrorrey['PMS-6'].plot(color='red')\n",
    "plt.title('Miles de pasajeros de metrorrey 1995-2021')\n",
    "plt.ylabel('Miles')\n",
    "plt.xlabel('Meses')\n",
    "plt.legend()"
   ]
  },
  {
   "cell_type": "markdown",
   "id": "bfbf9b57",
   "metadata": {},
   "source": [
    "### Componente Estacional"
   ]
  },
  {
   "cell_type": "markdown",
   "id": "e251d225",
   "metadata": {},
   "source": [
    "Se usará la descomposición estacional para obtener el componente estacional y luego observar la serie desestacionalizada.\n",
    "\n",
    "Comenzaremos observando los 4 elementos:\n",
    "- Cantidad de pasajeros\n",
    "- Tendencia\n",
    "- Estacionalidad\n",
    "- Residuos"
   ]
  },
  {
   "cell_type": "code",
   "execution_count": 13,
   "id": "8f199961",
   "metadata": {},
   "outputs": [],
   "source": [
    "#librerias especializadas\n",
    "from statsmodels.tsa.api import seasonal_decompose"
   ]
  },
  {
   "cell_type": "code",
   "execution_count": 14,
   "id": "fb1a57a0",
   "metadata": {},
   "outputs": [
    {
     "data": {
      "image/png": "[encoded data removed]",
      "text/plain": [
       "<Figure size 432x288 with 4 Axes>"
      ]
     },
     "metadata": {
      "needs_background": "light"
     },
     "output_type": "display_data"
    }
   ],
   "source": [
    "serie_metrorrey = seasonal_decompose(metrorrey['miles_pasajeros_month'], model='ad')\n",
    "serie_metrorrey.plot()\n",
    "plt.show()"
   ]
  },
  {
   "cell_type": "markdown",
   "id": "57c76cd2",
   "metadata": {},
   "source": [
    "Ahora obtendremos el componente estacional:"
   ]
  },
  {
   "cell_type": "code",
   "execution_count": 15,
   "id": "66e8b866",
   "metadata": {
    "scrolled": true
   },
   "outputs": [
    {
     "data": {
      "text/plain": [
       "Periodos\n",
       "2019-04-01   -535.309943\n",
       "2021-04-01   -535.309943\n",
       "2020-04-01   -535.309943\n",
       "2019-01-01   -343.468678\n",
       "2021-01-01   -343.468678\n",
       "2020-01-01   -343.468678\n",
       "2019-02-01   -312.674499\n",
       "2021-02-01   -312.674499\n",
       "2020-02-01   -312.674499\n",
       "2021-06-01   -186.549377\n",
       "2020-06-01   -186.549377\n",
       "2019-06-01   -186.549377\n",
       "2021-07-01    -75.792159\n",
       "2019-07-01    -75.792159\n",
       "2020-07-01    -75.792159\n",
       "2019-12-01    -52.439037\n",
       "2020-12-01    -52.439037\n",
       "2021-12-01    -52.439037\n",
       "2021-09-01    -20.045927\n",
       "2020-09-01    -20.045927\n",
       "2019-09-01    -20.045927\n",
       "2021-05-01    154.851972\n",
       "2019-05-01    154.851972\n",
       "2020-05-01    154.851972\n",
       "2021-11-01    185.096948\n",
       "2019-11-01    185.096948\n",
       "2020-11-01    185.096948\n",
       "2019-03-01    218.389504\n",
       "2020-03-01    218.389504\n",
       "2021-03-01    218.389504\n",
       "2020-08-01    360.291710\n",
       "2021-08-01    360.291710\n",
       "2019-08-01    360.291710\n",
       "2020-10-01    607.649485\n",
       "2019-10-01    607.649485\n",
       "2021-10-01    607.649485\n",
       "Name: seasonal, dtype: float64"
      ]
     },
     "execution_count": 15,
     "metadata": {},
     "output_type": "execute_result"
    }
   ],
   "source": [
    "serie_metrorrey.seasonal.loc['2019/01':].sort_values()"
   ]
  },
  {
   "cell_type": "markdown",
   "id": "83dfb4ea",
   "metadata": {},
   "source": [
    "Lo que nos da a entender que en su mayoría, los tiempos donde menos pasajeros hubo en el metro fue en los meses despues de Marzo del 2020 donde dio inicio la pandemia por Covid-19.\n",
    "\n",
    "Ahora desestacionalizaremos la serie:"
   ]
  },
  {
   "cell_type": "code",
   "execution_count": 16,
   "id": "944529ad",
   "metadata": {},
   "outputs": [],
   "source": [
    "metrorrey['pas_desestacionalizado'] = metrorrey['miles_pasajeros_month']-serie_metrorrey.seasonal"
   ]
  },
  {
   "cell_type": "code",
   "execution_count": 17,
   "id": "0a135202",
   "metadata": {},
   "outputs": [
    {
     "data": {
      "image/png": "[encoded data removed]",
      "text/plain": [
       "<Figure size 432x288 with 1 Axes>"
      ]
     },
     "metadata": {
      "needs_background": "light"
     },
     "output_type": "display_data"
    }
   ],
   "source": [
    "metrorrey['pas_desestacionalizado'].plot()\n",
    "plt.title('Serie desestacionalizada de pasajeros de metrorrey')\n",
    "plt.show()"
   ]
  },
  {
   "cell_type": "markdown",
   "id": "4b0f7c60",
   "metadata": {},
   "source": [
    "### Análisis ARIMA"
   ]
  },
  {
   "cell_type": "markdown",
   "id": "c3ad9653",
   "metadata": {},
   "source": [
    "Como ya se graficó anteriormente, se descartó que la serie es estacionaria, sin embargo lo demostraremos estadísticamente verificando si es, o no, un proceso estacionario mediante la prueba de dickey fuller (también conocida como prueba de raíz unitaria):"
   ]
  },
  {
   "cell_type": "code",
   "execution_count": 18,
   "id": "6a2843d1",
   "metadata": {},
   "outputs": [],
   "source": [
    "# las librerias de series de tiempo:\n",
    "from statsmodels.graphics.tsaplots import plot_acf\n",
    "from statsmodels.graphics.tsaplots import plot_pacf\n",
    "from statsmodels.tsa.stattools import adfuller\n",
    "\n",
    "from statsmodels.tsa.arima.model import ARIMA"
   ]
  },
  {
   "cell_type": "code",
   "execution_count": 19,
   "id": "accc7958",
   "metadata": {},
   "outputs": [
    {
     "name": "stdout",
     "output_type": "stream",
     "text": [
      "No se rechaza H0, la serie es NO estacionaria\n"
     ]
    }
   ],
   "source": [
    "ADF_test = adfuller(metrorrey['miles_pasajeros_month'])\n",
    "#H0: la serie es NO ESTACIONARIA\n",
    "\n",
    "#Significancia 0.05\n",
    "alpha = 0.05\n",
    "if ADF_test[1] < alpha:\n",
    "    print('Se rechaza H0, la serie es estacionaria')\n",
    "else:\n",
    "    print('No se rechaza H0, la serie es NO estacionaria')"
   ]
  },
  {
   "cell_type": "markdown",
   "id": "816f2d0f",
   "metadata": {},
   "source": [
    "La serie es NO estacionaria, por lo que la diferenciaremos una vez"
   ]
  },
  {
   "cell_type": "code",
   "execution_count": 20,
   "id": "b718193a",
   "metadata": {},
   "outputs": [
    {
     "data": {
      "text/html": [
       "<div>\n",
       "<style scoped>\n",
       "    .dataframe tbody tr th:only-of-type {\n",
       "        vertical-align: middle;\n",
       "    }\n",
       "\n",
       "    .dataframe tbody tr th {\n",
       "        vertical-align: top;\n",
       "    }\n",
       "\n",
       "    .dataframe thead th {\n",
       "        text-align: right;\n",
       "    }\n",
       "</style>\n",
       "<table border=\"1\" class=\"dataframe\">\n",
       "  <thead>\n",
       "    <tr style=\"text-align: right;\">\n",
       "      <th></th>\n",
       "      <th>miles_pasajeros_month</th>\n",
       "      <th>PMS-3</th>\n",
       "      <th>PMS-6</th>\n",
       "      <th>pas_desestacionalizado</th>\n",
       "      <th>pasajeros_diff</th>\n",
       "    </tr>\n",
       "    <tr>\n",
       "      <th>Periodos</th>\n",
       "      <th></th>\n",
       "      <th></th>\n",
       "      <th></th>\n",
       "      <th></th>\n",
       "      <th></th>\n",
       "    </tr>\n",
       "  </thead>\n",
       "  <tbody>\n",
       "    <tr>\n",
       "      <th>1995-01-01</th>\n",
       "      <td>3439.0</td>\n",
       "      <td>NaN</td>\n",
       "      <td>NaN</td>\n",
       "      <td>3782.468678</td>\n",
       "      <td>NaN</td>\n",
       "    </tr>\n",
       "    <tr>\n",
       "      <th>1995-02-01</th>\n",
       "      <td>2879.0</td>\n",
       "      <td>NaN</td>\n",
       "      <td>NaN</td>\n",
       "      <td>3191.674499</td>\n",
       "      <td>-560.0</td>\n",
       "    </tr>\n",
       "    <tr>\n",
       "      <th>1995-03-01</th>\n",
       "      <td>3103.0</td>\n",
       "      <td>3140.333333</td>\n",
       "      <td>NaN</td>\n",
       "      <td>2884.610496</td>\n",
       "      <td>224.0</td>\n",
       "    </tr>\n",
       "    <tr>\n",
       "      <th>1995-04-01</th>\n",
       "      <td>3491.0</td>\n",
       "      <td>3157.666667</td>\n",
       "      <td>NaN</td>\n",
       "      <td>4026.309943</td>\n",
       "      <td>388.0</td>\n",
       "    </tr>\n",
       "    <tr>\n",
       "      <th>1995-05-01</th>\n",
       "      <td>3109.0</td>\n",
       "      <td>3234.333333</td>\n",
       "      <td>NaN</td>\n",
       "      <td>2954.148028</td>\n",
       "      <td>-382.0</td>\n",
       "    </tr>\n",
       "  </tbody>\n",
       "</table>\n",
       "</div>"
      ],
      "text/plain": [
       "            miles_pasajeros_month        PMS-3  PMS-6  pas_desestacionalizado  \\\n",
       "Periodos                                                                        \n",
       "1995-01-01                 3439.0          NaN    NaN             3782.468678   \n",
       "1995-02-01                 2879.0          NaN    NaN             3191.674499   \n",
       "1995-03-01                 3103.0  3140.333333    NaN             2884.610496   \n",
       "1995-04-01                 3491.0  3157.666667    NaN             4026.309943   \n",
       "1995-05-01                 3109.0  3234.333333    NaN             2954.148028   \n",
       "\n",
       "            pasajeros_diff  \n",
       "Periodos                    \n",
       "1995-01-01             NaN  \n",
       "1995-02-01          -560.0  \n",
       "1995-03-01           224.0  \n",
       "1995-04-01           388.0  \n",
       "1995-05-01          -382.0  "
      ]
     },
     "execution_count": 20,
     "metadata": {},
     "output_type": "execute_result"
    }
   ],
   "source": [
    "metrorrey['pasajeros_diff'] = metrorrey['miles_pasajeros_month'].diff()\n",
    "metrorrey.head()"
   ]
  },
  {
   "cell_type": "markdown",
   "id": "f33e7742",
   "metadata": {},
   "source": [
    "Una vez diferenciada, verificamos si ya es estacionaria:"
   ]
  },
  {
   "cell_type": "code",
   "execution_count": 21,
   "id": "37cdff10",
   "metadata": {},
   "outputs": [
    {
     "name": "stdout",
     "output_type": "stream",
     "text": [
      "Se rechaza H0, la serie es estacionaria\n"
     ]
    }
   ],
   "source": [
    "ADF_test1 = adfuller(metrorrey['pasajeros_diff'].dropna())\n",
    "#H0: la serie es NO ESTACIONARIA\n",
    "\n",
    "#Significancia 0.05\n",
    "alpha = 0.05\n",
    "if ADF_test1[1] < alpha:\n",
    "    print('Se rechaza H0, la serie es estacionaria')\n",
    "else:\n",
    "    print('No se rechaza H0, la serie es NO estacionaria')"
   ]
  },
  {
   "cell_type": "markdown",
   "id": "be496698",
   "metadata": {},
   "source": [
    "La serie ya es estacionaria, ahora realizaremos las gráficas de autocorrelación (ACF) y autocorrelación parcial (PACF)"
   ]
  },
  {
   "cell_type": "code",
   "execution_count": 22,
   "id": "44523042",
   "metadata": {
    "scrolled": true
   },
   "outputs": [
    {
     "data": {
      "image/png": "[encoded data removed]",
      "text/plain": [
       "<Figure size 864x288 with 2 Axes>"
      ]
     },
     "metadata": {
      "needs_background": "light"
     },
     "output_type": "display_data"
    }
   ],
   "source": [
    "fig, ax =plt.subplots(1,2, figsize =(12,4))\n",
    "## subgrafica 0\n",
    "plot_acf(metrorrey['pasajeros_diff'].dropna(), zero=False, lags=40, ax=ax[0], title= 'Función de autocorrelación ACF')\n",
    "ax[0].set_ylim(-1,1)\n",
    "## subgrafica 1\n",
    "plot_pacf(metrorrey['pasajeros_diff'].dropna(), zero=False, lags=40, ax=ax[1], title= 'Función de autocorrelación parcial PACF')\n",
    "ax[1].set_ylim(-1,1)\n",
    "plt.show()"
   ]
  },
  {
   "cell_type": "markdown",
   "id": "5986745a",
   "metadata": {},
   "source": [
    "A pesar de tener algunos valores atipicos principalmente en la autocorrelación, se puede decir que la serie de tiempo sigue un procceso ARMA(p,q) ya que la manera en que decienden los valores no llega a ser abrupta ni es del todo de una manera gradual, dicho \"patrón\" se aprecia mejor en la autocorrelación parcial, por lo que aproxima mas a un proceso ARMA(p,q).\n",
    "- https://www.youtube.com/watch?v=aiF5nllESck"
   ]
  },
  {
   "cell_type": "markdown",
   "id": "39ddaf6d",
   "metadata": {},
   "source": [
    "### Estimador de modelos"
   ]
  },
  {
   "cell_type": "markdown",
   "id": "1a9f98a4",
   "metadata": {},
   "source": [
    "Ahora mediante un ciclo for, obtendremos cual será el modelo óptimo para nuestra serie de tiempo"
   ]
  },
  {
   "cell_type": "code",
   "execution_count": 26,
   "id": "3060f211",
   "metadata": {},
   "outputs": [
    {
     "name": "stdout",
     "output_type": "stream",
     "text": [
      "AR: 0, MA: 0\n",
      "AR: 0, MA: 1\n",
      "AR: 0, MA: 2\n",
      "AR: 0, MA: 3\n",
      "AR: 0, MA: 4\n",
      "AR: 0, MA: 5\n",
      "AR: 0, MA: 6\n",
      "AR: 0, MA: 7\n",
      "AR: 0, MA: 8\n",
      "AR: 0, MA: 9\n",
      "AR: 1, MA: 0\n",
      "AR: 1, MA: 1\n",
      "AR: 1, MA: 2\n",
      "AR: 1, MA: 3\n"
     ]
    },
    {
     "name": "stderr",
     "output_type": "stream",
     "text": [
      "G:\\Aplicaciones\\Anaconda\\lib\\site-packages\\statsmodels\\tsa\\statespace\\sarimax.py:966: UserWarning: Non-stationary starting autoregressive parameters found. Using zeros as starting parameters.\n",
      "  warn('Non-stationary starting autoregressive parameters'\n",
      "G:\\Aplicaciones\\Anaconda\\lib\\site-packages\\statsmodels\\tsa\\statespace\\sarimax.py:978: UserWarning: Non-invertible starting MA parameters found. Using zeros as starting parameters.\n",
      "  warn('Non-invertible starting MA parameters found.'\n"
     ]
    },
    {
     "name": "stdout",
     "output_type": "stream",
     "text": [
      "AR: 1, MA: 4\n",
      "AR: 1, MA: 5\n",
      "AR: 1, MA: 6\n",
      "AR: 1, MA: 7\n",
      "AR: 1, MA: 8\n",
      "AR: 1, MA: 9\n",
      "AR: 2, MA: 0\n",
      "AR: 2, MA: 1\n",
      "AR: 2, MA: 2\n",
      "AR: 2, MA: 3\n",
      "AR: 2, MA: 4\n"
     ]
    },
    {
     "name": "stderr",
     "output_type": "stream",
     "text": [
      "G:\\Aplicaciones\\Anaconda\\lib\\site-packages\\statsmodels\\base\\model.py:566: ConvergenceWarning: Maximum Likelihood optimization failed to converge. Check mle_retvals\n",
      "  warnings.warn(\"Maximum Likelihood optimization failed to \"\n"
     ]
    },
    {
     "name": "stdout",
     "output_type": "stream",
     "text": [
      "AR: 2, MA: 5\n"
     ]
    },
    {
     "name": "stderr",
     "output_type": "stream",
     "text": [
      "G:\\Aplicaciones\\Anaconda\\lib\\site-packages\\statsmodels\\base\\model.py:566: ConvergenceWarning: Maximum Likelihood optimization failed to converge. Check mle_retvals\n",
      "  warnings.warn(\"Maximum Likelihood optimization failed to \"\n"
     ]
    },
    {
     "name": "stdout",
     "output_type": "stream",
     "text": [
      "AR: 2, MA: 6\n"
     ]
    },
    {
     "name": "stderr",
     "output_type": "stream",
     "text": [
      "G:\\Aplicaciones\\Anaconda\\lib\\site-packages\\statsmodels\\base\\model.py:566: ConvergenceWarning: Maximum Likelihood optimization failed to converge. Check mle_retvals\n",
      "  warnings.warn(\"Maximum Likelihood optimization failed to \"\n"
     ]
    },
    {
     "name": "stdout",
     "output_type": "stream",
     "text": [
      "AR: 2, MA: 7\n"
     ]
    },
    {
     "name": "stderr",
     "output_type": "stream",
     "text": [
      "G:\\Aplicaciones\\Anaconda\\lib\\site-packages\\statsmodels\\base\\model.py:566: ConvergenceWarning: Maximum Likelihood optimization failed to converge. Check mle_retvals\n",
      "  warnings.warn(\"Maximum Likelihood optimization failed to \"\n"
     ]
    },
    {
     "name": "stdout",
     "output_type": "stream",
     "text": [
      "AR: 2, MA: 8\n"
     ]
    },
    {
     "name": "stderr",
     "output_type": "stream",
     "text": [
      "G:\\Aplicaciones\\Anaconda\\lib\\site-packages\\statsmodels\\base\\model.py:566: ConvergenceWarning: Maximum Likelihood optimization failed to converge. Check mle_retvals\n",
      "  warnings.warn(\"Maximum Likelihood optimization failed to \"\n"
     ]
    },
    {
     "name": "stdout",
     "output_type": "stream",
     "text": [
      "AR: 2, MA: 9\n"
     ]
    },
    {
     "name": "stderr",
     "output_type": "stream",
     "text": [
      "G:\\Aplicaciones\\Anaconda\\lib\\site-packages\\statsmodels\\base\\model.py:566: ConvergenceWarning: Maximum Likelihood optimization failed to converge. Check mle_retvals\n",
      "  warnings.warn(\"Maximum Likelihood optimization failed to \"\n"
     ]
    },
    {
     "name": "stdout",
     "output_type": "stream",
     "text": [
      "AR: 3, MA: 0\n",
      "AR: 3, MA: 1\n",
      "AR: 3, MA: 2\n",
      "AR: 3, MA: 3\n"
     ]
    },
    {
     "name": "stderr",
     "output_type": "stream",
     "text": [
      "G:\\Aplicaciones\\Anaconda\\lib\\site-packages\\statsmodels\\base\\model.py:566: ConvergenceWarning: Maximum Likelihood optimization failed to converge. Check mle_retvals\n",
      "  warnings.warn(\"Maximum Likelihood optimization failed to \"\n"
     ]
    },
    {
     "name": "stdout",
     "output_type": "stream",
     "text": [
      "AR: 3, MA: 4\n"
     ]
    },
    {
     "name": "stderr",
     "output_type": "stream",
     "text": [
      "G:\\Aplicaciones\\Anaconda\\lib\\site-packages\\statsmodels\\base\\model.py:566: ConvergenceWarning: Maximum Likelihood optimization failed to converge. Check mle_retvals\n",
      "  warnings.warn(\"Maximum Likelihood optimization failed to \"\n"
     ]
    },
    {
     "name": "stdout",
     "output_type": "stream",
     "text": [
      "AR: 3, MA: 5\n"
     ]
    },
    {
     "name": "stderr",
     "output_type": "stream",
     "text": [
      "G:\\Aplicaciones\\Anaconda\\lib\\site-packages\\statsmodels\\base\\model.py:566: ConvergenceWarning: Maximum Likelihood optimization failed to converge. Check mle_retvals\n",
      "  warnings.warn(\"Maximum Likelihood optimization failed to \"\n"
     ]
    },
    {
     "name": "stdout",
     "output_type": "stream",
     "text": [
      "AR: 3, MA: 6\n"
     ]
    },
    {
     "name": "stderr",
     "output_type": "stream",
     "text": [
      "G:\\Aplicaciones\\Anaconda\\lib\\site-packages\\statsmodels\\base\\model.py:566: ConvergenceWarning: Maximum Likelihood optimization failed to converge. Check mle_retvals\n",
      "  warnings.warn(\"Maximum Likelihood optimization failed to \"\n"
     ]
    },
    {
     "name": "stdout",
     "output_type": "stream",
     "text": [
      "AR: 3, MA: 7\n"
     ]
    },
    {
     "name": "stderr",
     "output_type": "stream",
     "text": [
      "G:\\Aplicaciones\\Anaconda\\lib\\site-packages\\statsmodels\\base\\model.py:566: ConvergenceWarning: Maximum Likelihood optimization failed to converge. Check mle_retvals\n",
      "  warnings.warn(\"Maximum Likelihood optimization failed to \"\n"
     ]
    },
    {
     "name": "stdout",
     "output_type": "stream",
     "text": [
      "AR: 3, MA: 8\n"
     ]
    },
    {
     "name": "stderr",
     "output_type": "stream",
     "text": [
      "G:\\Aplicaciones\\Anaconda\\lib\\site-packages\\statsmodels\\base\\model.py:566: ConvergenceWarning: Maximum Likelihood optimization failed to converge. Check mle_retvals\n",
      "  warnings.warn(\"Maximum Likelihood optimization failed to \"\n"
     ]
    },
    {
     "name": "stdout",
     "output_type": "stream",
     "text": [
      "AR: 3, MA: 9\n"
     ]
    },
    {
     "name": "stderr",
     "output_type": "stream",
     "text": [
      "G:\\Aplicaciones\\Anaconda\\lib\\site-packages\\statsmodels\\base\\model.py:566: ConvergenceWarning: Maximum Likelihood optimization failed to converge. Check mle_retvals\n",
      "  warnings.warn(\"Maximum Likelihood optimization failed to \"\n"
     ]
    },
    {
     "name": "stdout",
     "output_type": "stream",
     "text": [
      "AR: 4, MA: 0\n",
      "AR: 4, MA: 1\n",
      "AR: 4, MA: 2\n"
     ]
    },
    {
     "name": "stderr",
     "output_type": "stream",
     "text": [
      "G:\\Aplicaciones\\Anaconda\\lib\\site-packages\\statsmodels\\base\\model.py:566: ConvergenceWarning: Maximum Likelihood optimization failed to converge. Check mle_retvals\n",
      "  warnings.warn(\"Maximum Likelihood optimization failed to \"\n"
     ]
    },
    {
     "name": "stdout",
     "output_type": "stream",
     "text": [
      "AR: 4, MA: 3\n"
     ]
    },
    {
     "name": "stderr",
     "output_type": "stream",
     "text": [
      "G:\\Aplicaciones\\Anaconda\\lib\\site-packages\\statsmodels\\base\\model.py:566: ConvergenceWarning: Maximum Likelihood optimization failed to converge. Check mle_retvals\n",
      "  warnings.warn(\"Maximum Likelihood optimization failed to \"\n"
     ]
    },
    {
     "name": "stdout",
     "output_type": "stream",
     "text": [
      "AR: 4, MA: 4\n"
     ]
    },
    {
     "name": "stderr",
     "output_type": "stream",
     "text": [
      "G:\\Aplicaciones\\Anaconda\\lib\\site-packages\\statsmodels\\base\\model.py:566: ConvergenceWarning: Maximum Likelihood optimization failed to converge. Check mle_retvals\n",
      "  warnings.warn(\"Maximum Likelihood optimization failed to \"\n"
     ]
    },
    {
     "name": "stdout",
     "output_type": "stream",
     "text": [
      "AR: 4, MA: 5\n"
     ]
    },
    {
     "name": "stderr",
     "output_type": "stream",
     "text": [
      "G:\\Aplicaciones\\Anaconda\\lib\\site-packages\\statsmodels\\base\\model.py:566: ConvergenceWarning: Maximum Likelihood optimization failed to converge. Check mle_retvals\n",
      "  warnings.warn(\"Maximum Likelihood optimization failed to \"\n"
     ]
    },
    {
     "name": "stdout",
     "output_type": "stream",
     "text": [
      "AR: 4, MA: 6\n"
     ]
    },
    {
     "name": "stderr",
     "output_type": "stream",
     "text": [
      "G:\\Aplicaciones\\Anaconda\\lib\\site-packages\\statsmodels\\base\\model.py:566: ConvergenceWarning: Maximum Likelihood optimization failed to converge. Check mle_retvals\n",
      "  warnings.warn(\"Maximum Likelihood optimization failed to \"\n"
     ]
    },
    {
     "name": "stdout",
     "output_type": "stream",
     "text": [
      "AR: 4, MA: 7\n"
     ]
    },
    {
     "name": "stderr",
     "output_type": "stream",
     "text": [
      "G:\\Aplicaciones\\Anaconda\\lib\\site-packages\\statsmodels\\base\\model.py:566: ConvergenceWarning: Maximum Likelihood optimization failed to converge. Check mle_retvals\n",
      "  warnings.warn(\"Maximum Likelihood optimization failed to \"\n"
     ]
    },
    {
     "name": "stdout",
     "output_type": "stream",
     "text": [
      "AR: 4, MA: 8\n"
     ]
    },
    {
     "name": "stderr",
     "output_type": "stream",
     "text": [
      "G:\\Aplicaciones\\Anaconda\\lib\\site-packages\\statsmodels\\base\\model.py:566: ConvergenceWarning: Maximum Likelihood optimization failed to converge. Check mle_retvals\n",
      "  warnings.warn(\"Maximum Likelihood optimization failed to \"\n"
     ]
    },
    {
     "name": "stdout",
     "output_type": "stream",
     "text": [
      "AR: 4, MA: 9\n"
     ]
    },
    {
     "name": "stderr",
     "output_type": "stream",
     "text": [
      "G:\\Aplicaciones\\Anaconda\\lib\\site-packages\\statsmodels\\base\\model.py:566: ConvergenceWarning: Maximum Likelihood optimization failed to converge. Check mle_retvals\n",
      "  warnings.warn(\"Maximum Likelihood optimization failed to \"\n"
     ]
    },
    {
     "name": "stdout",
     "output_type": "stream",
     "text": [
      "AR: 5, MA: 0\n",
      "AR: 5, MA: 1\n",
      "AR: 5, MA: 2\n"
     ]
    },
    {
     "name": "stderr",
     "output_type": "stream",
     "text": [
      "G:\\Aplicaciones\\Anaconda\\lib\\site-packages\\statsmodels\\base\\model.py:566: ConvergenceWarning: Maximum Likelihood optimization failed to converge. Check mle_retvals\n",
      "  warnings.warn(\"Maximum Likelihood optimization failed to \"\n"
     ]
    },
    {
     "name": "stdout",
     "output_type": "stream",
     "text": [
      "AR: 5, MA: 3\n"
     ]
    },
    {
     "name": "stderr",
     "output_type": "stream",
     "text": [
      "G:\\Aplicaciones\\Anaconda\\lib\\site-packages\\statsmodels\\base\\model.py:566: ConvergenceWarning: Maximum Likelihood optimization failed to converge. Check mle_retvals\n",
      "  warnings.warn(\"Maximum Likelihood optimization failed to \"\n"
     ]
    },
    {
     "name": "stdout",
     "output_type": "stream",
     "text": [
      "AR: 5, MA: 4\n"
     ]
    },
    {
     "name": "stderr",
     "output_type": "stream",
     "text": [
      "G:\\Aplicaciones\\Anaconda\\lib\\site-packages\\statsmodels\\base\\model.py:566: ConvergenceWarning: Maximum Likelihood optimization failed to converge. Check mle_retvals\n",
      "  warnings.warn(\"Maximum Likelihood optimization failed to \"\n"
     ]
    },
    {
     "name": "stdout",
     "output_type": "stream",
     "text": [
      "AR: 5, MA: 5\n"
     ]
    },
    {
     "name": "stderr",
     "output_type": "stream",
     "text": [
      "G:\\Aplicaciones\\Anaconda\\lib\\site-packages\\statsmodels\\base\\model.py:566: ConvergenceWarning: Maximum Likelihood optimization failed to converge. Check mle_retvals\n",
      "  warnings.warn(\"Maximum Likelihood optimization failed to \"\n"
     ]
    },
    {
     "name": "stdout",
     "output_type": "stream",
     "text": [
      "AR: 5, MA: 6\n"
     ]
    },
    {
     "name": "stderr",
     "output_type": "stream",
     "text": [
      "G:\\Aplicaciones\\Anaconda\\lib\\site-packages\\statsmodels\\base\\model.py:566: ConvergenceWarning: Maximum Likelihood optimization failed to converge. Check mle_retvals\n",
      "  warnings.warn(\"Maximum Likelihood optimization failed to \"\n"
     ]
    },
    {
     "name": "stdout",
     "output_type": "stream",
     "text": [
      "AR: 5, MA: 7\n"
     ]
    },
    {
     "name": "stderr",
     "output_type": "stream",
     "text": [
      "G:\\Aplicaciones\\Anaconda\\lib\\site-packages\\statsmodels\\base\\model.py:566: ConvergenceWarning: Maximum Likelihood optimization failed to converge. Check mle_retvals\n",
      "  warnings.warn(\"Maximum Likelihood optimization failed to \"\n"
     ]
    },
    {
     "name": "stdout",
     "output_type": "stream",
     "text": [
      "AR: 5, MA: 8\n"
     ]
    },
    {
     "name": "stderr",
     "output_type": "stream",
     "text": [
      "G:\\Aplicaciones\\Anaconda\\lib\\site-packages\\statsmodels\\base\\model.py:566: ConvergenceWarning: Maximum Likelihood optimization failed to converge. Check mle_retvals\n",
      "  warnings.warn(\"Maximum Likelihood optimization failed to \"\n"
     ]
    },
    {
     "name": "stdout",
     "output_type": "stream",
     "text": [
      "AR: 5, MA: 9\n"
     ]
    },
    {
     "name": "stderr",
     "output_type": "stream",
     "text": [
      "G:\\Aplicaciones\\Anaconda\\lib\\site-packages\\statsmodels\\base\\model.py:566: ConvergenceWarning: Maximum Likelihood optimization failed to converge. Check mle_retvals\n",
      "  warnings.warn(\"Maximum Likelihood optimization failed to \"\n"
     ]
    },
    {
     "name": "stdout",
     "output_type": "stream",
     "text": [
      "AR: 6, MA: 0\n",
      "AR: 6, MA: 1\n",
      "AR: 6, MA: 2\n"
     ]
    },
    {
     "name": "stderr",
     "output_type": "stream",
     "text": [
      "G:\\Aplicaciones\\Anaconda\\lib\\site-packages\\statsmodels\\base\\model.py:566: ConvergenceWarning: Maximum Likelihood optimization failed to converge. Check mle_retvals\n",
      "  warnings.warn(\"Maximum Likelihood optimization failed to \"\n"
     ]
    },
    {
     "name": "stdout",
     "output_type": "stream",
     "text": [
      "AR: 6, MA: 3\n"
     ]
    },
    {
     "name": "stderr",
     "output_type": "stream",
     "text": [
      "G:\\Aplicaciones\\Anaconda\\lib\\site-packages\\statsmodels\\base\\model.py:566: ConvergenceWarning: Maximum Likelihood optimization failed to converge. Check mle_retvals\n",
      "  warnings.warn(\"Maximum Likelihood optimization failed to \"\n"
     ]
    },
    {
     "name": "stdout",
     "output_type": "stream",
     "text": [
      "AR: 6, MA: 4\n"
     ]
    },
    {
     "name": "stderr",
     "output_type": "stream",
     "text": [
      "G:\\Aplicaciones\\Anaconda\\lib\\site-packages\\statsmodels\\base\\model.py:566: ConvergenceWarning: Maximum Likelihood optimization failed to converge. Check mle_retvals\n",
      "  warnings.warn(\"Maximum Likelihood optimization failed to \"\n"
     ]
    },
    {
     "name": "stdout",
     "output_type": "stream",
     "text": [
      "AR: 6, MA: 5\n"
     ]
    },
    {
     "name": "stderr",
     "output_type": "stream",
     "text": [
      "G:\\Aplicaciones\\Anaconda\\lib\\site-packages\\statsmodels\\base\\model.py:566: ConvergenceWarning: Maximum Likelihood optimization failed to converge. Check mle_retvals\n",
      "  warnings.warn(\"Maximum Likelihood optimization failed to \"\n"
     ]
    },
    {
     "name": "stdout",
     "output_type": "stream",
     "text": [
      "AR: 6, MA: 6\n"
     ]
    },
    {
     "name": "stderr",
     "output_type": "stream",
     "text": [
      "G:\\Aplicaciones\\Anaconda\\lib\\site-packages\\statsmodels\\base\\model.py:566: ConvergenceWarning: Maximum Likelihood optimization failed to converge. Check mle_retvals\n",
      "  warnings.warn(\"Maximum Likelihood optimization failed to \"\n"
     ]
    },
    {
     "name": "stdout",
     "output_type": "stream",
     "text": [
      "AR: 6, MA: 7\n"
     ]
    },
    {
     "name": "stderr",
     "output_type": "stream",
     "text": [
      "G:\\Aplicaciones\\Anaconda\\lib\\site-packages\\statsmodels\\base\\model.py:566: ConvergenceWarning: Maximum Likelihood optimization failed to converge. Check mle_retvals\n",
      "  warnings.warn(\"Maximum Likelihood optimization failed to \"\n"
     ]
    },
    {
     "name": "stdout",
     "output_type": "stream",
     "text": [
      "AR: 6, MA: 8\n"
     ]
    },
    {
     "name": "stderr",
     "output_type": "stream",
     "text": [
      "G:\\Aplicaciones\\Anaconda\\lib\\site-packages\\statsmodels\\base\\model.py:566: ConvergenceWarning: Maximum Likelihood optimization failed to converge. Check mle_retvals\n",
      "  warnings.warn(\"Maximum Likelihood optimization failed to \"\n"
     ]
    },
    {
     "name": "stdout",
     "output_type": "stream",
     "text": [
      "AR: 6, MA: 9\n"
     ]
    },
    {
     "name": "stderr",
     "output_type": "stream",
     "text": [
      "G:\\Aplicaciones\\Anaconda\\lib\\site-packages\\statsmodels\\base\\model.py:566: ConvergenceWarning: Maximum Likelihood optimization failed to converge. Check mle_retvals\n",
      "  warnings.warn(\"Maximum Likelihood optimization failed to \"\n"
     ]
    },
    {
     "name": "stdout",
     "output_type": "stream",
     "text": [
      "AR: 7, MA: 0\n",
      "AR: 7, MA: 1\n",
      "AR: 7, MA: 2\n"
     ]
    },
    {
     "name": "stderr",
     "output_type": "stream",
     "text": [
      "G:\\Aplicaciones\\Anaconda\\lib\\site-packages\\statsmodels\\base\\model.py:566: ConvergenceWarning: Maximum Likelihood optimization failed to converge. Check mle_retvals\n",
      "  warnings.warn(\"Maximum Likelihood optimization failed to \"\n"
     ]
    },
    {
     "name": "stdout",
     "output_type": "stream",
     "text": [
      "AR: 7, MA: 3\n"
     ]
    },
    {
     "name": "stderr",
     "output_type": "stream",
     "text": [
      "G:\\Aplicaciones\\Anaconda\\lib\\site-packages\\statsmodels\\base\\model.py:566: ConvergenceWarning: Maximum Likelihood optimization failed to converge. Check mle_retvals\n",
      "  warnings.warn(\"Maximum Likelihood optimization failed to \"\n"
     ]
    },
    {
     "name": "stdout",
     "output_type": "stream",
     "text": [
      "AR: 7, MA: 4\n"
     ]
    },
    {
     "name": "stderr",
     "output_type": "stream",
     "text": [
      "G:\\Aplicaciones\\Anaconda\\lib\\site-packages\\statsmodels\\base\\model.py:566: ConvergenceWarning: Maximum Likelihood optimization failed to converge. Check mle_retvals\n",
      "  warnings.warn(\"Maximum Likelihood optimization failed to \"\n"
     ]
    },
    {
     "name": "stdout",
     "output_type": "stream",
     "text": [
      "AR: 7, MA: 5\n"
     ]
    },
    {
     "name": "stderr",
     "output_type": "stream",
     "text": [
      "G:\\Aplicaciones\\Anaconda\\lib\\site-packages\\statsmodels\\base\\model.py:566: ConvergenceWarning: Maximum Likelihood optimization failed to converge. Check mle_retvals\n",
      "  warnings.warn(\"Maximum Likelihood optimization failed to \"\n"
     ]
    },
    {
     "name": "stdout",
     "output_type": "stream",
     "text": [
      "AR: 7, MA: 6\n"
     ]
    },
    {
     "name": "stderr",
     "output_type": "stream",
     "text": [
      "G:\\Aplicaciones\\Anaconda\\lib\\site-packages\\statsmodels\\base\\model.py:566: ConvergenceWarning: Maximum Likelihood optimization failed to converge. Check mle_retvals\n",
      "  warnings.warn(\"Maximum Likelihood optimization failed to \"\n"
     ]
    },
    {
     "name": "stdout",
     "output_type": "stream",
     "text": [
      "AR: 7, MA: 7\n"
     ]
    },
    {
     "name": "stderr",
     "output_type": "stream",
     "text": [
      "G:\\Aplicaciones\\Anaconda\\lib\\site-packages\\statsmodels\\base\\model.py:566: ConvergenceWarning: Maximum Likelihood optimization failed to converge. Check mle_retvals\n",
      "  warnings.warn(\"Maximum Likelihood optimization failed to \"\n"
     ]
    },
    {
     "name": "stdout",
     "output_type": "stream",
     "text": [
      "AR: 7, MA: 8\n"
     ]
    },
    {
     "name": "stderr",
     "output_type": "stream",
     "text": [
      "G:\\Aplicaciones\\Anaconda\\lib\\site-packages\\statsmodels\\base\\model.py:566: ConvergenceWarning: Maximum Likelihood optimization failed to converge. Check mle_retvals\n",
      "  warnings.warn(\"Maximum Likelihood optimization failed to \"\n"
     ]
    },
    {
     "name": "stdout",
     "output_type": "stream",
     "text": [
      "AR: 7, MA: 9\n"
     ]
    },
    {
     "name": "stderr",
     "output_type": "stream",
     "text": [
      "G:\\Aplicaciones\\Anaconda\\lib\\site-packages\\statsmodels\\base\\model.py:566: ConvergenceWarning: Maximum Likelihood optimization failed to converge. Check mle_retvals\n",
      "  warnings.warn(\"Maximum Likelihood optimization failed to \"\n"
     ]
    },
    {
     "name": "stdout",
     "output_type": "stream",
     "text": [
      "AR: 8, MA: 0\n",
      "AR: 8, MA: 1\n",
      "AR: 8, MA: 2\n"
     ]
    },
    {
     "name": "stderr",
     "output_type": "stream",
     "text": [
      "G:\\Aplicaciones\\Anaconda\\lib\\site-packages\\statsmodels\\base\\model.py:566: ConvergenceWarning: Maximum Likelihood optimization failed to converge. Check mle_retvals\n",
      "  warnings.warn(\"Maximum Likelihood optimization failed to \"\n"
     ]
    },
    {
     "name": "stdout",
     "output_type": "stream",
     "text": [
      "AR: 8, MA: 3\n"
     ]
    },
    {
     "name": "stderr",
     "output_type": "stream",
     "text": [
      "G:\\Aplicaciones\\Anaconda\\lib\\site-packages\\statsmodels\\base\\model.py:566: ConvergenceWarning: Maximum Likelihood optimization failed to converge. Check mle_retvals\n",
      "  warnings.warn(\"Maximum Likelihood optimization failed to \"\n"
     ]
    },
    {
     "name": "stdout",
     "output_type": "stream",
     "text": [
      "AR: 8, MA: 4\n"
     ]
    },
    {
     "name": "stderr",
     "output_type": "stream",
     "text": [
      "G:\\Aplicaciones\\Anaconda\\lib\\site-packages\\statsmodels\\base\\model.py:566: ConvergenceWarning: Maximum Likelihood optimization failed to converge. Check mle_retvals\n",
      "  warnings.warn(\"Maximum Likelihood optimization failed to \"\n"
     ]
    },
    {
     "name": "stdout",
     "output_type": "stream",
     "text": [
      "AR: 8, MA: 5\n"
     ]
    },
    {
     "name": "stderr",
     "output_type": "stream",
     "text": [
      "G:\\Aplicaciones\\Anaconda\\lib\\site-packages\\statsmodels\\base\\model.py:566: ConvergenceWarning: Maximum Likelihood optimization failed to converge. Check mle_retvals\n",
      "  warnings.warn(\"Maximum Likelihood optimization failed to \"\n"
     ]
    },
    {
     "name": "stdout",
     "output_type": "stream",
     "text": [
      "AR: 8, MA: 6\n"
     ]
    },
    {
     "name": "stderr",
     "output_type": "stream",
     "text": [
      "G:\\Aplicaciones\\Anaconda\\lib\\site-packages\\statsmodels\\base\\model.py:566: ConvergenceWarning: Maximum Likelihood optimization failed to converge. Check mle_retvals\n",
      "  warnings.warn(\"Maximum Likelihood optimization failed to \"\n"
     ]
    },
    {
     "name": "stdout",
     "output_type": "stream",
     "text": [
      "AR: 8, MA: 7\n"
     ]
    },
    {
     "name": "stderr",
     "output_type": "stream",
     "text": [
      "G:\\Aplicaciones\\Anaconda\\lib\\site-packages\\statsmodels\\base\\model.py:566: ConvergenceWarning: Maximum Likelihood optimization failed to converge. Check mle_retvals\n",
      "  warnings.warn(\"Maximum Likelihood optimization failed to \"\n"
     ]
    },
    {
     "name": "stdout",
     "output_type": "stream",
     "text": [
      "AR: 8, MA: 8\n"
     ]
    },
    {
     "name": "stderr",
     "output_type": "stream",
     "text": [
      "G:\\Aplicaciones\\Anaconda\\lib\\site-packages\\statsmodels\\base\\model.py:566: ConvergenceWarning: Maximum Likelihood optimization failed to converge. Check mle_retvals\n",
      "  warnings.warn(\"Maximum Likelihood optimization failed to \"\n"
     ]
    },
    {
     "name": "stdout",
     "output_type": "stream",
     "text": [
      "AR: 8, MA: 9\n"
     ]
    },
    {
     "name": "stderr",
     "output_type": "stream",
     "text": [
      "G:\\Aplicaciones\\Anaconda\\lib\\site-packages\\statsmodels\\base\\model.py:566: ConvergenceWarning: Maximum Likelihood optimization failed to converge. Check mle_retvals\n",
      "  warnings.warn(\"Maximum Likelihood optimization failed to \"\n"
     ]
    },
    {
     "name": "stdout",
     "output_type": "stream",
     "text": [
      "AR: 9, MA: 0\n",
      "AR: 9, MA: 1\n",
      "AR: 9, MA: 2\n"
     ]
    },
    {
     "name": "stderr",
     "output_type": "stream",
     "text": [
      "G:\\Aplicaciones\\Anaconda\\lib\\site-packages\\statsmodels\\base\\model.py:566: ConvergenceWarning: Maximum Likelihood optimization failed to converge. Check mle_retvals\n",
      "  warnings.warn(\"Maximum Likelihood optimization failed to \"\n"
     ]
    },
    {
     "name": "stdout",
     "output_type": "stream",
     "text": [
      "AR: 9, MA: 3\n"
     ]
    },
    {
     "name": "stderr",
     "output_type": "stream",
     "text": [
      "G:\\Aplicaciones\\Anaconda\\lib\\site-packages\\statsmodels\\base\\model.py:566: ConvergenceWarning: Maximum Likelihood optimization failed to converge. Check mle_retvals\n",
      "  warnings.warn(\"Maximum Likelihood optimization failed to \"\n"
     ]
    },
    {
     "name": "stdout",
     "output_type": "stream",
     "text": [
      "AR: 9, MA: 4\n"
     ]
    },
    {
     "name": "stderr",
     "output_type": "stream",
     "text": [
      "G:\\Aplicaciones\\Anaconda\\lib\\site-packages\\statsmodels\\base\\model.py:566: ConvergenceWarning: Maximum Likelihood optimization failed to converge. Check mle_retvals\n",
      "  warnings.warn(\"Maximum Likelihood optimization failed to \"\n"
     ]
    },
    {
     "name": "stdout",
     "output_type": "stream",
     "text": [
      "AR: 9, MA: 5\n"
     ]
    },
    {
     "name": "stderr",
     "output_type": "stream",
     "text": [
      "G:\\Aplicaciones\\Anaconda\\lib\\site-packages\\statsmodels\\base\\model.py:566: ConvergenceWarning: Maximum Likelihood optimization failed to converge. Check mle_retvals\n",
      "  warnings.warn(\"Maximum Likelihood optimization failed to \"\n"
     ]
    },
    {
     "name": "stdout",
     "output_type": "stream",
     "text": [
      "AR: 9, MA: 6\n"
     ]
    },
    {
     "name": "stderr",
     "output_type": "stream",
     "text": [
      "G:\\Aplicaciones\\Anaconda\\lib\\site-packages\\statsmodels\\base\\model.py:566: ConvergenceWarning: Maximum Likelihood optimization failed to converge. Check mle_retvals\n",
      "  warnings.warn(\"Maximum Likelihood optimization failed to \"\n"
     ]
    },
    {
     "name": "stdout",
     "output_type": "stream",
     "text": [
      "AR: 9, MA: 7\n"
     ]
    },
    {
     "name": "stderr",
     "output_type": "stream",
     "text": [
      "G:\\Aplicaciones\\Anaconda\\lib\\site-packages\\statsmodels\\base\\model.py:566: ConvergenceWarning: Maximum Likelihood optimization failed to converge. Check mle_retvals\n",
      "  warnings.warn(\"Maximum Likelihood optimization failed to \"\n"
     ]
    },
    {
     "name": "stdout",
     "output_type": "stream",
     "text": [
      "AR: 9, MA: 8\n"
     ]
    },
    {
     "name": "stderr",
     "output_type": "stream",
     "text": [
      "G:\\Aplicaciones\\Anaconda\\lib\\site-packages\\statsmodels\\base\\model.py:566: ConvergenceWarning: Maximum Likelihood optimization failed to converge. Check mle_retvals\n",
      "  warnings.warn(\"Maximum Likelihood optimization failed to \"\n"
     ]
    },
    {
     "name": "stdout",
     "output_type": "stream",
     "text": [
      "AR: 9, MA: 9\n"
     ]
    },
    {
     "name": "stderr",
     "output_type": "stream",
     "text": [
      "G:\\Aplicaciones\\Anaconda\\lib\\site-packages\\statsmodels\\base\\model.py:566: ConvergenceWarning: Maximum Likelihood optimization failed to converge. Check mle_retvals\n",
      "  warnings.warn(\"Maximum Likelihood optimization failed to \"\n"
     ]
    }
   ],
   "source": [
    "ic = {}\n",
    "for ar in range(10):\n",
    "    for ma in range(10):\n",
    "        print(f\"AR: {ar}, MA: {ma}\")\n",
    "        modelo = ARIMA(metrorrey['miles_pasajeros_month'], order=(ar,1,ma))\n",
    "        resultado = modelo.fit()\n",
    "        ic[(ar,ma)] = [resultado.aic, resultado.bic]\n",
    "        \n",
    "ic = pd.DataFrame(ic, index=[\"AIC\", \"BIC\"]).T\n",
    "ic.index = ic.index.set_names([\"AR\", \"MA\"])"
   ]
  },
  {
   "cell_type": "code",
   "execution_count": 27,
   "id": "8aa77200",
   "metadata": {},
   "outputs": [
    {
     "data": {
      "text/html": [
       "<div>\n",
       "<style scoped>\n",
       "    .dataframe tbody tr th:only-of-type {\n",
       "        vertical-align: middle;\n",
       "    }\n",
       "\n",
       "    .dataframe tbody tr th {\n",
       "        vertical-align: top;\n",
       "    }\n",
       "\n",
       "    .dataframe thead th {\n",
       "        text-align: right;\n",
       "    }\n",
       "</style>\n",
       "<table border=\"1\" class=\"dataframe\">\n",
       "  <thead>\n",
       "    <tr style=\"text-align: right;\">\n",
       "      <th></th>\n",
       "      <th></th>\n",
       "      <th>AIC</th>\n",
       "      <th>BIC</th>\n",
       "    </tr>\n",
       "    <tr>\n",
       "      <th>AR</th>\n",
       "      <th>MA</th>\n",
       "      <th></th>\n",
       "      <th></th>\n",
       "    </tr>\n",
       "  </thead>\n",
       "  <tbody>\n",
       "    <tr>\n",
       "      <th>2</th>\n",
       "      <th>4</th>\n",
       "      <td>5215.819680</td>\n",
       "      <td>5242.263246</td>\n",
       "    </tr>\n",
       "    <tr>\n",
       "      <th>3</th>\n",
       "      <th>4</th>\n",
       "      <td>5216.607120</td>\n",
       "      <td>5246.828339</td>\n",
       "    </tr>\n",
       "    <tr>\n",
       "      <th>8</th>\n",
       "      <th>4</th>\n",
       "      <td>5216.997792</td>\n",
       "      <td>5266.107272</td>\n",
       "    </tr>\n",
       "  </tbody>\n",
       "</table>\n",
       "</div>"
      ],
      "text/plain": [
       "               AIC          BIC\n",
       "AR MA                          \n",
       "2  4   5215.819680  5242.263246\n",
       "3  4   5216.607120  5246.828339\n",
       "8  4   5216.997792  5266.107272"
      ]
     },
     "execution_count": 27,
     "metadata": {},
     "output_type": "execute_result"
    }
   ],
   "source": [
    "ic.sort_values('AIC', ascending=True).head(3) "
   ]
  },
  {
   "cell_type": "code",
   "execution_count": 28,
   "id": "669d1fc8",
   "metadata": {},
   "outputs": [
    {
     "data": {
      "text/html": [
       "<div>\n",
       "<style scoped>\n",
       "    .dataframe tbody tr th:only-of-type {\n",
       "        vertical-align: middle;\n",
       "    }\n",
       "\n",
       "    .dataframe tbody tr th {\n",
       "        vertical-align: top;\n",
       "    }\n",
       "\n",
       "    .dataframe thead th {\n",
       "        text-align: right;\n",
       "    }\n",
       "</style>\n",
       "<table border=\"1\" class=\"dataframe\">\n",
       "  <thead>\n",
       "    <tr style=\"text-align: right;\">\n",
       "      <th></th>\n",
       "      <th></th>\n",
       "      <th>AIC</th>\n",
       "      <th>BIC</th>\n",
       "    </tr>\n",
       "    <tr>\n",
       "      <th>AR</th>\n",
       "      <th>MA</th>\n",
       "      <th></th>\n",
       "      <th></th>\n",
       "    </tr>\n",
       "  </thead>\n",
       "  <tbody>\n",
       "    <tr>\n",
       "      <th>2</th>\n",
       "      <th>4</th>\n",
       "      <td>5215.81968</td>\n",
       "      <td>5242.263246</td>\n",
       "    </tr>\n",
       "    <tr>\n",
       "      <th>4</th>\n",
       "      <th>2</th>\n",
       "      <td>5220.17837</td>\n",
       "      <td>5246.621936</td>\n",
       "    </tr>\n",
       "    <tr>\n",
       "      <th>3</th>\n",
       "      <th>4</th>\n",
       "      <td>5216.60712</td>\n",
       "      <td>5246.828339</td>\n",
       "    </tr>\n",
       "  </tbody>\n",
       "</table>\n",
       "</div>"
      ],
      "text/plain": [
       "              AIC          BIC\n",
       "AR MA                         \n",
       "2  4   5215.81968  5242.263246\n",
       "4  2   5220.17837  5246.621936\n",
       "3  4   5216.60712  5246.828339"
      ]
     },
     "execution_count": 28,
     "metadata": {},
     "output_type": "execute_result"
    }
   ],
   "source": [
    "ic.sort_values('BIC', ascending=True).head(3) "
   ]
  },
  {
   "cell_type": "markdown",
   "id": "2bbaa2b5",
   "metadata": {},
   "source": [
    "Una vez estimado cual fue el mejor modelo, se obtuvo que el criterio de akaike (AIC) y el criterio bayesiano (BIC) coincidieron en los mismos valores para AR y MA, por lo que el mejor modelo es un ARIMA(2,1,4)"
   ]
  },
  {
   "cell_type": "code",
   "execution_count": 29,
   "id": "33833da4",
   "metadata": {},
   "outputs": [],
   "source": [
    "from statsmodels.tsa.arima.model import ARIMA,ARIMAResults"
   ]
  },
  {
   "cell_type": "code",
   "execution_count": 30,
   "id": "5d2cab18",
   "metadata": {
    "scrolled": true
   },
   "outputs": [
    {
     "name": "stdout",
     "output_type": "stream",
     "text": [
      "                                 SARIMAX Results                                 \n",
      "=================================================================================\n",
      "Dep. Variable:     miles_pasajeros_month   No. Observations:                  324\n",
      "Model:                    ARIMA(2, 1, 4)   Log Likelihood               -2600.910\n",
      "Date:                   Sun, 14 May 2023   AIC                           5215.820\n",
      "Time:                           20:59:39   BIC                           5242.263\n",
      "Sample:                       01-01-1995   HQIC                          5226.376\n",
      "                            - 12-01-2021                                         \n",
      "Covariance Type:                     opg                                         \n",
      "==============================================================================\n",
      "                 coef    std err          z      P>|z|      [0.025      0.975]\n",
      "------------------------------------------------------------------------------\n",
      "ar.L1         -1.7249      0.006   -299.154      0.000      -1.736      -1.714\n",
      "ar.L2         -0.9959      0.007   -152.805      0.000      -1.009      -0.983\n",
      "ma.L1          1.7365      0.036     47.743      0.000       1.665       1.808\n",
      "ma.L2          0.7919      0.063     12.638      0.000       0.669       0.915\n",
      "ma.L3         -0.4123      0.078     -5.275      0.000      -0.566      -0.259\n",
      "ma.L4         -0.2701      0.049     -5.489      0.000      -0.366      -0.174\n",
      "sigma2      6.692e+05   3.44e+04     19.455      0.000    6.02e+05    7.37e+05\n",
      "===================================================================================\n",
      "Ljung-Box (L1) (Q):                   0.03   Jarque-Bera (JB):              3147.73\n",
      "Prob(Q):                              0.87   Prob(JB):                         0.00\n",
      "Heteroskedasticity (H):               7.26   Skew:                            -1.45\n",
      "Prob(H) (two-sided):                  0.00   Kurtosis:                        18.02\n",
      "===================================================================================\n",
      "\n",
      "Warnings:\n",
      "[1] Covariance matrix calculated using the outer product of gradients (complex-step).\n"
     ]
    },
    {
     "name": "stderr",
     "output_type": "stream",
     "text": [
      "G:\\Aplicaciones\\Anaconda\\lib\\site-packages\\statsmodels\\base\\model.py:566: ConvergenceWarning: Maximum Likelihood optimization failed to converge. Check mle_retvals\n",
      "  warnings.warn(\"Maximum Likelihood optimization failed to \"\n"
     ]
    }
   ],
   "source": [
    "modelo = ARIMA(metrorrey['miles_pasajeros_month'], order=(2,1,4))\n",
    "resultado = modelo.fit()\n",
    "print(resultado.summary())"
   ]
  },
  {
   "cell_type": "markdown",
   "id": "a429565a",
   "metadata": {},
   "source": [
    "Este es un ARMA(2,4) y gracias a sus coeficientes, sabemos que la ecuación está dada por: \n",
    "\n",
    "$Y_t = -1.72 Y_{t-1} - 0.99 Y_{t-2} + 1.73 \\varepsilon_{t-1} + 0.79 \\varepsilon_{t-2} - 0.41 \\varepsilon_{t-3} - 0.27 \\varepsilon_{t-4} + \\varepsilon_t $"
   ]
  },
  {
   "cell_type": "markdown",
   "id": "58c63369",
   "metadata": {},
   "source": [
    "$\\varepsilon \\sim N(0, \\sigma^2_{\\varepsilon} = 669,200) $"
   ]
  },
  {
   "cell_type": "markdown",
   "id": "052b3e10",
   "metadata": {},
   "source": [
    "### Pronósticos"
   ]
  },
  {
   "cell_type": "markdown",
   "id": "6d12acf4",
   "metadata": {},
   "source": [
    "Ahora se harán los pronósticos para los siguientes 5 meses a la ultima fecha registrada, es decir se estimará cual puede ser la cantidad de pasajeros (en miles) esperados para los meses de enero a mayo:"
   ]
  },
  {
   "cell_type": "code",
   "execution_count": 31,
   "id": "088be7e9",
   "metadata": {},
   "outputs": [
    {
     "data": {
      "image/png": "[encoded data removed]",
      "text/plain": [
       "<Figure size 432x288 with 1 Axes>"
      ]
     },
     "metadata": {
      "needs_background": "light"
     },
     "output_type": "display_data"
    }
   ],
   "source": [
    "from statsmodels.graphics.tsaplots import plot_predict\n",
    "\n",
    "# codigo\n",
    "plot_predict(resultado, start = '2021/12', end='2022/05')\n",
    "metrorrey['miles_pasajeros_month'].plot()\n",
    "plt.title('Pasajeros en miles de metrorey y pronostico')\n",
    "plt.xlim('2020-01', '2022-05')\n",
    "plt.show()"
   ]
  },
  {
   "cell_type": "code",
   "execution_count": 32,
   "id": "457e48c2",
   "metadata": {
    "scrolled": true
   },
   "outputs": [
    {
     "data": {
      "text/plain": [
       "2022-01-01    10697.187966\n",
       "2022-02-01    10175.277002\n",
       "2022-03-01    10915.941715\n",
       "2022-04-01    10129.043496\n",
       "2022-05-01    10748.766035\n",
       "Freq: MS, Name: predicted_mean, dtype: float64"
      ]
     },
     "execution_count": 32,
     "metadata": {},
     "output_type": "execute_result"
    }
   ],
   "source": [
    "resultado.predict('2022/01', '2022/05')"
   ]
  },
  {
   "cell_type": "markdown",
   "id": "afadbaf6",
   "metadata": {},
   "source": [
    "Por lo tanto, esperamos que:\n",
    "- Enero 2022 haya 10,701\n",
    "- Febrero 2022 haya 10,177\n",
    "- Marzo 2022 haya 10,912\n",
    "- Abril 2022 haya 10,134\n",
    "- Mayo 2022 haya 10,744\n",
    "\n",
    "**miles de pasajeros de metrorrey** con un 95% de confianza, lo cual quiere decir que el pronóstico que hay para cada mes puede variar dentro de su intervalo, es decir puede ser menor o incluso mayor a lo pronosticado\n"
   ]
  },
  {
   "cell_type": "markdown",
   "id": "d04f4d5d",
   "metadata": {},
   "source": []
  }
 ],
 "metadata": {
  "kernelspec": {
   "display_name": "Python 3 (ipykernel)",
   "language": "python",
   "name": "python3"
  },
  "language_info": {
   "codemirror_mode": {
    "name": "ipython",
    "version": 3
   },
   "file_extension": ".py",
   "mimetype": "text/x-python",
   "name": "python",
   "nbconvert_exporter": "python",
   "pygments_lexer": "ipython3",
   "version": "3.9.13"
  }
 },
 "nbformat": 4,
 "nbformat_minor": 5
}
