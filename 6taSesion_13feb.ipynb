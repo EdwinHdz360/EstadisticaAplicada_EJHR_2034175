{
 "cells": [
  {
   "cell_type": "markdown",
   "id": "07a4c06a-1ba0-4787-b1e2-0d811453f246",
   "metadata": {},
   "source": [
    "# Estadistica Aplicada\n",
    "## Edwin Javier Hernández Rodríguez\n",
    "### 6ta sesion 13 feb (dia del actuario)"
   ]
  },
  {
   "cell_type": "code",
   "execution_count": 3,
   "id": "6d2bc5ec",
   "metadata": {},
   "outputs": [],
   "source": [
    "import numpy as np\n",
    "import pandas as pd\n",
    "import matplotlib.pyplot as plt\n",
    "import statsmodels.formula.api as smf\n",
    "%matplotlib inline"
   ]
  },
  {
   "cell_type": "code",
   "execution_count": 4,
   "id": "66b5fb67",
   "metadata": {},
   "outputs": [],
   "source": [
    "datos = pd.read_excel('modelolineal.xlsx')"
   ]
  },
  {
   "cell_type": "code",
   "execution_count": 5,
   "id": "ab9c4e8b",
   "metadata": {},
   "outputs": [
    {
     "data": {
      "text/html": [
       "<div>\n",
       "<style scoped>\n",
       "    .dataframe tbody tr th:only-of-type {\n",
       "        vertical-align: middle;\n",
       "    }\n",
       "\n",
       "    .dataframe tbody tr th {\n",
       "        vertical-align: top;\n",
       "    }\n",
       "\n",
       "    .dataframe thead th {\n",
       "        text-align: right;\n",
       "    }\n",
       "</style>\n",
       "<table border=\"1\" class=\"dataframe\">\n",
       "  <thead>\n",
       "    <tr style=\"text-align: right;\">\n",
       "      <th></th>\n",
       "      <th>observación</th>\n",
       "      <th>Y</th>\n",
       "      <th>X</th>\n",
       "    </tr>\n",
       "  </thead>\n",
       "  <tbody>\n",
       "    <tr>\n",
       "      <th>0</th>\n",
       "      <td>1</td>\n",
       "      <td>19.246957</td>\n",
       "      <td>23</td>\n",
       "    </tr>\n",
       "    <tr>\n",
       "      <th>1</th>\n",
       "      <td>2</td>\n",
       "      <td>16.878501</td>\n",
       "      <td>19</td>\n",
       "    </tr>\n",
       "    <tr>\n",
       "      <th>2</th>\n",
       "      <td>3</td>\n",
       "      <td>20.187237</td>\n",
       "      <td>27</td>\n",
       "    </tr>\n",
       "    <tr>\n",
       "      <th>3</th>\n",
       "      <td>4</td>\n",
       "      <td>12.176789</td>\n",
       "      <td>13</td>\n",
       "    </tr>\n",
       "    <tr>\n",
       "      <th>4</th>\n",
       "      <td>5</td>\n",
       "      <td>21.420112</td>\n",
       "      <td>21</td>\n",
       "    </tr>\n",
       "  </tbody>\n",
       "</table>\n",
       "</div>"
      ],
      "text/plain": [
       "   observación          Y   X\n",
       "0            1  19.246957  23\n",
       "1            2  16.878501  19\n",
       "2            3  20.187237  27\n",
       "3            4  12.176789  13\n",
       "4            5  21.420112  21"
      ]
     },
     "execution_count": 5,
     "metadata": {},
     "output_type": "execute_result"
    }
   ],
   "source": [
    "datos.head()"
   ]
  },
  {
   "cell_type": "code",
   "execution_count": 7,
   "id": "cb8eb2db",
   "metadata": {},
   "outputs": [
    {
     "data": {
      "text/plain": [
       "(30, 3)"
      ]
     },
     "execution_count": 7,
     "metadata": {},
     "output_type": "execute_result"
    }
   ],
   "source": [
    "datos.shape #numero de filas y columnas"
   ]
  },
  {
   "cell_type": "code",
   "execution_count": 10,
   "id": "64ddd7b6",
   "metadata": {},
   "outputs": [
    {
     "data": {
      "text/html": [
       "<div>\n",
       "<style scoped>\n",
       "    .dataframe tbody tr th:only-of-type {\n",
       "        vertical-align: middle;\n",
       "    }\n",
       "\n",
       "    .dataframe tbody tr th {\n",
       "        vertical-align: top;\n",
       "    }\n",
       "\n",
       "    .dataframe thead th {\n",
       "        text-align: right;\n",
       "    }\n",
       "</style>\n",
       "<table border=\"1\" class=\"dataframe\">\n",
       "  <thead>\n",
       "    <tr style=\"text-align: right;\">\n",
       "      <th></th>\n",
       "      <th>observación</th>\n",
       "      <th>Y</th>\n",
       "      <th>X</th>\n",
       "    </tr>\n",
       "  </thead>\n",
       "  <tbody>\n",
       "    <tr>\n",
       "      <th>count</th>\n",
       "      <td>30.000000</td>\n",
       "      <td>30.000000</td>\n",
       "      <td>30.000000</td>\n",
       "    </tr>\n",
       "    <tr>\n",
       "      <th>mean</th>\n",
       "      <td>15.500000</td>\n",
       "      <td>19.038965</td>\n",
       "      <td>17.333333</td>\n",
       "    </tr>\n",
       "    <tr>\n",
       "      <th>std</th>\n",
       "      <td>8.803408</td>\n",
       "      <td>5.689742</td>\n",
       "      <td>8.372094</td>\n",
       "    </tr>\n",
       "    <tr>\n",
       "      <th>min</th>\n",
       "      <td>1.000000</td>\n",
       "      <td>6.808838</td>\n",
       "      <td>0.000000</td>\n",
       "    </tr>\n",
       "    <tr>\n",
       "      <th>25%</th>\n",
       "      <td>8.250000</td>\n",
       "      <td>14.128834</td>\n",
       "      <td>12.250000</td>\n",
       "    </tr>\n",
       "    <tr>\n",
       "      <th>50%</th>\n",
       "      <td>15.500000</td>\n",
       "      <td>19.937977</td>\n",
       "      <td>19.000000</td>\n",
       "    </tr>\n",
       "    <tr>\n",
       "      <th>75%</th>\n",
       "      <td>22.750000</td>\n",
       "      <td>24.151130</td>\n",
       "      <td>23.000000</td>\n",
       "    </tr>\n",
       "    <tr>\n",
       "      <th>max</th>\n",
       "      <td>30.000000</td>\n",
       "      <td>28.422786</td>\n",
       "      <td>29.000000</td>\n",
       "    </tr>\n",
       "  </tbody>\n",
       "</table>\n",
       "</div>"
      ],
      "text/plain": [
       "       observación          Y          X\n",
       "count    30.000000  30.000000  30.000000\n",
       "mean     15.500000  19.038965  17.333333\n",
       "std       8.803408   5.689742   8.372094\n",
       "min       1.000000   6.808838   0.000000\n",
       "25%       8.250000  14.128834  12.250000\n",
       "50%      15.500000  19.937977  19.000000\n",
       "75%      22.750000  24.151130  23.000000\n",
       "max      30.000000  28.422786  29.000000"
      ]
     },
     "execution_count": 10,
     "metadata": {},
     "output_type": "execute_result"
    }
   ],
   "source": [
    "datos.describe() #estadistica descriptiva"
   ]
  },
  {
   "cell_type": "code",
   "execution_count": 13,
   "id": "059ca248",
   "metadata": {},
   "outputs": [
    {
     "data": {
      "image/png": "[encoded data removed]",
      "text/plain": [
       "<Figure size 640x480 with 1 Axes>"
      ]
     },
     "metadata": {},
     "output_type": "display_data"
    }
   ],
   "source": [
    "datos.plot.scatter('X','Y')\n",
    "plt.title('Gráfico de dispersión de variable X y variable Y')\n",
    "plt.xlabel('valores X')\n",
    "plt.ylabel('valores Y')\n",
    "plt.xlim(0,30) #para cortar los valores que no necesitamos\n",
    "plt.ylim(0,30)\n",
    "plt.show()"
   ]
  },
  {
   "cell_type": "markdown",
   "id": "7c316238",
   "metadata": {},
   "source": [
    "Vamos a estimar el modelo $Y = \\beta_0 + \\beta_1 X $"
   ]
  },
  {
   "cell_type": "code",
   "execution_count": 15,
   "id": "d77ae12d",
   "metadata": {},
   "outputs": [
    {
     "name": "stdout",
     "output_type": "stream",
     "text": [
      "                            OLS Regression Results                            \n",
      "==============================================================================\n",
      "Dep. Variable:                      Y   R-squared:                       0.732\n",
      "Model:                            OLS   Adj. R-squared:                  0.722\n",
      "Method:                 Least Squares   F-statistic:                     76.40\n",
      "Date:                Mon, 13 Feb 2023   Prob (F-statistic):           1.72e-09\n",
      "Time:                        14:42:17   Log-Likelihood:                -74.480\n",
      "No. Observations:                  30   AIC:                             153.0\n",
      "Df Residuals:                      28   BIC:                             155.8\n",
      "Df Model:                           1                                         \n",
      "Covariance Type:            nonrobust                                         \n",
      "==============================================================================\n",
      "                 coef    std err          t      P>|t|      [0.025      0.975]\n",
      "------------------------------------------------------------------------------\n",
      "Intercept      8.9619      1.276      7.022      0.000       6.347      11.576\n",
      "X              0.5814      0.067      8.740      0.000       0.445       0.718\n",
      "==============================================================================\n",
      "Omnibus:                        0.249   Durbin-Watson:                   1.658\n",
      "Prob(Omnibus):                  0.883   Jarque-Bera (JB):                0.440\n",
      "Skew:                           0.121   Prob(JB):                        0.803\n",
      "Kurtosis:                       2.459   Cond. No.                         44.8\n",
      "==============================================================================\n",
      "\n",
      "Notes:\n",
      "[1] Standard Errors assume that the covariance matrix of the errors is correctly specified.\n"
     ]
    }
   ],
   "source": [
    "reg = smf.ols(formula='Y~X',data=datos)#minimos cuadados\n",
    "resultado = reg.fit()\n",
    "print(resultado.summary())#para que muestre la regresión"
   ]
  },
  {
   "cell_type": "markdown",
   "id": "1d46da73",
   "metadata": {},
   "source": [
    "El coeficiente estimado para $\\beta_0$ es 8.9619, el p-value: 0.00 < 0.05, lo que significa que rechazamos H0 con un 95% de confianza; el intercepto es distinto de cero.\n",
    "\n",
    "El coeficiente estimado para $\\beta_1$ es de 0.5814 es de 0.5814, el p-value es 0.00 < 0.05 lo que significa que rechazamos  H0 con 95% de confianza; si hay una relacion lineal entre 'X' y 'Y' (el coeficiente es estadisticamente significativo) "
   ]
  },
  {
   "cell_type": "markdown",
   "id": "f0f0e1e0",
   "metadata": {},
   "source": [
    "En promedio, cuando X aumenta en una unidad, Y aumenta en 0.58"
   ]
  },
  {
   "cell_type": "code",
   "execution_count": 19,
   "id": "e8d63ad1",
   "metadata": {},
   "outputs": [
    {
     "data": {
      "text/html": [
       "<div>\n",
       "<style scoped>\n",
       "    .dataframe tbody tr th:only-of-type {\n",
       "        vertical-align: middle;\n",
       "    }\n",
       "\n",
       "    .dataframe tbody tr th {\n",
       "        vertical-align: top;\n",
       "    }\n",
       "\n",
       "    .dataframe thead th {\n",
       "        text-align: right;\n",
       "    }\n",
       "</style>\n",
       "<table border=\"1\" class=\"dataframe\">\n",
       "  <thead>\n",
       "    <tr style=\"text-align: right;\">\n",
       "      <th></th>\n",
       "      <th>observación</th>\n",
       "      <th>Y</th>\n",
       "      <th>X</th>\n",
       "      <th>X2</th>\n",
       "    </tr>\n",
       "  </thead>\n",
       "  <tbody>\n",
       "    <tr>\n",
       "      <th>0</th>\n",
       "      <td>1</td>\n",
       "      <td>19.246957</td>\n",
       "      <td>23</td>\n",
       "      <td>529</td>\n",
       "    </tr>\n",
       "    <tr>\n",
       "      <th>1</th>\n",
       "      <td>2</td>\n",
       "      <td>16.878501</td>\n",
       "      <td>19</td>\n",
       "      <td>361</td>\n",
       "    </tr>\n",
       "    <tr>\n",
       "      <th>2</th>\n",
       "      <td>3</td>\n",
       "      <td>20.187237</td>\n",
       "      <td>27</td>\n",
       "      <td>729</td>\n",
       "    </tr>\n",
       "    <tr>\n",
       "      <th>3</th>\n",
       "      <td>4</td>\n",
       "      <td>12.176789</td>\n",
       "      <td>13</td>\n",
       "      <td>169</td>\n",
       "    </tr>\n",
       "    <tr>\n",
       "      <th>4</th>\n",
       "      <td>5</td>\n",
       "      <td>21.420112</td>\n",
       "      <td>21</td>\n",
       "      <td>441</td>\n",
       "    </tr>\n",
       "  </tbody>\n",
       "</table>\n",
       "</div>"
      ],
      "text/plain": [
       "   observación          Y   X   X2\n",
       "0            1  19.246957  23  529\n",
       "1            2  16.878501  19  361\n",
       "2            3  20.187237  27  729\n",
       "3            4  12.176789  13  169\n",
       "4            5  21.420112  21  441"
      ]
     },
     "execution_count": 19,
     "metadata": {},
     "output_type": "execute_result"
    }
   ],
   "source": [
    "datos['X2'] = datos['X']**2\n",
    "datos.head()"
   ]
  },
  {
   "cell_type": "code",
   "execution_count": 20,
   "id": "ef99ede5",
   "metadata": {},
   "outputs": [
    {
     "name": "stdout",
     "output_type": "stream",
     "text": [
      "                            OLS Regression Results                            \n",
      "==============================================================================\n",
      "Dep. Variable:                      Y   R-squared:                       0.732\n",
      "Model:                            OLS   Adj. R-squared:                  0.712\n",
      "Method:                 Least Squares   F-statistic:                     36.85\n",
      "Date:                Mon, 13 Feb 2023   Prob (F-statistic):           1.92e-08\n",
      "Time:                        15:00:47   Log-Likelihood:                -74.475\n",
      "No. Observations:                  30   AIC:                             155.0\n",
      "Df Residuals:                      27   BIC:                             159.2\n",
      "Df Model:                           2                                         \n",
      "Covariance Type:            nonrobust                                         \n",
      "==============================================================================\n",
      "                 coef    std err          t      P>|t|      [0.025      0.975]\n",
      "------------------------------------------------------------------------------\n",
      "Intercept      8.8518      1.790      4.945      0.000       5.179      12.525\n",
      "X              0.6029      0.250      2.408      0.023       0.089       1.117\n",
      "X2            -0.0007      0.008     -0.089      0.929      -0.017       0.016\n",
      "==============================================================================\n",
      "Omnibus:                        0.249   Durbin-Watson:                   1.654\n",
      "Prob(Omnibus):                  0.883   Jarque-Bera (JB):                0.443\n",
      "Skew:                           0.104   Prob(JB):                        0.802\n",
      "Kurtosis:                       2.442   Cond. No.                     1.45e+03\n",
      "==============================================================================\n",
      "\n",
      "Notes:\n",
      "[1] Standard Errors assume that the covariance matrix of the errors is correctly specified.\n",
      "[2] The condition number is large, 1.45e+03. This might indicate that there are\n",
      "strong multicollinearity or other numerical problems.\n"
     ]
    }
   ],
   "source": [
    "reg2 = smf.ols(formula = 'Y~X+X2', data=datos)\n",
    "resultado2 = reg2.fit()\n",
    "print(resultado2.summary())"
   ]
  },
  {
   "cell_type": "markdown",
   "id": "db774b61",
   "metadata": {},
   "source": [
    "X2 no tiene ningun efecto sobre Y\n",
    "El coeficiente estimado para $\\beta_2$ es -0.0007, el p-value: 0.929 > 0.05, lo que significa que NO rechazamos H0 con un 95% de confianza; el intercepto es igual a cero.\n",
    "\n",
    "El coeficiente estimado para $\\beta_1$ es de 0.6029 , el p-value es 0.023 < 0.05 lo que significa que rechazamos  H0 con 95% de confianza; si hay una relacion lineal entre 'X' y 'Y' (el coeficiente es estadisticamente significativo) \n"
   ]
  },
  {
   "cell_type": "markdown",
   "id": "e8457e15",
   "metadata": {},
   "source": [
    "medidas de bondad de ajuste es el coeficiente de determinación R^2"
   ]
  },
  {
   "cell_type": "markdown",
   "id": "06a712c6",
   "metadata": {},
   "source": [
    "MAD: Desviacion  Absoluta Media\n",
    "MSD: Desviacion Cuadratica Media                     \n",
    "MAPE: Error Porcentual Absoluto Medio"
   ]
  },
  {
   "cell_type": "markdown",
   "id": "d5b15772",
   "metadata": {},
   "source": [
    "Calcular estas 3 de arriba"
   ]
  },
  {
   "cell_type": "code",
   "execution_count": 22,
   "id": "2ee7fa50",
   "metadata": {},
   "outputs": [
    {
     "data": {
      "text/html": [
       "<div>\n",
       "<style scoped>\n",
       "    .dataframe tbody tr th:only-of-type {\n",
       "        vertical-align: middle;\n",
       "    }\n",
       "\n",
       "    .dataframe tbody tr th {\n",
       "        vertical-align: top;\n",
       "    }\n",
       "\n",
       "    .dataframe thead th {\n",
       "        text-align: right;\n",
       "    }\n",
       "</style>\n",
       "<table border=\"1\" class=\"dataframe\">\n",
       "  <thead>\n",
       "    <tr style=\"text-align: right;\">\n",
       "      <th></th>\n",
       "      <th>observación</th>\n",
       "      <th>Y</th>\n",
       "      <th>X</th>\n",
       "      <th>X2</th>\n",
       "    </tr>\n",
       "  </thead>\n",
       "  <tbody>\n",
       "    <tr>\n",
       "      <th>0</th>\n",
       "      <td>1</td>\n",
       "      <td>19.246957</td>\n",
       "      <td>23</td>\n",
       "      <td>529</td>\n",
       "    </tr>\n",
       "    <tr>\n",
       "      <th>1</th>\n",
       "      <td>2</td>\n",
       "      <td>16.878501</td>\n",
       "      <td>19</td>\n",
       "      <td>361</td>\n",
       "    </tr>\n",
       "    <tr>\n",
       "      <th>2</th>\n",
       "      <td>3</td>\n",
       "      <td>20.187237</td>\n",
       "      <td>27</td>\n",
       "      <td>729</td>\n",
       "    </tr>\n",
       "    <tr>\n",
       "      <th>3</th>\n",
       "      <td>4</td>\n",
       "      <td>12.176789</td>\n",
       "      <td>13</td>\n",
       "      <td>169</td>\n",
       "    </tr>\n",
       "    <tr>\n",
       "      <th>4</th>\n",
       "      <td>5</td>\n",
       "      <td>21.420112</td>\n",
       "      <td>21</td>\n",
       "      <td>441</td>\n",
       "    </tr>\n",
       "  </tbody>\n",
       "</table>\n",
       "</div>"
      ],
      "text/plain": [
       "   observación          Y   X   X2\n",
       "0            1  19.246957  23  529\n",
       "1            2  16.878501  19  361\n",
       "2            3  20.187237  27  729\n",
       "3            4  12.176789  13  169\n",
       "4            5  21.420112  21  441"
      ]
     },
     "execution_count": 22,
     "metadata": {},
     "output_type": "execute_result"
    }
   ],
   "source": [
    "datos.head()"
   ]
  },
  {
   "cell_type": "code",
   "execution_count": 23,
   "id": "c60e2e85",
   "metadata": {},
   "outputs": [],
   "source": [
    "# vamos a generar el pronostico de y (y^)\n",
    "datos['Y_hat'] = resultado2.predict(datos)"
   ]
  },
  {
   "cell_type": "code",
   "execution_count": 24,
   "id": "b8ffd9f4",
   "metadata": {},
   "outputs": [
    {
     "data": {
      "text/html": [
       "<div>\n",
       "<style scoped>\n",
       "    .dataframe tbody tr th:only-of-type {\n",
       "        vertical-align: middle;\n",
       "    }\n",
       "\n",
       "    .dataframe tbody tr th {\n",
       "        vertical-align: top;\n",
       "    }\n",
       "\n",
       "    .dataframe thead th {\n",
       "        text-align: right;\n",
       "    }\n",
       "</style>\n",
       "<table border=\"1\" class=\"dataframe\">\n",
       "  <thead>\n",
       "    <tr style=\"text-align: right;\">\n",
       "      <th></th>\n",
       "      <th>observación</th>\n",
       "      <th>Y</th>\n",
       "      <th>X</th>\n",
       "      <th>X2</th>\n",
       "      <th>Y_hat</th>\n",
       "    </tr>\n",
       "  </thead>\n",
       "  <tbody>\n",
       "    <tr>\n",
       "      <th>0</th>\n",
       "      <td>1</td>\n",
       "      <td>19.246957</td>\n",
       "      <td>23</td>\n",
       "      <td>529</td>\n",
       "      <td>22.340436</td>\n",
       "    </tr>\n",
       "    <tr>\n",
       "      <th>1</th>\n",
       "      <td>2</td>\n",
       "      <td>16.878501</td>\n",
       "      <td>19</td>\n",
       "      <td>361</td>\n",
       "      <td>20.049010</td>\n",
       "    </tr>\n",
       "    <tr>\n",
       "      <th>2</th>\n",
       "      <td>3</td>\n",
       "      <td>20.187237</td>\n",
       "      <td>27</td>\n",
       "      <td>729</td>\n",
       "      <td>24.608946</td>\n",
       "    </tr>\n",
       "    <tr>\n",
       "      <th>3</th>\n",
       "      <td>4</td>\n",
       "      <td>12.176789</td>\n",
       "      <td>13</td>\n",
       "      <td>169</td>\n",
       "      <td>16.568905</td>\n",
       "    </tr>\n",
       "    <tr>\n",
       "      <th>4</th>\n",
       "      <td>5</td>\n",
       "      <td>21.420112</td>\n",
       "      <td>21</td>\n",
       "      <td>441</td>\n",
       "      <td>21.197588</td>\n",
       "    </tr>\n",
       "  </tbody>\n",
       "</table>\n",
       "</div>"
      ],
      "text/plain": [
       "   observación          Y   X   X2      Y_hat\n",
       "0            1  19.246957  23  529  22.340436\n",
       "1            2  16.878501  19  361  20.049010\n",
       "2            3  20.187237  27  729  24.608946\n",
       "3            4  12.176789  13  169  16.568905\n",
       "4            5  21.420112  21  441  21.197588"
      ]
     },
     "execution_count": 24,
     "metadata": {},
     "output_type": "execute_result"
    }
   ],
   "source": [
    "datos.head()"
   ]
  },
  {
   "cell_type": "code",
   "execution_count": 26,
   "id": "febb7a22",
   "metadata": {},
   "outputs": [],
   "source": [
    "from sklearn.metrics import mean_absolute_error as mad"
   ]
  },
  {
   "cell_type": "code",
   "execution_count": 27,
   "id": "5f619b5e",
   "metadata": {},
   "outputs": [
    {
     "data": {
      "text/plain": [
       "2.3553110792438807"
      ]
     },
     "execution_count": 27,
     "metadata": {},
     "output_type": "execute_result"
    }
   ],
   "source": [
    "mad(datos['Y'], datos['Y_hat'])"
   ]
  }
 ],
 "metadata": {
  "kernelspec": {
   "display_name": "Python 3 (ipykernel)",
   "language": "python",
   "name": "python3"
  },
  "language_info": {
   "codemirror_mode": {
    "name": "ipython",
    "version": 3
   },
   "file_extension": ".py",
   "mimetype": "text/x-python",
   "name": "python",
   "nbconvert_exporter": "python",
   "pygments_lexer": "ipython3",
   "version": "3.9.13"
  }
 },
 "nbformat": 4,
 "nbformat_minor": 5
}
