{
 "cells": [
  {
   "cell_type": "markdown",
   "id": "f8b21b09-bd30-431a-b421-74428b1a749f",
   "metadata": {},
   "source": [
    "# Estadística Aplicada\n",
    "## Actuaría FCFM\n",
    "### EJHR 2034175"
   ]
  },
  {
   "cell_type": "markdown",
   "id": "415807a4-101a-4519-96b0-5c1fa0167578",
   "metadata": {},
   "source": [
    "Esto se va a hacer **negritas** (para cada linea actualizar a Markdown o Descuento)"
   ]
  },
  {
   "cell_type": "markdown",
   "id": "89503f15-f0d4-485b-aca5-d5009b6c4a56",
   "metadata": {},
   "source": [
    "$y_i=mx_i+b$"
   ]
  },
  {
   "cell_type": "code",
   "execution_count": 6,
   "id": "a987e082-7fb2-4372-a89f-c8f1b6b717ea",
   "metadata": {},
   "outputs": [],
   "source": [
    "variable1 = 1.34"
   ]
  },
  {
   "cell_type": "code",
   "execution_count": 7,
   "id": "128b0845-fa3b-44bc-bd56-fbcbbfdd1522",
   "metadata": {},
   "outputs": [
    {
     "data": {
      "text/plain": [
       "1.34"
      ]
     },
     "execution_count": 7,
     "metadata": {},
     "output_type": "execute_result"
    }
   ],
   "source": [
    "variable1"
   ]
  },
  {
   "cell_type": "code",
   "execution_count": 8,
   "id": "2d8dd878-8a1e-4321-9459-dc3350948c0d",
   "metadata": {},
   "outputs": [],
   "source": [
    "variable2 = 2"
   ]
  },
  {
   "cell_type": "code",
   "execution_count": 9,
   "id": "18566768-a314-4cbb-aadd-8b5dfac35268",
   "metadata": {},
   "outputs": [],
   "source": [
    "variable3 = 'A'"
   ]
  },
  {
   "cell_type": "markdown",
   "id": "5a2d2c63-ee2a-497e-8e50-2a32d06a20f7",
   "metadata": {},
   "source": [
    "### Para ver que tipo de dato tenemos"
   ]
  },
  {
   "cell_type": "code",
   "execution_count": 14,
   "id": "22020e44-32ce-4659-8c70-7e71f76e722b",
   "metadata": {},
   "outputs": [
    {
     "data": {
      "text/plain": [
       "float"
      ]
     },
     "execution_count": 14,
     "metadata": {},
     "output_type": "execute_result"
    }
   ],
   "source": [
    "type(variable1)"
   ]
  },
  {
   "cell_type": "code",
   "execution_count": 15,
   "id": "982c2848-6078-4406-b9ac-d45103e0bd70",
   "metadata": {},
   "outputs": [
    {
     "data": {
      "text/plain": [
       "int"
      ]
     },
     "execution_count": 15,
     "metadata": {},
     "output_type": "execute_result"
    }
   ],
   "source": [
    "type(variable2)"
   ]
  },
  {
   "cell_type": "code",
   "execution_count": 16,
   "id": "d2f70346-5384-4452-8000-97dfa169a8f0",
   "metadata": {},
   "outputs": [
    {
     "data": {
      "text/plain": [
       "str"
      ]
     },
     "execution_count": 16,
     "metadata": {},
     "output_type": "execute_result"
    }
   ],
   "source": [
    "type(variable3)"
   ]
  },
  {
   "cell_type": "markdown",
   "id": "2f4b0347-bbc8-4556-9f28-d78ca2bd04c8",
   "metadata": {},
   "source": [
    "### Para convertir a un tipo de dato especifico"
   ]
  },
  {
   "cell_type": "code",
   "execution_count": 17,
   "id": "e87fb262-e6ac-4ac2-8e66-329e2e9d4422",
   "metadata": {},
   "outputs": [
    {
     "data": {
      "text/plain": [
       "2.0"
      ]
     },
     "execution_count": 17,
     "metadata": {},
     "output_type": "execute_result"
    }
   ],
   "source": [
    "float (variable2)"
   ]
  },
  {
   "cell_type": "code",
   "execution_count": 20,
   "id": "fb143143-b5b9-42bc-a70c-16fecfb28427",
   "metadata": {},
   "outputs": [],
   "source": [
    "variable2 =float(variable2)"
   ]
  },
  {
   "cell_type": "code",
   "execution_count": 21,
   "id": "008096e9-f325-4841-9960-5428695fa920",
   "metadata": {},
   "outputs": [
    {
     "data": {
      "text/plain": [
       "float"
      ]
     },
     "execution_count": 21,
     "metadata": {},
     "output_type": "execute_result"
    }
   ],
   "source": [
    "type(variable2)"
   ]
  },
  {
   "cell_type": "markdown",
   "id": "a6c187f3-0d7b-49b2-8c68-67829810c2db",
   "metadata": {},
   "source": [
    "### Visualizacion de variables; el primero nos intuye que tipo de dato es, el 2do solo imprime"
   ]
  },
  {
   "cell_type": "code",
   "execution_count": 23,
   "id": "a524868d-3c59-42d4-9724-8102cc94b4b7",
   "metadata": {},
   "outputs": [
    {
     "data": {
      "text/plain": [
       "'A'"
      ]
     },
     "execution_count": 23,
     "metadata": {},
     "output_type": "execute_result"
    }
   ],
   "source": [
    "variable3"
   ]
  },
  {
   "cell_type": "code",
   "execution_count": 22,
   "id": "baaeb0de-8603-4f63-8a7e-7b990e18e32d",
   "metadata": {},
   "outputs": [
    {
     "name": "stdout",
     "output_type": "stream",
     "text": [
      "A\n"
     ]
    }
   ],
   "source": [
    "print(variable3)"
   ]
  },
  {
   "cell_type": "code",
   "execution_count": 24,
   "id": "1bec010e-6449-4d0b-bf15-7798b45d27f9",
   "metadata": {},
   "outputs": [
    {
     "data": {
      "text/plain": [
       "(2.0, 'A')"
      ]
     },
     "execution_count": 24,
     "metadata": {},
     "output_type": "execute_result"
    }
   ],
   "source": [
    "variable2, variable3"
   ]
  },
  {
   "cell_type": "code",
   "execution_count": 25,
   "id": "98474966-d499-44c4-a8f1-e6d44061e0be",
   "metadata": {},
   "outputs": [
    {
     "name": "stdout",
     "output_type": "stream",
     "text": [
      "2.0 A\n"
     ]
    }
   ],
   "source": [
    "print(variable2,variable3)"
   ]
  },
  {
   "cell_type": "code",
   "execution_count": 26,
   "id": "6ca976d6-e8d7-4055-b700-efe60d86b05c",
   "metadata": {},
   "outputs": [
    {
     "name": "stdout",
     "output_type": "stream",
     "text": [
      "Este es un dos decimal 2.0\n"
     ]
    }
   ],
   "source": [
    "print(\"Este es un dos decimal\", variable2)"
   ]
  },
  {
   "cell_type": "markdown",
   "id": "b48b0044-9126-435d-bba5-3ef938166825",
   "metadata": {},
   "source": [
    "### Para referenciar un objeto en un print: f'texto: nombrevariable'"
   ]
  },
  {
   "cell_type": "code",
   "execution_count": 27,
   "id": "afafb16d-7ed1-49ce-ad7f-168455b4c565",
   "metadata": {},
   "outputs": [
    {
     "name": "stdout",
     "output_type": "stream",
     "text": [
      "Este es un dos decimal: 2.0\n"
     ]
    }
   ],
   "source": [
    "print(f'Este es un dos decimal: {variable2}')"
   ]
  },
  {
   "cell_type": "code",
   "execution_count": 29,
   "id": "f5d0c905-b9c7-4d90-a899-0237ee5f4a88",
   "metadata": {},
   "outputs": [],
   "source": [
    "boleano1 = True"
   ]
  },
  {
   "cell_type": "code",
   "execution_count": 30,
   "id": "f65495b2-7a1a-4405-8ef8-da45212a8589",
   "metadata": {},
   "outputs": [
    {
     "data": {
      "text/plain": [
       "bool"
      ]
     },
     "execution_count": 30,
     "metadata": {},
     "output_type": "execute_result"
    }
   ],
   "source": [
    "type (boleano1)"
   ]
  },
  {
   "cell_type": "code",
   "execution_count": 31,
   "id": "6879b4f1-be55-4ff5-a627-e5d0e1ca541a",
   "metadata": {},
   "outputs": [
    {
     "data": {
      "text/plain": [
       "False"
      ]
     },
     "execution_count": 31,
     "metadata": {},
     "output_type": "execute_result"
    }
   ],
   "source": [
    "7<5"
   ]
  },
  {
   "cell_type": "code",
   "execution_count": 33,
   "id": "63213fb5-d3c4-42c1-ace2-5b5f0166c1ed",
   "metadata": {},
   "outputs": [
    {
     "data": {
      "text/plain": [
       "True"
      ]
     },
     "execution_count": 33,
     "metadata": {},
     "output_type": "execute_result"
    }
   ],
   "source": [
    "9!=10"
   ]
  },
  {
   "cell_type": "code",
   "execution_count": 34,
   "id": "5251aff5-b363-4b52-a6a1-ae5dfa5d191b",
   "metadata": {},
   "outputs": [
    {
     "data": {
      "text/plain": [
       "True"
      ]
     },
     "execution_count": 34,
     "metadata": {},
     "output_type": "execute_result"
    }
   ],
   "source": [
    "7>5 & 7>2"
   ]
  },
  {
   "cell_type": "code",
   "execution_count": 35,
   "id": "1aa466b3-572c-494c-918b-508ad43f21fe",
   "metadata": {},
   "outputs": [
    {
     "data": {
      "text/plain": [
       "False"
      ]
     },
     "execution_count": 35,
     "metadata": {},
     "output_type": "execute_result"
    }
   ],
   "source": [
    "7>10 & 7>5"
   ]
  },
  {
   "cell_type": "markdown",
   "id": "974555b0-76e6-4fb9-8713-9761901adbb7",
   "metadata": {},
   "source": [
    "Vamos a sumar 5+7"
   ]
  },
  {
   "cell_type": "code",
   "execution_count": 36,
   "id": "07656fa1-3b26-4b14-ade6-36c1c56abc6a",
   "metadata": {},
   "outputs": [
    {
     "data": {
      "text/plain": [
       "12"
      ]
     },
     "execution_count": 36,
     "metadata": {},
     "output_type": "execute_result"
    }
   ],
   "source": [
    "5+7"
   ]
  },
  {
   "cell_type": "markdown",
   "id": "6217dbe6-e7c3-42b3-867b-106f95126939",
   "metadata": {},
   "source": [
    "Ahora a restar 10-3"
   ]
  },
  {
   "cell_type": "code",
   "execution_count": 38,
   "id": "a30b58df-1880-4764-9b0f-743c1b0d30a6",
   "metadata": {},
   "outputs": [
    {
     "data": {
      "text/plain": [
       "7"
      ]
     },
     "execution_count": 38,
     "metadata": {},
     "output_type": "execute_result"
    }
   ],
   "source": [
    "10-3"
   ]
  },
  {
   "cell_type": "markdown",
   "id": "39d682a8-6f32-49ac-981b-f0a5ba3fb916",
   "metadata": {},
   "source": [
    "Multiplicación"
   ]
  },
  {
   "cell_type": "code",
   "execution_count": 39,
   "id": "1eaad931-1289-4782-89ba-412b9f4a3dca",
   "metadata": {},
   "outputs": [
    {
     "data": {
      "text/plain": [
       "15"
      ]
     },
     "execution_count": 39,
     "metadata": {},
     "output_type": "execute_result"
    }
   ],
   "source": [
    "5*3"
   ]
  },
  {
   "cell_type": "markdown",
   "id": "668181ff-e938-468d-9f78-9a3b9ce2604d",
   "metadata": {},
   "source": [
    "Division 5/2"
   ]
  },
  {
   "cell_type": "code",
   "execution_count": 40,
   "id": "df130f6c-3f29-43a8-8403-5a9f8fcf7d65",
   "metadata": {},
   "outputs": [
    {
     "data": {
      "text/plain": [
       "2.5"
      ]
     },
     "execution_count": 40,
     "metadata": {},
     "output_type": "execute_result"
    }
   ],
   "source": [
    "5/2"
   ]
  },
  {
   "cell_type": "markdown",
   "id": "6f359412-8dc7-40e0-b715-ec766b0a3170",
   "metadata": {},
   "source": [
    "Potencia $ a^b $   $\\fracc{a}{b}$"
   ]
  },
  {
   "cell_type": "code",
   "execution_count": 41,
   "id": "38edce34-2380-4885-98bc-db217d19cb5d",
   "metadata": {},
   "outputs": [
    {
     "data": {
      "text/plain": [
       "9"
      ]
     },
     "execution_count": 41,
     "metadata": {},
     "output_type": "execute_result"
    }
   ],
   "source": [
    "3**2"
   ]
  },
  {
   "cell_type": "code",
   "execution_count": 42,
   "id": "9c628b50-101b-4f04-8f1a-b88946bb674d",
   "metadata": {},
   "outputs": [
    {
     "data": {
      "text/plain": [
       "9"
      ]
     },
     "execution_count": 42,
     "metadata": {},
     "output_type": "execute_result"
    }
   ],
   "source": [
    "pow(3,2)"
   ]
  }
 ],
 "metadata": {
  "kernelspec": {
   "display_name": "Python 3 (ipykernel)",
   "language": "python",
   "name": "python3"
  },
  "language_info": {
   "codemirror_mode": {
    "name": "ipython",
    "version": 3
   },
   "file_extension": ".py",
   "mimetype": "text/x-python",
   "name": "python",
   "nbconvert_exporter": "python",
   "pygments_lexer": "ipython3",
   "version": "3.9.13"
  }
 },
 "nbformat": 4,
 "nbformat_minor": 5
}
