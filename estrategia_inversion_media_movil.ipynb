{
 "cells": [
  {
   "cell_type": "markdown",
   "id": "c3c2e2d4",
   "metadata": {},
   "source": [
    "# Estrategia de inversión con base en medias moviles"
   ]
  },
  {
   "cell_type": "markdown",
   "id": "b0f536f0",
   "metadata": {},
   "source": [
    "**Estadística Aplicada**\n",
    "\n",
    "**Edwin Javier Hernández Rodríguez**\n",
    "\n",
    "**Sesion 15- 21 Marzo 2023 (primavera)**"
   ]
  },
  {
   "cell_type": "code",
   "execution_count": 1,
   "id": "543ceb81",
   "metadata": {},
   "outputs": [],
   "source": [
    "import numpy as np\n",
    "import pandas as pd\n",
    "import matplotlib.pyplot as plt\n",
    "%matplotlib inline"
   ]
  },
  {
   "cell_type": "code",
   "execution_count": 2,
   "id": "6926c36b",
   "metadata": {},
   "outputs": [],
   "source": [
    "#importar las librerias\n",
    "\n",
    "import yfinance as yf"
   ]
  },
  {
   "cell_type": "code",
   "execution_count": 3,
   "id": "760661b8",
   "metadata": {},
   "outputs": [],
   "source": [
    "## nombre en bolsa de la empresa\n",
    "ticker = 'AMZN'"
   ]
  },
  {
   "cell_type": "code",
   "execution_count": 4,
   "id": "5a9410ad",
   "metadata": {},
   "outputs": [],
   "source": [
    "amazon = yf.download(ticker,\n",
    "                    start='2019-01-01',\n",
    "                    end='2023-03-17',\n",
    "                    progress=False)"
   ]
  },
  {
   "cell_type": "code",
   "execution_count": 5,
   "id": "a198ccc3",
   "metadata": {},
   "outputs": [
    {
     "data": {
      "text/html": [
       "<div>\n",
       "<style scoped>\n",
       "    .dataframe tbody tr th:only-of-type {\n",
       "        vertical-align: middle;\n",
       "    }\n",
       "\n",
       "    .dataframe tbody tr th {\n",
       "        vertical-align: top;\n",
       "    }\n",
       "\n",
       "    .dataframe thead th {\n",
       "        text-align: right;\n",
       "    }\n",
       "</style>\n",
       "<table border=\"1\" class=\"dataframe\">\n",
       "  <thead>\n",
       "    <tr style=\"text-align: right;\">\n",
       "      <th></th>\n",
       "      <th>Open</th>\n",
       "      <th>High</th>\n",
       "      <th>Low</th>\n",
       "      <th>Close</th>\n",
       "      <th>Adj Close</th>\n",
       "      <th>Volume</th>\n",
       "    </tr>\n",
       "    <tr>\n",
       "      <th>Date</th>\n",
       "      <th></th>\n",
       "      <th></th>\n",
       "      <th></th>\n",
       "      <th></th>\n",
       "      <th></th>\n",
       "      <th></th>\n",
       "    </tr>\n",
       "  </thead>\n",
       "  <tbody>\n",
       "    <tr>\n",
       "      <th>2019-01-02 00:00:00-05:00</th>\n",
       "      <td>73.260002</td>\n",
       "      <td>77.667999</td>\n",
       "      <td>73.046501</td>\n",
       "      <td>76.956497</td>\n",
       "      <td>76.956497</td>\n",
       "      <td>159662000</td>\n",
       "    </tr>\n",
       "    <tr>\n",
       "      <th>2019-01-03 00:00:00-05:00</th>\n",
       "      <td>76.000504</td>\n",
       "      <td>76.900002</td>\n",
       "      <td>74.855499</td>\n",
       "      <td>75.014000</td>\n",
       "      <td>75.014000</td>\n",
       "      <td>139512000</td>\n",
       "    </tr>\n",
       "    <tr>\n",
       "      <th>2019-01-04 00:00:00-05:00</th>\n",
       "      <td>76.500000</td>\n",
       "      <td>79.699997</td>\n",
       "      <td>75.915497</td>\n",
       "      <td>78.769501</td>\n",
       "      <td>78.769501</td>\n",
       "      <td>183652000</td>\n",
       "    </tr>\n",
       "    <tr>\n",
       "      <th>2019-01-07 00:00:00-05:00</th>\n",
       "      <td>80.115501</td>\n",
       "      <td>81.727997</td>\n",
       "      <td>79.459503</td>\n",
       "      <td>81.475502</td>\n",
       "      <td>81.475502</td>\n",
       "      <td>159864000</td>\n",
       "    </tr>\n",
       "    <tr>\n",
       "      <th>2019-01-08 00:00:00-05:00</th>\n",
       "      <td>83.234497</td>\n",
       "      <td>83.830498</td>\n",
       "      <td>80.830498</td>\n",
       "      <td>82.829002</td>\n",
       "      <td>82.829002</td>\n",
       "      <td>177628000</td>\n",
       "    </tr>\n",
       "    <tr>\n",
       "      <th>...</th>\n",
       "      <td>...</td>\n",
       "      <td>...</td>\n",
       "      <td>...</td>\n",
       "      <td>...</td>\n",
       "      <td>...</td>\n",
       "      <td>...</td>\n",
       "    </tr>\n",
       "    <tr>\n",
       "      <th>2023-03-10 00:00:00-05:00</th>\n",
       "      <td>92.669998</td>\n",
       "      <td>93.570000</td>\n",
       "      <td>90.250000</td>\n",
       "      <td>90.730003</td>\n",
       "      <td>90.730003</td>\n",
       "      <td>69747500</td>\n",
       "    </tr>\n",
       "    <tr>\n",
       "      <th>2023-03-13 00:00:00-04:00</th>\n",
       "      <td>89.970001</td>\n",
       "      <td>94.019997</td>\n",
       "      <td>88.120003</td>\n",
       "      <td>92.430000</td>\n",
       "      <td>92.430000</td>\n",
       "      <td>72397100</td>\n",
       "    </tr>\n",
       "    <tr>\n",
       "      <th>2023-03-14 00:00:00-04:00</th>\n",
       "      <td>93.830002</td>\n",
       "      <td>95.070000</td>\n",
       "      <td>92.709999</td>\n",
       "      <td>94.879997</td>\n",
       "      <td>94.879997</td>\n",
       "      <td>60912700</td>\n",
       "    </tr>\n",
       "    <tr>\n",
       "      <th>2023-03-15 00:00:00-04:00</th>\n",
       "      <td>93.220001</td>\n",
       "      <td>96.669998</td>\n",
       "      <td>93.070000</td>\n",
       "      <td>96.199997</td>\n",
       "      <td>96.199997</td>\n",
       "      <td>70731800</td>\n",
       "    </tr>\n",
       "    <tr>\n",
       "      <th>2023-03-16 00:00:00-04:00</th>\n",
       "      <td>95.750000</td>\n",
       "      <td>100.989998</td>\n",
       "      <td>95.610001</td>\n",
       "      <td>100.040001</td>\n",
       "      <td>100.040001</td>\n",
       "      <td>84446900</td>\n",
       "    </tr>\n",
       "  </tbody>\n",
       "</table>\n",
       "<p>1059 rows × 6 columns</p>\n",
       "</div>"
      ],
      "text/plain": [
       "                                Open        High        Low       Close  \\\n",
       "Date                                                                      \n",
       "2019-01-02 00:00:00-05:00  73.260002   77.667999  73.046501   76.956497   \n",
       "2019-01-03 00:00:00-05:00  76.000504   76.900002  74.855499   75.014000   \n",
       "2019-01-04 00:00:00-05:00  76.500000   79.699997  75.915497   78.769501   \n",
       "2019-01-07 00:00:00-05:00  80.115501   81.727997  79.459503   81.475502   \n",
       "2019-01-08 00:00:00-05:00  83.234497   83.830498  80.830498   82.829002   \n",
       "...                              ...         ...        ...         ...   \n",
       "2023-03-10 00:00:00-05:00  92.669998   93.570000  90.250000   90.730003   \n",
       "2023-03-13 00:00:00-04:00  89.970001   94.019997  88.120003   92.430000   \n",
       "2023-03-14 00:00:00-04:00  93.830002   95.070000  92.709999   94.879997   \n",
       "2023-03-15 00:00:00-04:00  93.220001   96.669998  93.070000   96.199997   \n",
       "2023-03-16 00:00:00-04:00  95.750000  100.989998  95.610001  100.040001   \n",
       "\n",
       "                            Adj Close     Volume  \n",
       "Date                                              \n",
       "2019-01-02 00:00:00-05:00   76.956497  159662000  \n",
       "2019-01-03 00:00:00-05:00   75.014000  139512000  \n",
       "2019-01-04 00:00:00-05:00   78.769501  183652000  \n",
       "2019-01-07 00:00:00-05:00   81.475502  159864000  \n",
       "2019-01-08 00:00:00-05:00   82.829002  177628000  \n",
       "...                               ...        ...  \n",
       "2023-03-10 00:00:00-05:00   90.730003   69747500  \n",
       "2023-03-13 00:00:00-04:00   92.430000   72397100  \n",
       "2023-03-14 00:00:00-04:00   94.879997   60912700  \n",
       "2023-03-15 00:00:00-04:00   96.199997   70731800  \n",
       "2023-03-16 00:00:00-04:00  100.040001   84446900  \n",
       "\n",
       "[1059 rows x 6 columns]"
      ]
     },
     "execution_count": 5,
     "metadata": {},
     "output_type": "execute_result"
    }
   ],
   "source": [
    "amazon"
   ]
  },
  {
   "cell_type": "code",
   "execution_count": 6,
   "id": "4cdba806",
   "metadata": {},
   "outputs": [],
   "source": [
    "amazon = amazon[['Adj Close']]"
   ]
  },
  {
   "cell_type": "code",
   "execution_count": 7,
   "id": "f09e177b",
   "metadata": {},
   "outputs": [],
   "source": [
    "amazon = amazon.rename(columns={'Adj Close': 'precio_cierre'})"
   ]
  },
  {
   "cell_type": "code",
   "execution_count": 8,
   "id": "7c904ea5",
   "metadata": {},
   "outputs": [],
   "source": [
    "#promedio movil a 10 días (señal de corto plazo)\n",
    "amazon['MA-10'] = amazon['precio_cierre'].rolling(window=10).mean()\n",
    "#promedio movil a 60 días (señal de largo plazo)\n",
    "amazon['MA-60'] = amazon['precio_cierre'].rolling(window=60).mean()"
   ]
  },
  {
   "cell_type": "code",
   "execution_count": 9,
   "id": "97cbb875",
   "metadata": {},
   "outputs": [],
   "source": [
    "amazon['invertir'] = amazon['MA-10'] > amazon['MA-60']"
   ]
  },
  {
   "cell_type": "code",
   "execution_count": 10,
   "id": "989c5330",
   "metadata": {},
   "outputs": [],
   "source": [
    "#SEÑAL\n",
    "#Crear una columna adicional que indique si se debe comprar o vender\n",
    "amazon['Signal'] = 0\n",
    "amazon.loc[amazon[\"invertir\"], \"Signal\"] = 1 #comprar / mantener\n",
    "amazon.loc[~amazon[\"invertir\"], \"Signal\"] = -1 #vender / no comprar"
   ]
  },
  {
   "cell_type": "code",
   "execution_count": 14,
   "id": "972c6790",
   "metadata": {},
   "outputs": [],
   "source": [
    "#vamos a verificar cual sería el rendimiento de esta estrategia de inversión"
   ]
  },
  {
   "cell_type": "markdown",
   "id": "eeec38c9",
   "metadata": {},
   "source": [
    "$rendimiento = \\frac{P_t - P_{t-1}}{P_{t-1}} $"
   ]
  },
  {
   "cell_type": "code",
   "execution_count": 11,
   "id": "91370044",
   "metadata": {},
   "outputs": [],
   "source": [
    "#rendimiento de la acción amazon\n",
    "amazon['rendimiento'] = amazon['precio_cierre'].pct_change()"
   ]
  },
  {
   "cell_type": "code",
   "execution_count": 16,
   "id": "0416a099",
   "metadata": {},
   "outputs": [],
   "source": [
    "#grafica MA-10 y MA-60"
   ]
  },
  {
   "cell_type": "code",
   "execution_count": 12,
   "id": "4df953ff",
   "metadata": {
    "scrolled": true
   },
   "outputs": [
    {
     "data": {
      "image/png": "[encoded data removed]",
      "text/plain": [
       "<Figure size 600x1200 with 1 Axes>"
      ]
     },
     "metadata": {},
     "output_type": "display_data"
    }
   ],
   "source": [
    "#grafica de la acción\n",
    "amazon[['MA-10', 'MA-60']].plot(figsize=(6,12))\n",
    "plt.title('precio de la acción de amazon\\n 2019 - 2023')\n",
    "plt.show()"
   ]
  },
  {
   "cell_type": "code",
   "execution_count": 14,
   "id": "51ec7f3d",
   "metadata": {},
   "outputs": [
    {
     "data": {
      "text/html": [
       "<div>\n",
       "<style scoped>\n",
       "    .dataframe tbody tr th:only-of-type {\n",
       "        vertical-align: middle;\n",
       "    }\n",
       "\n",
       "    .dataframe tbody tr th {\n",
       "        vertical-align: top;\n",
       "    }\n",
       "\n",
       "    .dataframe thead th {\n",
       "        text-align: right;\n",
       "    }\n",
       "</style>\n",
       "<table border=\"1\" class=\"dataframe\">\n",
       "  <thead>\n",
       "    <tr style=\"text-align: right;\">\n",
       "      <th></th>\n",
       "      <th>precio_cierre</th>\n",
       "      <th>MA-10</th>\n",
       "      <th>MA-60</th>\n",
       "      <th>invertir</th>\n",
       "      <th>Signal</th>\n",
       "      <th>rendimiento</th>\n",
       "    </tr>\n",
       "    <tr>\n",
       "      <th>Date</th>\n",
       "      <th></th>\n",
       "      <th></th>\n",
       "      <th></th>\n",
       "      <th></th>\n",
       "      <th></th>\n",
       "      <th></th>\n",
       "    </tr>\n",
       "  </thead>\n",
       "  <tbody>\n",
       "    <tr>\n",
       "      <th>2019-01-02 00:00:00-05:00</th>\n",
       "      <td>76.956497</td>\n",
       "      <td>NaN</td>\n",
       "      <td>NaN</td>\n",
       "      <td>False</td>\n",
       "      <td>-1</td>\n",
       "      <td>NaN</td>\n",
       "    </tr>\n",
       "    <tr>\n",
       "      <th>2019-01-03 00:00:00-05:00</th>\n",
       "      <td>75.014000</td>\n",
       "      <td>NaN</td>\n",
       "      <td>NaN</td>\n",
       "      <td>False</td>\n",
       "      <td>-1</td>\n",
       "      <td>-0.025241</td>\n",
       "    </tr>\n",
       "    <tr>\n",
       "      <th>2019-01-04 00:00:00-05:00</th>\n",
       "      <td>78.769501</td>\n",
       "      <td>NaN</td>\n",
       "      <td>NaN</td>\n",
       "      <td>False</td>\n",
       "      <td>-1</td>\n",
       "      <td>0.050064</td>\n",
       "    </tr>\n",
       "    <tr>\n",
       "      <th>2019-01-07 00:00:00-05:00</th>\n",
       "      <td>81.475502</td>\n",
       "      <td>NaN</td>\n",
       "      <td>NaN</td>\n",
       "      <td>False</td>\n",
       "      <td>-1</td>\n",
       "      <td>0.034353</td>\n",
       "    </tr>\n",
       "    <tr>\n",
       "      <th>2019-01-08 00:00:00-05:00</th>\n",
       "      <td>82.829002</td>\n",
       "      <td>NaN</td>\n",
       "      <td>NaN</td>\n",
       "      <td>False</td>\n",
       "      <td>-1</td>\n",
       "      <td>0.016612</td>\n",
       "    </tr>\n",
       "    <tr>\n",
       "      <th>...</th>\n",
       "      <td>...</td>\n",
       "      <td>...</td>\n",
       "      <td>...</td>\n",
       "      <td>...</td>\n",
       "      <td>...</td>\n",
       "      <td>...</td>\n",
       "    </tr>\n",
       "    <tr>\n",
       "      <th>2023-03-10 00:00:00-05:00</th>\n",
       "      <td>90.730003</td>\n",
       "      <td>93.139001</td>\n",
       "      <td>93.871334</td>\n",
       "      <td>False</td>\n",
       "      <td>-1</td>\n",
       "      <td>-0.016477</td>\n",
       "    </tr>\n",
       "    <tr>\n",
       "      <th>2023-03-13 00:00:00-04:00</th>\n",
       "      <td>92.430000</td>\n",
       "      <td>93.006001</td>\n",
       "      <td>93.870334</td>\n",
       "      <td>False</td>\n",
       "      <td>-1</td>\n",
       "      <td>0.018737</td>\n",
       "    </tr>\n",
       "    <tr>\n",
       "      <th>2023-03-14 00:00:00-04:00</th>\n",
       "      <td>94.879997</td>\n",
       "      <td>93.071000</td>\n",
       "      <td>93.925334</td>\n",
       "      <td>False</td>\n",
       "      <td>-1</td>\n",
       "      <td>0.026507</td>\n",
       "    </tr>\n",
       "    <tr>\n",
       "      <th>2023-03-15 00:00:00-04:00</th>\n",
       "      <td>96.199997</td>\n",
       "      <td>93.474000</td>\n",
       "      <td>94.054500</td>\n",
       "      <td>False</td>\n",
       "      <td>-1</td>\n",
       "      <td>0.013912</td>\n",
       "    </tr>\n",
       "    <tr>\n",
       "      <th>2023-03-16 00:00:00-04:00</th>\n",
       "      <td>100.040001</td>\n",
       "      <td>94.265000</td>\n",
       "      <td>94.257500</td>\n",
       "      <td>True</td>\n",
       "      <td>1</td>\n",
       "      <td>0.039917</td>\n",
       "    </tr>\n",
       "  </tbody>\n",
       "</table>\n",
       "<p>1059 rows × 6 columns</p>\n",
       "</div>"
      ],
      "text/plain": [
       "                           precio_cierre      MA-10      MA-60  invertir  \\\n",
       "Date                                                                       \n",
       "2019-01-02 00:00:00-05:00      76.956497        NaN        NaN     False   \n",
       "2019-01-03 00:00:00-05:00      75.014000        NaN        NaN     False   \n",
       "2019-01-04 00:00:00-05:00      78.769501        NaN        NaN     False   \n",
       "2019-01-07 00:00:00-05:00      81.475502        NaN        NaN     False   \n",
       "2019-01-08 00:00:00-05:00      82.829002        NaN        NaN     False   \n",
       "...                                  ...        ...        ...       ...   \n",
       "2023-03-10 00:00:00-05:00      90.730003  93.139001  93.871334     False   \n",
       "2023-03-13 00:00:00-04:00      92.430000  93.006001  93.870334     False   \n",
       "2023-03-14 00:00:00-04:00      94.879997  93.071000  93.925334     False   \n",
       "2023-03-15 00:00:00-04:00      96.199997  93.474000  94.054500     False   \n",
       "2023-03-16 00:00:00-04:00     100.040001  94.265000  94.257500      True   \n",
       "\n",
       "                           Signal  rendimiento  \n",
       "Date                                            \n",
       "2019-01-02 00:00:00-05:00      -1          NaN  \n",
       "2019-01-03 00:00:00-05:00      -1    -0.025241  \n",
       "2019-01-04 00:00:00-05:00      -1     0.050064  \n",
       "2019-01-07 00:00:00-05:00      -1     0.034353  \n",
       "2019-01-08 00:00:00-05:00      -1     0.016612  \n",
       "...                           ...          ...  \n",
       "2023-03-10 00:00:00-05:00      -1    -0.016477  \n",
       "2023-03-13 00:00:00-04:00      -1     0.018737  \n",
       "2023-03-14 00:00:00-04:00      -1     0.026507  \n",
       "2023-03-15 00:00:00-04:00      -1     0.013912  \n",
       "2023-03-16 00:00:00-04:00       1     0.039917  \n",
       "\n",
       "[1059 rows x 6 columns]"
      ]
     },
     "execution_count": 14,
     "metadata": {},
     "output_type": "execute_result"
    }
   ],
   "source": [
    "amazon"
   ]
  },
  {
   "cell_type": "code",
   "execution_count": 15,
   "id": "8b47cbec",
   "metadata": {},
   "outputs": [
    {
     "data": {
      "text/plain": [
       "0.534"
      ]
     },
     "execution_count": 15,
     "metadata": {},
     "output_type": "execute_result"
    }
   ],
   "source": [
    "#rendimiento total del periodo\n",
    "amazon['rendimiento'].sum().round(3)"
   ]
  },
  {
   "cell_type": "code",
   "execution_count": 16,
   "id": "08bb146b",
   "metadata": {},
   "outputs": [
    {
     "data": {
      "text/plain": [
       "0.33488667181020637"
      ]
     },
     "execution_count": 16,
     "metadata": {},
     "output_type": "execute_result"
    }
   ],
   "source": [
    "amazon.query('Signal==-1')['rendimiento'].sum()"
   ]
  },
  {
   "cell_type": "code",
   "execution_count": null,
   "id": "68dd8456",
   "metadata": {},
   "outputs": [],
   "source": []
  },
  {
   "cell_type": "code",
   "execution_count": null,
   "id": "3f5651b7",
   "metadata": {},
   "outputs": [],
   "source": []
  },
  {
   "cell_type": "code",
   "execution_count": null,
   "id": "b7de13bd",
   "metadata": {},
   "outputs": [],
   "source": []
  },
  {
   "cell_type": "code",
   "execution_count": null,
   "id": "e0d384d8",
   "metadata": {},
   "outputs": [],
   "source": []
  }
 ],
 "metadata": {
  "kernelspec": {
   "display_name": "Python 3 (ipykernel)",
   "language": "python",
   "name": "python3"
  },
  "language_info": {
   "codemirror_mode": {
    "name": "ipython",
    "version": 3
   },
   "file_extension": ".py",
   "mimetype": "text/x-python",
   "name": "python",
   "nbconvert_exporter": "python",
   "pygments_lexer": "ipython3",
   "version": "3.9.13"
  }
 },
 "nbformat": 4,
 "nbformat_minor": 5
}
