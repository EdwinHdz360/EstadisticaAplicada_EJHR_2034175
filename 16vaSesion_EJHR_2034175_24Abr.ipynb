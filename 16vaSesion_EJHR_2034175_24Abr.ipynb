{
 "cells": [
  {
   "cell_type": "markdown",
   "id": "9269a883",
   "metadata": {},
   "source": [
    "**Estadística Aplicada**\n",
    "\n",
    "**Edwin Javier Hernández Rodríguez**\n",
    "\n",
    "**Sesion 16- 24 Abril 2023**"
   ]
  },
  {
   "cell_type": "code",
   "execution_count": 1,
   "id": "142f2cc8",
   "metadata": {},
   "outputs": [],
   "source": [
    "#las de siempre\n",
    "import numpy as np\n",
    "import pandas as pd\n",
    "import matplotlib.pyplot as plt\n",
    "%matplotlib inline"
   ]
  },
  {
   "cell_type": "code",
   "execution_count": 2,
   "id": "10c20729",
   "metadata": {},
   "outputs": [],
   "source": [
    "# las librerias de series de tiempo:\n",
    "from statsmodels.graphics.tsaplots import plot_acf\n",
    "from statsmodels.graphics.tsaplots import plot_pacf\n",
    "from statsmodels.tsa.stattools import adfuller"
   ]
  },
  {
   "cell_type": "code",
   "execution_count": 3,
   "id": "8f2be71e",
   "metadata": {},
   "outputs": [],
   "source": [
    "procesos = pd.read_excel('C:/Users/Lenovo/Desktop/EJHR/procesos_estacionarios.xlsx')"
   ]
  },
  {
   "cell_type": "code",
   "execution_count": 4,
   "id": "8bff563e",
   "metadata": {},
   "outputs": [
    {
     "data": {
      "text/html": [
       "<div>\n",
       "<style scoped>\n",
       "    .dataframe tbody tr th:only-of-type {\n",
       "        vertical-align: middle;\n",
       "    }\n",
       "\n",
       "    .dataframe tbody tr th {\n",
       "        vertical-align: top;\n",
       "    }\n",
       "\n",
       "    .dataframe thead th {\n",
       "        text-align: right;\n",
       "    }\n",
       "</style>\n",
       "<table border=\"1\" class=\"dataframe\">\n",
       "  <thead>\n",
       "    <tr style=\"text-align: right;\">\n",
       "      <th></th>\n",
       "      <th>tiempo</th>\n",
       "      <th>ruido_blanco</th>\n",
       "      <th>AR_1</th>\n",
       "      <th>MA</th>\n",
       "    </tr>\n",
       "  </thead>\n",
       "  <tbody>\n",
       "    <tr>\n",
       "      <th>0</th>\n",
       "      <td>1</td>\n",
       "      <td>1.182407</td>\n",
       "      <td>2.382407</td>\n",
       "      <td>3.182407</td>\n",
       "    </tr>\n",
       "    <tr>\n",
       "      <th>1</th>\n",
       "      <td>2</td>\n",
       "      <td>0.434423</td>\n",
       "      <td>1.863867</td>\n",
       "      <td>3.025627</td>\n",
       "    </tr>\n",
       "    <tr>\n",
       "      <th>2</th>\n",
       "      <td>3</td>\n",
       "      <td>-0.400921</td>\n",
       "      <td>0.717399</td>\n",
       "      <td>1.816290</td>\n",
       "    </tr>\n",
       "    <tr>\n",
       "      <th>3</th>\n",
       "      <td>4</td>\n",
       "      <td>0.466634</td>\n",
       "      <td>0.897073</td>\n",
       "      <td>2.266173</td>\n",
       "    </tr>\n",
       "    <tr>\n",
       "      <th>4</th>\n",
       "      <td>5</td>\n",
       "      <td>1.991007</td>\n",
       "      <td>2.529251</td>\n",
       "      <td>4.224324</td>\n",
       "    </tr>\n",
       "    <tr>\n",
       "      <th>...</th>\n",
       "      <td>...</td>\n",
       "      <td>...</td>\n",
       "      <td>...</td>\n",
       "      <td>...</td>\n",
       "    </tr>\n",
       "    <tr>\n",
       "      <th>995</th>\n",
       "      <td>996</td>\n",
       "      <td>0.859300</td>\n",
       "      <td>2.365750</td>\n",
       "      <td>3.768783</td>\n",
       "    </tr>\n",
       "    <tr>\n",
       "      <th>996</th>\n",
       "      <td>997</td>\n",
       "      <td>1.285160</td>\n",
       "      <td>2.704610</td>\n",
       "      <td>3.714810</td>\n",
       "    </tr>\n",
       "    <tr>\n",
       "      <th>997</th>\n",
       "      <td>998</td>\n",
       "      <td>0.097999</td>\n",
       "      <td>1.720765</td>\n",
       "      <td>2.740579</td>\n",
       "    </tr>\n",
       "    <tr>\n",
       "      <th>998</th>\n",
       "      <td>999</td>\n",
       "      <td>-0.928271</td>\n",
       "      <td>0.104188</td>\n",
       "      <td>1.120729</td>\n",
       "    </tr>\n",
       "    <tr>\n",
       "      <th>999</th>\n",
       "      <td>1000</td>\n",
       "      <td>0.032853</td>\n",
       "      <td>0.095366</td>\n",
       "      <td>1.568718</td>\n",
       "    </tr>\n",
       "  </tbody>\n",
       "</table>\n",
       "<p>1000 rows × 4 columns</p>\n",
       "</div>"
      ],
      "text/plain": [
       "     tiempo  ruido_blanco      AR_1        MA\n",
       "0         1      1.182407  2.382407  3.182407\n",
       "1         2      0.434423  1.863867  3.025627\n",
       "2         3     -0.400921  0.717399  1.816290\n",
       "3         4      0.466634  0.897073  2.266173\n",
       "4         5      1.991007  2.529251  4.224324\n",
       "..      ...           ...       ...       ...\n",
       "995     996      0.859300  2.365750  3.768783\n",
       "996     997      1.285160  2.704610  3.714810\n",
       "997     998      0.097999  1.720765  2.740579\n",
       "998     999     -0.928271  0.104188  1.120729\n",
       "999    1000      0.032853  0.095366  1.568718\n",
       "\n",
       "[1000 rows x 4 columns]"
      ]
     },
     "execution_count": 4,
     "metadata": {},
     "output_type": "execute_result"
    }
   ],
   "source": [
    "procesos"
   ]
  },
  {
   "cell_type": "markdown",
   "id": "19f0e842",
   "metadata": {},
   "source": [
    "**1. Comprobar si el proceso es estacionario**\n",
    "\n",
    "La prueba de Dickey-Fuller aumentada"
   ]
  },
  {
   "cell_type": "code",
   "execution_count": 7,
   "id": "92361b67",
   "metadata": {},
   "outputs": [
    {
     "name": "stdout",
     "output_type": "stream",
     "text": [
      "Se rechaza H0, la serie es estacionaria\n"
     ]
    }
   ],
   "source": [
    "adfuller = adfuller(procesos['ruido_blanco'])\n",
    "\n",
    "#nivel de significancia de 0.05\n",
    "alpha = 0.05\n",
    "if adfuller[2] < alpha:\n",
    "    print('Se rechaza H0, la serie es estacionaria')\n",
    "else:\n",
    "    print('No rechaza H0, la serie es NO estacionaria')\n"
   ]
  },
  {
   "cell_type": "markdown",
   "id": "f07964af",
   "metadata": {},
   "source": [
    "**2. Verificar que tipo de proceso estacionario es**"
   ]
  },
  {
   "cell_type": "code",
   "execution_count": 12,
   "id": "2fd75f1e",
   "metadata": {},
   "outputs": [
    {
     "name": "stderr",
     "output_type": "stream",
     "text": [
      "C:\\Users\\Lenovo\\anaconda3\\lib\\site-packages\\statsmodels\\graphics\\tsaplots.py:348: FutureWarning: The default method 'yw' can produce PACF values outside of the [-1,1] interval. After 0.13, the default will change tounadjusted Yule-Walker ('ywm'). You can use this method now by setting method='ywm'.\n",
      "  warnings.warn(\n"
     ]
    },
    {
     "data": {
      "image/png": "[encoded data removed]",
      "text/plain": [
       "<Figure size 1200x400 with 2 Axes>"
      ]
     },
     "metadata": {},
     "output_type": "display_data"
    }
   ],
   "source": [
    "fig, ax =plt.subplots(1,2, figsize =(12,4))\n",
    "## subgrafica 0\n",
    "plot_acf(procesos['ruido_blanco'], zero=False, ax=ax[0], title= 'Función de autocorrelación ACF')\n",
    "ax[0].set_ylim(-1,1)\n",
    "## subgrafica 1\n",
    "plot_pacf(procesos['ruido_blanco'], zero=False, ax=ax[1], title= 'Función de autocorrelación parcial PACF')\n",
    "ax[1].set_ylim(-1,1)\n",
    "plt.show()"
   ]
  },
  {
   "cell_type": "code",
   "execution_count": null,
   "id": "332afeee",
   "metadata": {},
   "outputs": [],
   "source": []
  },
  {
   "cell_type": "code",
   "execution_count": null,
   "id": "fc70a210",
   "metadata": {},
   "outputs": [],
   "source": []
  }
 ],
 "metadata": {
  "kernelspec": {
   "display_name": "Python 3 (ipykernel)",
   "language": "python",
   "name": "python3"
  },
  "language_info": {
   "codemirror_mode": {
    "name": "ipython",
    "version": 3
   },
   "file_extension": ".py",
   "mimetype": "text/x-python",
   "name": "python",
   "nbconvert_exporter": "python",
   "pygments_lexer": "ipython3",
   "version": "3.9.13"
  }
 },
 "nbformat": 4,
 "nbformat_minor": 5
}
