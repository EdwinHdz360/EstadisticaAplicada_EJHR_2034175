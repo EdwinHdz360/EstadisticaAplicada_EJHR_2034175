{
 "cells": [
  {
   "cell_type": "markdown",
   "id": "f59bf046",
   "metadata": {},
   "source": [
    "# Estadistica Aplicada G41\n",
    "## Edwin Javier Hernandez Rodriguez\n",
    "### 10ma Sesion 28feb 2023 / Actividad 5 17 marzo"
   ]
  },
  {
   "cell_type": "code",
   "execution_count": 43,
   "id": "03a949e2",
   "metadata": {},
   "outputs": [],
   "source": [
    "import numpy as np \n",
    "import pandas as pd\n",
    "import matplotlib as plt\n",
    "%matplotlib inline"
   ]
  },
  {
   "cell_type": "code",
   "execution_count": 44,
   "id": "6f3b4a48",
   "metadata": {},
   "outputs": [],
   "source": [
    "#pip install lifelines;"
   ]
  },
  {
   "cell_type": "code",
   "execution_count": 85,
   "id": "5af26580",
   "metadata": {},
   "outputs": [],
   "source": [
    "alumnos = pd.read_excel('C:/Users/EHERNANDEZ/Downloads/supervivencia_examenes.xlsx')"
   ]
  },
  {
   "cell_type": "code",
   "execution_count": 7,
   "id": "52cb8c14",
   "metadata": {
    "scrolled": false
   },
   "outputs": [
    {
     "data": {
      "text/html": [
       "<div>\n",
       "<style scoped>\n",
       "    .dataframe tbody tr th:only-of-type {\n",
       "        vertical-align: middle;\n",
       "    }\n",
       "\n",
       "    .dataframe tbody tr th {\n",
       "        vertical-align: top;\n",
       "    }\n",
       "\n",
       "    .dataframe thead th {\n",
       "        text-align: right;\n",
       "    }\n",
       "</style>\n",
       "<table border=\"1\" class=\"dataframe\">\n",
       "  <thead>\n",
       "    <tr style=\"text-align: right;\">\n",
       "      <th></th>\n",
       "      <th>id</th>\n",
       "      <th>tiempo</th>\n",
       "      <th>examen</th>\n",
       "      <th>calificación</th>\n",
       "      <th>género</th>\n",
       "    </tr>\n",
       "  </thead>\n",
       "  <tbody>\n",
       "    <tr>\n",
       "      <th>0</th>\n",
       "      <td>1</td>\n",
       "      <td>85</td>\n",
       "      <td>1</td>\n",
       "      <td>100.0</td>\n",
       "      <td>m</td>\n",
       "    </tr>\n",
       "    <tr>\n",
       "      <th>1</th>\n",
       "      <td>2</td>\n",
       "      <td>109</td>\n",
       "      <td>1</td>\n",
       "      <td>100.0</td>\n",
       "      <td>m</td>\n",
       "    </tr>\n",
       "    <tr>\n",
       "      <th>2</th>\n",
       "      <td>3</td>\n",
       "      <td>118</td>\n",
       "      <td>1</td>\n",
       "      <td>100.0</td>\n",
       "      <td>m</td>\n",
       "    </tr>\n",
       "    <tr>\n",
       "      <th>3</th>\n",
       "      <td>4</td>\n",
       "      <td>120</td>\n",
       "      <td>1</td>\n",
       "      <td>100.0</td>\n",
       "      <td>f</td>\n",
       "    </tr>\n",
       "    <tr>\n",
       "      <th>4</th>\n",
       "      <td>5</td>\n",
       "      <td>106</td>\n",
       "      <td>1</td>\n",
       "      <td>98.0</td>\n",
       "      <td>f</td>\n",
       "    </tr>\n",
       "    <tr>\n",
       "      <th>5</th>\n",
       "      <td>6</td>\n",
       "      <td>103</td>\n",
       "      <td>1</td>\n",
       "      <td>98.0</td>\n",
       "      <td>m</td>\n",
       "    </tr>\n",
       "    <tr>\n",
       "      <th>6</th>\n",
       "      <td>7</td>\n",
       "      <td>108</td>\n",
       "      <td>1</td>\n",
       "      <td>96.0</td>\n",
       "      <td>f</td>\n",
       "    </tr>\n",
       "    <tr>\n",
       "      <th>7</th>\n",
       "      <td>8</td>\n",
       "      <td>119</td>\n",
       "      <td>1</td>\n",
       "      <td>96.0</td>\n",
       "      <td>f</td>\n",
       "    </tr>\n",
       "    <tr>\n",
       "      <th>8</th>\n",
       "      <td>9</td>\n",
       "      <td>115</td>\n",
       "      <td>1</td>\n",
       "      <td>96.0</td>\n",
       "      <td>f</td>\n",
       "    </tr>\n",
       "    <tr>\n",
       "      <th>9</th>\n",
       "      <td>10</td>\n",
       "      <td>108</td>\n",
       "      <td>1</td>\n",
       "      <td>94.0</td>\n",
       "      <td>f</td>\n",
       "    </tr>\n",
       "    <tr>\n",
       "      <th>10</th>\n",
       "      <td>11</td>\n",
       "      <td>87</td>\n",
       "      <td>1</td>\n",
       "      <td>88.0</td>\n",
       "      <td>m</td>\n",
       "    </tr>\n",
       "    <tr>\n",
       "      <th>11</th>\n",
       "      <td>12</td>\n",
       "      <td>99</td>\n",
       "      <td>1</td>\n",
       "      <td>86.0</td>\n",
       "      <td>f</td>\n",
       "    </tr>\n",
       "    <tr>\n",
       "      <th>12</th>\n",
       "      <td>13</td>\n",
       "      <td>112</td>\n",
       "      <td>1</td>\n",
       "      <td>84.0</td>\n",
       "      <td>m</td>\n",
       "    </tr>\n",
       "    <tr>\n",
       "      <th>13</th>\n",
       "      <td>14</td>\n",
       "      <td>111</td>\n",
       "      <td>1</td>\n",
       "      <td>82.0</td>\n",
       "      <td>m</td>\n",
       "    </tr>\n",
       "    <tr>\n",
       "      <th>14</th>\n",
       "      <td>15</td>\n",
       "      <td>90</td>\n",
       "      <td>1</td>\n",
       "      <td>78.0</td>\n",
       "      <td>f</td>\n",
       "    </tr>\n",
       "    <tr>\n",
       "      <th>15</th>\n",
       "      <td>16</td>\n",
       "      <td>116</td>\n",
       "      <td>1</td>\n",
       "      <td>74.0</td>\n",
       "      <td>m</td>\n",
       "    </tr>\n",
       "    <tr>\n",
       "      <th>16</th>\n",
       "      <td>17</td>\n",
       "      <td>119</td>\n",
       "      <td>1</td>\n",
       "      <td>72.0</td>\n",
       "      <td>m</td>\n",
       "    </tr>\n",
       "  </tbody>\n",
       "</table>\n",
       "</div>"
      ],
      "text/plain": [
       "    id  tiempo  examen  calificación género\n",
       "0    1      85       1         100.0      m\n",
       "1    2     109       1         100.0      m\n",
       "2    3     118       1         100.0      m\n",
       "3    4     120       1         100.0      f\n",
       "4    5     106       1          98.0      f\n",
       "5    6     103       1          98.0      m\n",
       "6    7     108       1          96.0      f\n",
       "7    8     119       1          96.0      f\n",
       "8    9     115       1          96.0      f\n",
       "9   10     108       1          94.0      f\n",
       "10  11      87       1          88.0      m\n",
       "11  12      99       1          86.0      f\n",
       "12  13     112       1          84.0      m\n",
       "13  14     111       1          82.0      m\n",
       "14  15      90       1          78.0      f\n",
       "15  16     116       1          74.0      m\n",
       "16  17     119       1          72.0      m"
      ]
     },
     "execution_count": 7,
     "metadata": {},
     "output_type": "execute_result"
    }
   ],
   "source": [
    "alumnos"
   ]
  },
  {
   "cell_type": "markdown",
   "id": "2cebee37",
   "metadata": {},
   "source": [
    "# a) Estadística descriptiva"
   ]
  },
  {
   "cell_type": "code",
   "execution_count": 8,
   "id": "9e9bb4ec",
   "metadata": {},
   "outputs": [],
   "source": [
    "prom_Ttodos = round(alumnos['tiempo'].mean(),2)\n",
    "prom_Caltodos = round(alumnos['calificación'].mean(),2)"
   ]
  },
  {
   "cell_type": "code",
   "execution_count": 9,
   "id": "21375b48",
   "metadata": {},
   "outputs": [],
   "source": [
    "prom_Thom = round(alumnos[alumnos['género']=='m']['tiempo'].mean(),2)\n",
    "prom_Calhom =  round(alumnos[alumnos['género']=='m']['calificación'].mean(),2)"
   ]
  },
  {
   "cell_type": "code",
   "execution_count": 10,
   "id": "7e6bee8d",
   "metadata": {},
   "outputs": [],
   "source": [
    "prom_Tmuj = round(alumnos[alumnos['género']=='f']['tiempo'].mean(),2)\n",
    "prom_Calmuj =  round(alumnos[alumnos['género']=='f']['calificación'].mean(),2)"
   ]
  },
  {
   "cell_type": "code",
   "execution_count": 11,
   "id": "923dc978",
   "metadata": {},
   "outputs": [
    {
     "name": "stdout",
     "output_type": "stream",
     "text": [
      "El promedio del tiempo de entrega para hombres, mujeres y en general fue de: (107.35, 106.67, 108.12) respectivamente.\n",
      " La calificación promedio para hombres, mujeres y en general fue de: (90.71, 88.67, 93.0) respectivamente\n"
     ]
    }
   ],
   "source": [
    "print(f'El promedio del tiempo de entrega para hombres, mujeres y en general fue de: {prom_Ttodos, prom_Thom, prom_Tmuj} respectivamente.\\n La calificación promedio para hombres, mujeres y en general fue de: {prom_Caltodos, prom_Calhom, prom_Calmuj} respectivamente')"
   ]
  },
  {
   "cell_type": "markdown",
   "id": "64127142",
   "metadata": {},
   "source": [
    "# b)\n",
    "\n",
    "A mayor tiempo, el riesgo de no entregar el examen aumenta, se ajustará un modelo de Weibull"
   ]
  },
  {
   "cell_type": "code",
   "execution_count": 12,
   "id": "17d54165",
   "metadata": {},
   "outputs": [],
   "source": [
    "from lifelines import WeibullFitter"
   ]
  },
  {
   "cell_type": "code",
   "execution_count": 13,
   "id": "d540e478",
   "metadata": {},
   "outputs": [],
   "source": [
    "weib1 = WeibullFitter().fit(alumnos['tiempo'], alumnos['examen'])"
   ]
  },
  {
   "cell_type": "code",
   "execution_count": 14,
   "id": "f0bdc83d",
   "metadata": {},
   "outputs": [
    {
     "data": {
      "image/png": "[encoded data removed]",
      "text/plain": [
       "<Figure size 640x480 with 1 Axes>"
      ]
     },
     "metadata": {},
     "output_type": "display_data"
    }
   ],
   "source": [
    "weib1.plot_hazard(label= 'Función de riesgo Weibull'); #funcion de riesgo\n",
    "#conforme pasa el tiempo hay mas probabilidad de obtener calificación baja"
   ]
  },
  {
   "cell_type": "markdown",
   "id": "9af5d598",
   "metadata": {},
   "source": [
    "# c) Modelo Weibull para hombres/mujeres"
   ]
  },
  {
   "cell_type": "code",
   "execution_count": 15,
   "id": "ee99759e",
   "metadata": {},
   "outputs": [],
   "source": [
    "weib_hom = WeibullFitter().fit(alumnos[alumnos['género'] == 'm']['tiempo'], alumnos[alumnos['género'] == 'm']['examen'])\n",
    "weib_muj = WeibullFitter().fit(alumnos[alumnos['género'] == 'f']['tiempo'], alumnos[alumnos['género'] == 'f']['examen'])\n"
   ]
  },
  {
   "cell_type": "code",
   "execution_count": 16,
   "id": "06c91e98",
   "metadata": {},
   "outputs": [
    {
     "data": {
      "text/plain": [
       "<matplotlib.legend.Legend at 0x155d29c9f70>"
      ]
     },
     "execution_count": 16,
     "metadata": {},
     "output_type": "execute_result"
    },
    {
     "data": {
      "image/png": "[encoded data removed]",
      "text/plain": [
       "<Figure size 640x480 with 1 Axes>"
      ]
     },
     "metadata": {},
     "output_type": "display_data"
    }
   ],
   "source": [
    "weib_hom.plot_survival_function(label= 'Funcion de supervivencia Weibull (hombres)').legend()\n",
    "weib_muj.plot_survival_function(label= 'Funcion de supervivencia Weibull (mujeres)').legend()\n"
   ]
  },
  {
   "cell_type": "markdown",
   "id": "8dbafa31",
   "metadata": {},
   "source": [
    "Graficamente, las mujeres tardan mas tiempo en entregar el examen"
   ]
  },
  {
   "cell_type": "markdown",
   "id": "49ac2ea8",
   "metadata": {},
   "source": [
    "# d) Kaplan-Meier"
   ]
  },
  {
   "cell_type": "code",
   "execution_count": 17,
   "id": "ddd44454",
   "metadata": {},
   "outputs": [],
   "source": [
    "from lifelines import KaplanMeierFitter"
   ]
  },
  {
   "cell_type": "code",
   "execution_count": 18,
   "id": "e1e148f9",
   "metadata": {},
   "outputs": [],
   "source": [
    "kmf1 = KaplanMeierFitter().fit(alumnos['tiempo'], alumnos['examen'])"
   ]
  },
  {
   "cell_type": "code",
   "execution_count": 34,
   "id": "374e8780",
   "metadata": {},
   "outputs": [],
   "source": [
    "#kmf1.event_table"
   ]
  },
  {
   "cell_type": "code",
   "execution_count": 19,
   "id": "7c1d1dc4",
   "metadata": {},
   "outputs": [
    {
     "data": {
      "text/html": [
       "<div>\n",
       "<style scoped>\n",
       "    .dataframe tbody tr th:only-of-type {\n",
       "        vertical-align: middle;\n",
       "    }\n",
       "\n",
       "    .dataframe tbody tr th {\n",
       "        vertical-align: top;\n",
       "    }\n",
       "\n",
       "    .dataframe thead th {\n",
       "        text-align: right;\n",
       "    }\n",
       "</style>\n",
       "<table border=\"1\" class=\"dataframe\">\n",
       "  <thead>\n",
       "    <tr style=\"text-align: right;\">\n",
       "      <th></th>\n",
       "      <th>KM_estimate</th>\n",
       "    </tr>\n",
       "    <tr>\n",
       "      <th>timeline</th>\n",
       "      <th></th>\n",
       "    </tr>\n",
       "  </thead>\n",
       "  <tbody>\n",
       "    <tr>\n",
       "      <th>0.0</th>\n",
       "      <td>1.000000</td>\n",
       "    </tr>\n",
       "    <tr>\n",
       "      <th>85.0</th>\n",
       "      <td>0.941176</td>\n",
       "    </tr>\n",
       "    <tr>\n",
       "      <th>87.0</th>\n",
       "      <td>0.882353</td>\n",
       "    </tr>\n",
       "    <tr>\n",
       "      <th>90.0</th>\n",
       "      <td>0.823529</td>\n",
       "    </tr>\n",
       "    <tr>\n",
       "      <th>99.0</th>\n",
       "      <td>0.764706</td>\n",
       "    </tr>\n",
       "    <tr>\n",
       "      <th>103.0</th>\n",
       "      <td>0.705882</td>\n",
       "    </tr>\n",
       "    <tr>\n",
       "      <th>106.0</th>\n",
       "      <td>0.647059</td>\n",
       "    </tr>\n",
       "    <tr>\n",
       "      <th>108.0</th>\n",
       "      <td>0.529412</td>\n",
       "    </tr>\n",
       "    <tr>\n",
       "      <th>109.0</th>\n",
       "      <td>0.470588</td>\n",
       "    </tr>\n",
       "    <tr>\n",
       "      <th>111.0</th>\n",
       "      <td>0.411765</td>\n",
       "    </tr>\n",
       "    <tr>\n",
       "      <th>112.0</th>\n",
       "      <td>0.352941</td>\n",
       "    </tr>\n",
       "    <tr>\n",
       "      <th>115.0</th>\n",
       "      <td>0.294118</td>\n",
       "    </tr>\n",
       "    <tr>\n",
       "      <th>116.0</th>\n",
       "      <td>0.235294</td>\n",
       "    </tr>\n",
       "    <tr>\n",
       "      <th>118.0</th>\n",
       "      <td>0.176471</td>\n",
       "    </tr>\n",
       "    <tr>\n",
       "      <th>119.0</th>\n",
       "      <td>0.058824</td>\n",
       "    </tr>\n",
       "    <tr>\n",
       "      <th>120.0</th>\n",
       "      <td>0.000000</td>\n",
       "    </tr>\n",
       "  </tbody>\n",
       "</table>\n",
       "</div>"
      ],
      "text/plain": [
       "          KM_estimate\n",
       "timeline             \n",
       "0.0          1.000000\n",
       "85.0         0.941176\n",
       "87.0         0.882353\n",
       "90.0         0.823529\n",
       "99.0         0.764706\n",
       "103.0        0.705882\n",
       "106.0        0.647059\n",
       "108.0        0.529412\n",
       "109.0        0.470588\n",
       "111.0        0.411765\n",
       "112.0        0.352941\n",
       "115.0        0.294118\n",
       "116.0        0.235294\n",
       "118.0        0.176471\n",
       "119.0        0.058824\n",
       "120.0        0.000000"
      ]
     },
     "execution_count": 19,
     "metadata": {},
     "output_type": "execute_result"
    }
   ],
   "source": [
    "#Valores de la función de supervivencia\n",
    "kmf1.survival_function_"
   ]
  },
  {
   "cell_type": "code",
   "execution_count": 20,
   "id": "ac26fde3",
   "metadata": {},
   "outputs": [
    {
     "data": {
      "text/html": [
       "<div>\n",
       "<style scoped>\n",
       "    .dataframe tbody tr th:only-of-type {\n",
       "        vertical-align: middle;\n",
       "    }\n",
       "\n",
       "    .dataframe tbody tr th {\n",
       "        vertical-align: top;\n",
       "    }\n",
       "\n",
       "    .dataframe thead th {\n",
       "        text-align: right;\n",
       "    }\n",
       "</style>\n",
       "<table border=\"1\" class=\"dataframe\">\n",
       "  <thead>\n",
       "    <tr style=\"text-align: right;\">\n",
       "      <th></th>\n",
       "      <th>KM_estimate_lower_0.95</th>\n",
       "      <th>KM_estimate_upper_0.95</th>\n",
       "    </tr>\n",
       "  </thead>\n",
       "  <tbody>\n",
       "    <tr>\n",
       "      <th>0.0</th>\n",
       "      <td>1.000000</td>\n",
       "      <td>1.000000</td>\n",
       "    </tr>\n",
       "    <tr>\n",
       "      <th>85.0</th>\n",
       "      <td>0.650179</td>\n",
       "      <td>0.991499</td>\n",
       "    </tr>\n",
       "    <tr>\n",
       "      <th>87.0</th>\n",
       "      <td>0.605979</td>\n",
       "      <td>0.969209</td>\n",
       "    </tr>\n",
       "    <tr>\n",
       "      <th>90.0</th>\n",
       "      <td>0.547132</td>\n",
       "      <td>0.939405</td>\n",
       "    </tr>\n",
       "    <tr>\n",
       "      <th>99.0</th>\n",
       "      <td>0.488278</td>\n",
       "      <td>0.904486</td>\n",
       "    </tr>\n",
       "    <tr>\n",
       "      <th>103.0</th>\n",
       "      <td>0.431478</td>\n",
       "      <td>0.865599</td>\n",
       "    </tr>\n",
       "    <tr>\n",
       "      <th>106.0</th>\n",
       "      <td>0.377147</td>\n",
       "      <td>0.823381</td>\n",
       "    </tr>\n",
       "    <tr>\n",
       "      <th>108.0</th>\n",
       "      <td>0.276168</td>\n",
       "      <td>0.730267</td>\n",
       "    </tr>\n",
       "    <tr>\n",
       "      <th>109.0</th>\n",
       "      <td>0.229598</td>\n",
       "      <td>0.679678</td>\n",
       "    </tr>\n",
       "    <tr>\n",
       "      <th>111.0</th>\n",
       "      <td>0.185759</td>\n",
       "      <td>0.626432</td>\n",
       "    </tr>\n",
       "    <tr>\n",
       "      <th>112.0</th>\n",
       "      <td>0.144835</td>\n",
       "      <td>0.570437</td>\n",
       "    </tr>\n",
       "    <tr>\n",
       "      <th>115.0</th>\n",
       "      <td>0.107120</td>\n",
       "      <td>0.511485</td>\n",
       "    </tr>\n",
       "    <tr>\n",
       "      <th>116.0</th>\n",
       "      <td>0.073083</td>\n",
       "      <td>0.449218</td>\n",
       "    </tr>\n",
       "    <tr>\n",
       "      <th>118.0</th>\n",
       "      <td>0.043478</td>\n",
       "      <td>0.383043</td>\n",
       "    </tr>\n",
       "    <tr>\n",
       "      <th>119.0</th>\n",
       "      <td>0.003915</td>\n",
       "      <td>0.235005</td>\n",
       "    </tr>\n",
       "    <tr>\n",
       "      <th>120.0</th>\n",
       "      <td>0.000000</td>\n",
       "      <td>0.000000</td>\n",
       "    </tr>\n",
       "  </tbody>\n",
       "</table>\n",
       "</div>"
      ],
      "text/plain": [
       "       KM_estimate_lower_0.95  KM_estimate_upper_0.95\n",
       "0.0                  1.000000                1.000000\n",
       "85.0                 0.650179                0.991499\n",
       "87.0                 0.605979                0.969209\n",
       "90.0                 0.547132                0.939405\n",
       "99.0                 0.488278                0.904486\n",
       "103.0                0.431478                0.865599\n",
       "106.0                0.377147                0.823381\n",
       "108.0                0.276168                0.730267\n",
       "109.0                0.229598                0.679678\n",
       "111.0                0.185759                0.626432\n",
       "112.0                0.144835                0.570437\n",
       "115.0                0.107120                0.511485\n",
       "116.0                0.073083                0.449218\n",
       "118.0                0.043478                0.383043\n",
       "119.0                0.003915                0.235005\n",
       "120.0                0.000000                0.000000"
      ]
     },
     "execution_count": 20,
     "metadata": {},
     "output_type": "execute_result"
    }
   ],
   "source": [
    "#valores de los intervalos de confianza con 95% de confianza\n",
    "kmf1.confidence_interval_"
   ]
  },
  {
   "cell_type": "code",
   "execution_count": 21,
   "id": "cdfd7887",
   "metadata": {},
   "outputs": [
    {
     "data": {
      "image/png": "[encoded data removed]",
      "text/plain": [
       "<Figure size 640x480 with 1 Axes>"
      ]
     },
     "metadata": {},
     "output_type": "display_data"
    }
   ],
   "source": [
    "kmf1.plot_survival_function(label= 'Funcion de supervivencia');"
   ]
  },
  {
   "cell_type": "markdown",
   "id": "62a773e0",
   "metadata": {},
   "source": [
    "# e) Kaplan-Meier hombres/mujeres"
   ]
  },
  {
   "cell_type": "code",
   "execution_count": 22,
   "id": "e7163ddb",
   "metadata": {},
   "outputs": [],
   "source": [
    "kmf_hom = KaplanMeierFitter().fit(alumnos[alumnos['género'] == 'm']['tiempo'], alumnos[alumnos['género'] == 'm']['examen'])\n",
    "kmf_muj = KaplanMeierFitter().fit(alumnos[alumnos['género'] == 'f']['tiempo'], alumnos[alumnos['género'] == 'f']['examen'])\n"
   ]
  },
  {
   "cell_type": "code",
   "execution_count": 23,
   "id": "0dfef7c5",
   "metadata": {},
   "outputs": [
    {
     "data": {
      "text/html": [
       "<div>\n",
       "<style scoped>\n",
       "    .dataframe tbody tr th:only-of-type {\n",
       "        vertical-align: middle;\n",
       "    }\n",
       "\n",
       "    .dataframe tbody tr th {\n",
       "        vertical-align: top;\n",
       "    }\n",
       "\n",
       "    .dataframe thead th {\n",
       "        text-align: right;\n",
       "    }\n",
       "</style>\n",
       "<table border=\"1\" class=\"dataframe\">\n",
       "  <thead>\n",
       "    <tr style=\"text-align: right;\">\n",
       "      <th></th>\n",
       "      <th>KM_estimate_lower_0.95</th>\n",
       "      <th>KM_estimate_upper_0.95</th>\n",
       "    </tr>\n",
       "  </thead>\n",
       "  <tbody>\n",
       "    <tr>\n",
       "      <th>0.0</th>\n",
       "      <td>1.000000</td>\n",
       "      <td>1.000000</td>\n",
       "    </tr>\n",
       "    <tr>\n",
       "      <th>85.0</th>\n",
       "      <td>0.432965</td>\n",
       "      <td>0.983564</td>\n",
       "    </tr>\n",
       "    <tr>\n",
       "      <th>87.0</th>\n",
       "      <td>0.364751</td>\n",
       "      <td>0.939296</td>\n",
       "    </tr>\n",
       "    <tr>\n",
       "      <th>103.0</th>\n",
       "      <td>0.281682</td>\n",
       "      <td>0.878307</td>\n",
       "    </tr>\n",
       "    <tr>\n",
       "      <th>109.0</th>\n",
       "      <td>0.204242</td>\n",
       "      <td>0.804525</td>\n",
       "    </tr>\n",
       "    <tr>\n",
       "      <th>111.0</th>\n",
       "      <td>0.135872</td>\n",
       "      <td>0.719315</td>\n",
       "    </tr>\n",
       "    <tr>\n",
       "      <th>112.0</th>\n",
       "      <td>0.078289</td>\n",
       "      <td>0.622627</td>\n",
       "    </tr>\n",
       "    <tr>\n",
       "      <th>116.0</th>\n",
       "      <td>0.033711</td>\n",
       "      <td>0.513068</td>\n",
       "    </tr>\n",
       "    <tr>\n",
       "      <th>118.0</th>\n",
       "      <td>0.006129</td>\n",
       "      <td>0.387665</td>\n",
       "    </tr>\n",
       "    <tr>\n",
       "      <th>119.0</th>\n",
       "      <td>0.000000</td>\n",
       "      <td>0.000000</td>\n",
       "    </tr>\n",
       "  </tbody>\n",
       "</table>\n",
       "</div>"
      ],
      "text/plain": [
       "       KM_estimate_lower_0.95  KM_estimate_upper_0.95\n",
       "0.0                  1.000000                1.000000\n",
       "85.0                 0.432965                0.983564\n",
       "87.0                 0.364751                0.939296\n",
       "103.0                0.281682                0.878307\n",
       "109.0                0.204242                0.804525\n",
       "111.0                0.135872                0.719315\n",
       "112.0                0.078289                0.622627\n",
       "116.0                0.033711                0.513068\n",
       "118.0                0.006129                0.387665\n",
       "119.0                0.000000                0.000000"
      ]
     },
     "execution_count": 23,
     "metadata": {},
     "output_type": "execute_result"
    }
   ],
   "source": [
    "#valores de intervalos de confianza paa hombres\n",
    "kmf_hom.confidence_interval_"
   ]
  },
  {
   "cell_type": "code",
   "execution_count": 40,
   "id": "072b46d5",
   "metadata": {},
   "outputs": [
    {
     "data": {
      "text/html": [
       "<div>\n",
       "<style scoped>\n",
       "    .dataframe tbody tr th:only-of-type {\n",
       "        vertical-align: middle;\n",
       "    }\n",
       "\n",
       "    .dataframe tbody tr th {\n",
       "        vertical-align: top;\n",
       "    }\n",
       "\n",
       "    .dataframe thead th {\n",
       "        text-align: right;\n",
       "    }\n",
       "</style>\n",
       "<table border=\"1\" class=\"dataframe\">\n",
       "  <thead>\n",
       "    <tr style=\"text-align: right;\">\n",
       "      <th></th>\n",
       "      <th>KM_estimate_lower_0.95</th>\n",
       "      <th>KM_estimate_upper_0.95</th>\n",
       "    </tr>\n",
       "  </thead>\n",
       "  <tbody>\n",
       "    <tr>\n",
       "      <th>0.0</th>\n",
       "      <td>1.000000</td>\n",
       "      <td>1.000000</td>\n",
       "    </tr>\n",
       "    <tr>\n",
       "      <th>90.0</th>\n",
       "      <td>0.387000</td>\n",
       "      <td>0.981393</td>\n",
       "    </tr>\n",
       "    <tr>\n",
       "      <th>99.0</th>\n",
       "      <td>0.314807</td>\n",
       "      <td>0.930898</td>\n",
       "    </tr>\n",
       "    <tr>\n",
       "      <th>106.0</th>\n",
       "      <td>0.229333</td>\n",
       "      <td>0.860698</td>\n",
       "    </tr>\n",
       "    <tr>\n",
       "      <th>108.0</th>\n",
       "      <td>0.087006</td>\n",
       "      <td>0.674363</td>\n",
       "    </tr>\n",
       "    <tr>\n",
       "      <th>115.0</th>\n",
       "      <td>0.037067</td>\n",
       "      <td>0.558084</td>\n",
       "    </tr>\n",
       "    <tr>\n",
       "      <th>119.0</th>\n",
       "      <td>0.006593</td>\n",
       "      <td>0.422706</td>\n",
       "    </tr>\n",
       "    <tr>\n",
       "      <th>120.0</th>\n",
       "      <td>0.000000</td>\n",
       "      <td>0.000000</td>\n",
       "    </tr>\n",
       "  </tbody>\n",
       "</table>\n",
       "</div>"
      ],
      "text/plain": [
       "       KM_estimate_lower_0.95  KM_estimate_upper_0.95\n",
       "0.0                  1.000000                1.000000\n",
       "90.0                 0.387000                0.981393\n",
       "99.0                 0.314807                0.930898\n",
       "106.0                0.229333                0.860698\n",
       "108.0                0.087006                0.674363\n",
       "115.0                0.037067                0.558084\n",
       "119.0                0.006593                0.422706\n",
       "120.0                0.000000                0.000000"
      ]
     },
     "execution_count": 40,
     "metadata": {},
     "output_type": "execute_result"
    }
   ],
   "source": [
    "#valores de intervalos de confianza paa mujeres\n",
    "kmf_muj.confidence_interval_"
   ]
  },
  {
   "cell_type": "code",
   "execution_count": 24,
   "id": "57f4bff1",
   "metadata": {},
   "outputs": [
    {
     "data": {
      "image/png": "[encoded data removed]",
      "text/plain": [
       "<Figure size 640x480 with 1 Axes>"
      ]
     },
     "metadata": {},
     "output_type": "display_data"
    }
   ],
   "source": [
    "kmf_hom.plot_survival_function(label= 'Funcion de supervivencia (hombres)');\n",
    "kmf_muj.plot_survival_function(label= 'Funcion de supervivencia (mujeres)');"
   ]
  },
  {
   "cell_type": "markdown",
   "id": "747f0841",
   "metadata": {},
   "source": []
  },
  {
   "cell_type": "markdown",
   "id": "5d633c3d",
   "metadata": {},
   "source": [
    "Si es posible que las mujeres sean más rapidas al contestar el examen, sin embargo no se puede asegurar eso ya que según el gráfico anterior los intervalos de confianza se cruzan, lo que indica que las variables pueden ser iguales, es decir que puede que no haya un género que entregue el examen más rapido que el otro"
   ]
  },
  {
   "cell_type": "markdown",
   "id": "e0ef6d0a",
   "metadata": {},
   "source": [
    "# f) Log rank test"
   ]
  },
  {
   "cell_type": "markdown",
   "id": "a7cdeffe",
   "metadata": {},
   "source": [
    "Log-Ranktest ~ X^2\n",
    "\n",
    "$H0: S1(t) = S2(t) <- funciones supervivencia iguales\n",
    "\n",
    "Ha: S1(t) !=  S2(t)$"
   ]
  },
  {
   "cell_type": "code",
   "execution_count": 25,
   "id": "b6faf566",
   "metadata": {},
   "outputs": [],
   "source": [
    "from lifelines.statistics import logrank_test"
   ]
  },
  {
   "cell_type": "code",
   "execution_count": 29,
   "id": "6d2a678b",
   "metadata": {},
   "outputs": [],
   "source": [
    "hom = alumnos[alumnos['género'] == 'm']\n",
    "muj = alumnos[alumnos['género'] == 'f']"
   ]
  },
  {
   "cell_type": "code",
   "execution_count": 30,
   "id": "df1e155e",
   "metadata": {},
   "outputs": [
    {
     "data": {
      "text/html": [
       "<div>\n",
       "<style scoped>\n",
       "    .dataframe tbody tr th:only-of-type {\n",
       "        vertical-align: middle;\n",
       "    }\n",
       "\n",
       "    .dataframe tbody tr th {\n",
       "        vertical-align: top;\n",
       "    }\n",
       "\n",
       "    .dataframe thead th {\n",
       "        text-align: right;\n",
       "    }\n",
       "</style>\n",
       "<table border=\"1\" class=\"dataframe\">\n",
       "  <tbody>\n",
       "    <tr>\n",
       "      <th>t_0</th>\n",
       "      <td>-1</td>\n",
       "    </tr>\n",
       "    <tr>\n",
       "      <th>null_distribution</th>\n",
       "      <td>chi squared</td>\n",
       "    </tr>\n",
       "    <tr>\n",
       "      <th>degrees_of_freedom</th>\n",
       "      <td>1</td>\n",
       "    </tr>\n",
       "    <tr>\n",
       "      <th>test_name</th>\n",
       "      <td>logrank_test</td>\n",
       "    </tr>\n",
       "  </tbody>\n",
       "</table>\n",
       "</div><table border=\"1\" class=\"dataframe\">\n",
       "  <thead>\n",
       "    <tr style=\"text-align: right;\">\n",
       "      <th></th>\n",
       "      <th>test_statistic</th>\n",
       "      <th>p</th>\n",
       "      <th>-log2(p)</th>\n",
       "    </tr>\n",
       "  </thead>\n",
       "  <tbody>\n",
       "    <tr>\n",
       "      <th>0</th>\n",
       "      <td>0.15</td>\n",
       "      <td>0.69</td>\n",
       "      <td>0.53</td>\n",
       "    </tr>\n",
       "  </tbody>\n",
       "</table>"
      ],
      "text/latex": [
       "\\begin{tabular}{lrrr}\n",
       " & test_statistic & p & -log2(p) \\\\\n",
       "0 & 0.15 & 0.69 & 0.53 \\\\\n",
       "\\end{tabular}\n"
      ],
      "text/plain": [
       "<lifelines.StatisticalResult: logrank_test>\n",
       "               t_0 = -1\n",
       " null_distribution = chi squared\n",
       "degrees_of_freedom = 1\n",
       "         test_name = logrank_test\n",
       "\n",
       "---\n",
       " test_statistic    p  -log2(p)\n",
       "           0.15 0.69      0.53"
      ]
     },
     "metadata": {},
     "output_type": "display_data"
    }
   ],
   "source": [
    "lrt = logrank_test(muj['tiempo'], hom['tiempo'], muj['examen'], hom['examen'])\n",
    "lrt.print_summary()"
   ]
  },
  {
   "cell_type": "code",
   "execution_count": 31,
   "id": "8a26a551",
   "metadata": {},
   "outputs": [
    {
     "data": {
      "text/plain": [
       "0.6949237007861098"
      ]
     },
     "execution_count": 31,
     "metadata": {},
     "output_type": "execute_result"
    }
   ],
   "source": [
    "lrt.p_value"
   ]
  },
  {
   "cell_type": "code",
   "execution_count": 33,
   "id": "d607cebc",
   "metadata": {},
   "outputs": [
    {
     "name": "stdout",
     "output_type": "stream",
     "text": [
      "Con un p-value0.69>0.05 No rechazamos H0 a un 95% de confianza, \n",
      "Significa que las funciones de supervivencia son iguales \n",
      "Los hombres y las mujeres entregan al mismo tiempo el examen\n"
     ]
    }
   ],
   "source": [
    "print(f'Con un p-value{lrt.p_value.round(2)}>0.05 No rechazamos H0 a un 95% de confianza, \\nSignifica que las funciones de supervivencia son iguales \\nLos hombres y las mujeres entregan al mismo tiempo el examen')"
   ]
  },
  {
   "cell_type": "markdown",
   "id": "ae2f3f7d",
   "metadata": {},
   "source": [
    "# g) Modelo de Cox"
   ]
  },
  {
   "cell_type": "markdown",
   "id": "a3004838",
   "metadata": {},
   "source": [
    "Modelo de cox con genero y calificacion como variables explicativas, para explicar la funcion de riesgo de entregar el examen"
   ]
  },
  {
   "cell_type": "code",
   "execution_count": 56,
   "id": "09053d58",
   "metadata": {},
   "outputs": [],
   "source": [
    "from lifelines import CoxPHFitter"
   ]
  },
  {
   "cell_type": "code",
   "execution_count": 87,
   "id": "4fd1e79e",
   "metadata": {
    "scrolled": true
   },
   "outputs": [
    {
     "data": {
      "text/html": [
       "<div>\n",
       "<style scoped>\n",
       "    .dataframe tbody tr th:only-of-type {\n",
       "        vertical-align: middle;\n",
       "    }\n",
       "\n",
       "    .dataframe tbody tr th {\n",
       "        vertical-align: top;\n",
       "    }\n",
       "\n",
       "    .dataframe thead th {\n",
       "        text-align: right;\n",
       "    }\n",
       "</style>\n",
       "<table border=\"1\" class=\"dataframe\">\n",
       "  <thead>\n",
       "    <tr style=\"text-align: right;\">\n",
       "      <th></th>\n",
       "      <th>id</th>\n",
       "      <th>tiempo</th>\n",
       "      <th>examen</th>\n",
       "      <th>calificación</th>\n",
       "      <th>género</th>\n",
       "    </tr>\n",
       "  </thead>\n",
       "  <tbody>\n",
       "    <tr>\n",
       "      <th>0</th>\n",
       "      <td>1</td>\n",
       "      <td>85</td>\n",
       "      <td>1</td>\n",
       "      <td>100.0</td>\n",
       "      <td>0</td>\n",
       "    </tr>\n",
       "    <tr>\n",
       "      <th>1</th>\n",
       "      <td>2</td>\n",
       "      <td>109</td>\n",
       "      <td>1</td>\n",
       "      <td>100.0</td>\n",
       "      <td>0</td>\n",
       "    </tr>\n",
       "    <tr>\n",
       "      <th>2</th>\n",
       "      <td>3</td>\n",
       "      <td>118</td>\n",
       "      <td>1</td>\n",
       "      <td>100.0</td>\n",
       "      <td>0</td>\n",
       "    </tr>\n",
       "    <tr>\n",
       "      <th>3</th>\n",
       "      <td>4</td>\n",
       "      <td>120</td>\n",
       "      <td>1</td>\n",
       "      <td>100.0</td>\n",
       "      <td>1</td>\n",
       "    </tr>\n",
       "    <tr>\n",
       "      <th>4</th>\n",
       "      <td>5</td>\n",
       "      <td>106</td>\n",
       "      <td>1</td>\n",
       "      <td>98.0</td>\n",
       "      <td>1</td>\n",
       "    </tr>\n",
       "    <tr>\n",
       "      <th>5</th>\n",
       "      <td>6</td>\n",
       "      <td>103</td>\n",
       "      <td>1</td>\n",
       "      <td>98.0</td>\n",
       "      <td>0</td>\n",
       "    </tr>\n",
       "    <tr>\n",
       "      <th>6</th>\n",
       "      <td>7</td>\n",
       "      <td>108</td>\n",
       "      <td>1</td>\n",
       "      <td>96.0</td>\n",
       "      <td>1</td>\n",
       "    </tr>\n",
       "    <tr>\n",
       "      <th>7</th>\n",
       "      <td>8</td>\n",
       "      <td>119</td>\n",
       "      <td>1</td>\n",
       "      <td>96.0</td>\n",
       "      <td>1</td>\n",
       "    </tr>\n",
       "    <tr>\n",
       "      <th>8</th>\n",
       "      <td>9</td>\n",
       "      <td>115</td>\n",
       "      <td>1</td>\n",
       "      <td>96.0</td>\n",
       "      <td>1</td>\n",
       "    </tr>\n",
       "    <tr>\n",
       "      <th>9</th>\n",
       "      <td>10</td>\n",
       "      <td>108</td>\n",
       "      <td>1</td>\n",
       "      <td>94.0</td>\n",
       "      <td>1</td>\n",
       "    </tr>\n",
       "    <tr>\n",
       "      <th>10</th>\n",
       "      <td>11</td>\n",
       "      <td>87</td>\n",
       "      <td>1</td>\n",
       "      <td>88.0</td>\n",
       "      <td>0</td>\n",
       "    </tr>\n",
       "    <tr>\n",
       "      <th>11</th>\n",
       "      <td>12</td>\n",
       "      <td>99</td>\n",
       "      <td>1</td>\n",
       "      <td>86.0</td>\n",
       "      <td>1</td>\n",
       "    </tr>\n",
       "    <tr>\n",
       "      <th>12</th>\n",
       "      <td>13</td>\n",
       "      <td>112</td>\n",
       "      <td>1</td>\n",
       "      <td>84.0</td>\n",
       "      <td>0</td>\n",
       "    </tr>\n",
       "    <tr>\n",
       "      <th>13</th>\n",
       "      <td>14</td>\n",
       "      <td>111</td>\n",
       "      <td>1</td>\n",
       "      <td>82.0</td>\n",
       "      <td>0</td>\n",
       "    </tr>\n",
       "    <tr>\n",
       "      <th>14</th>\n",
       "      <td>15</td>\n",
       "      <td>90</td>\n",
       "      <td>1</td>\n",
       "      <td>78.0</td>\n",
       "      <td>1</td>\n",
       "    </tr>\n",
       "    <tr>\n",
       "      <th>15</th>\n",
       "      <td>16</td>\n",
       "      <td>116</td>\n",
       "      <td>1</td>\n",
       "      <td>74.0</td>\n",
       "      <td>0</td>\n",
       "    </tr>\n",
       "    <tr>\n",
       "      <th>16</th>\n",
       "      <td>17</td>\n",
       "      <td>119</td>\n",
       "      <td>1</td>\n",
       "      <td>72.0</td>\n",
       "      <td>0</td>\n",
       "    </tr>\n",
       "  </tbody>\n",
       "</table>\n",
       "</div>"
      ],
      "text/plain": [
       "    id  tiempo  examen  calificación género\n",
       "0    1      85       1         100.0      0\n",
       "1    2     109       1         100.0      0\n",
       "2    3     118       1         100.0      0\n",
       "3    4     120       1         100.0      1\n",
       "4    5     106       1          98.0      1\n",
       "5    6     103       1          98.0      0\n",
       "6    7     108       1          96.0      1\n",
       "7    8     119       1          96.0      1\n",
       "8    9     115       1          96.0      1\n",
       "9   10     108       1          94.0      1\n",
       "10  11      87       1          88.0      0\n",
       "11  12      99       1          86.0      1\n",
       "12  13     112       1          84.0      0\n",
       "13  14     111       1          82.0      0\n",
       "14  15      90       1          78.0      1\n",
       "15  16     116       1          74.0      0\n",
       "16  17     119       1          72.0      0"
      ]
     },
     "execution_count": 87,
     "metadata": {},
     "output_type": "execute_result"
    }
   ],
   "source": [
    "#alumnos['género'] = np.where(alumnos['género'] == 'm', '0','1')\n",
    "#alumnos.drop(['género2'], axis=1)   \"para eliminar columna, para eliminar filas es con axis=2\"\n",
    "#alumnos\n",
    "\n",
    "#Solo se corre una vez, no correr de nuevo porque la columna género cambiaría"
   ]
  },
  {
   "cell_type": "code",
   "execution_count": 88,
   "id": "1a392160",
   "metadata": {},
   "outputs": [
    {
     "data": {
      "text/html": [
       "<div>\n",
       "<style scoped>\n",
       "    .dataframe tbody tr th:only-of-type {\n",
       "        vertical-align: middle;\n",
       "    }\n",
       "\n",
       "    .dataframe tbody tr th {\n",
       "        vertical-align: top;\n",
       "    }\n",
       "\n",
       "    .dataframe thead th {\n",
       "        text-align: right;\n",
       "    }\n",
       "</style>\n",
       "<table border=\"1\" class=\"dataframe\">\n",
       "  <tbody>\n",
       "    <tr>\n",
       "      <th>model</th>\n",
       "      <td>lifelines.CoxPHFitter</td>\n",
       "    </tr>\n",
       "    <tr>\n",
       "      <th>duration col</th>\n",
       "      <td>'tiempo'</td>\n",
       "    </tr>\n",
       "    <tr>\n",
       "      <th>event col</th>\n",
       "      <td>'examen'</td>\n",
       "    </tr>\n",
       "    <tr>\n",
       "      <th>baseline estimation</th>\n",
       "      <td>breslow</td>\n",
       "    </tr>\n",
       "    <tr>\n",
       "      <th>number of observations</th>\n",
       "      <td>17</td>\n",
       "    </tr>\n",
       "    <tr>\n",
       "      <th>number of events observed</th>\n",
       "      <td>17</td>\n",
       "    </tr>\n",
       "    <tr>\n",
       "      <th>partial log-likelihood</th>\n",
       "      <td>-33.31</td>\n",
       "    </tr>\n",
       "    <tr>\n",
       "      <th>time fit was run</th>\n",
       "      <td>2023-03-16 14:38:55 UTC</td>\n",
       "    </tr>\n",
       "  </tbody>\n",
       "</table>\n",
       "</div><table border=\"1\" class=\"dataframe\">\n",
       "  <thead>\n",
       "    <tr style=\"text-align: right;\">\n",
       "      <th style=\"min-width: 12px;\"></th>\n",
       "      <th style=\"min-width: 12px;\">coef</th>\n",
       "      <th style=\"min-width: 12px;\">exp(coef)</th>\n",
       "      <th style=\"min-width: 12px;\">se(coef)</th>\n",
       "      <th style=\"min-width: 12px;\">coef lower 95%</th>\n",
       "      <th style=\"min-width: 12px;\">coef upper 95%</th>\n",
       "      <th style=\"min-width: 12px;\">exp(coef) lower 95%</th>\n",
       "      <th style=\"min-width: 12px;\">exp(coef) upper 95%</th>\n",
       "      <th style=\"min-width: 12px;\">cmp to</th>\n",
       "      <th style=\"min-width: 12px;\">z</th>\n",
       "      <th style=\"min-width: 12px;\">p</th>\n",
       "      <th style=\"min-width: 12px;\">-log2(p)</th>\n",
       "    </tr>\n",
       "  </thead>\n",
       "  <tbody>\n",
       "    <tr>\n",
       "      <th>id</th>\n",
       "      <td>0.10</td>\n",
       "      <td>1.10</td>\n",
       "      <td>0.24</td>\n",
       "      <td>-0.36</td>\n",
       "      <td>0.56</td>\n",
       "      <td>0.70</td>\n",
       "      <td>1.75</td>\n",
       "      <td>0.00</td>\n",
       "      <td>0.42</td>\n",
       "      <td>0.67</td>\n",
       "      <td>0.57</td>\n",
       "    </tr>\n",
       "    <tr>\n",
       "      <th>calificación</th>\n",
       "      <td>0.06</td>\n",
       "      <td>1.06</td>\n",
       "      <td>0.13</td>\n",
       "      <td>-0.19</td>\n",
       "      <td>0.30</td>\n",
       "      <td>0.83</td>\n",
       "      <td>1.36</td>\n",
       "      <td>0.00</td>\n",
       "      <td>0.47</td>\n",
       "      <td>0.64</td>\n",
       "      <td>0.64</td>\n",
       "    </tr>\n",
       "    <tr>\n",
       "      <th>género</th>\n",
       "      <td>-0.50</td>\n",
       "      <td>0.60</td>\n",
       "      <td>0.80</td>\n",
       "      <td>-2.08</td>\n",
       "      <td>1.07</td>\n",
       "      <td>0.13</td>\n",
       "      <td>2.91</td>\n",
       "      <td>0.00</td>\n",
       "      <td>-0.63</td>\n",
       "      <td>0.53</td>\n",
       "      <td>0.92</td>\n",
       "    </tr>\n",
       "  </tbody>\n",
       "</table><br><div>\n",
       "<style scoped>\n",
       "    .dataframe tbody tr th:only-of-type {\n",
       "        vertical-align: middle;\n",
       "    }\n",
       "\n",
       "    .dataframe tbody tr th {\n",
       "        vertical-align: top;\n",
       "    }\n",
       "\n",
       "    .dataframe thead th {\n",
       "        text-align: right;\n",
       "    }\n",
       "</style>\n",
       "<table border=\"1\" class=\"dataframe\">\n",
       "  <tbody>\n",
       "    <tr>\n",
       "      <th>Concordance</th>\n",
       "      <td>0.51</td>\n",
       "    </tr>\n",
       "    <tr>\n",
       "      <th>Partial AIC</th>\n",
       "      <td>72.61</td>\n",
       "    </tr>\n",
       "    <tr>\n",
       "      <th>log-likelihood ratio test</th>\n",
       "      <td>0.40 on 3 df</td>\n",
       "    </tr>\n",
       "    <tr>\n",
       "      <th>-log2(p) of ll-ratio test</th>\n",
       "      <td>0.09</td>\n",
       "    </tr>\n",
       "  </tbody>\n",
       "</table>\n",
       "</div>"
      ],
      "text/latex": [
       "\\begin{tabular}{lrrrrrrrrrrr}\n",
       " & coef & exp(coef) & se(coef) & coef lower 95% & coef upper 95% & exp(coef) lower 95% & exp(coef) upper 95% & cmp to & z & p & -log2(p) \\\\\n",
       "covariate &  &  &  &  &  &  &  &  &  &  &  \\\\\n",
       "id & 0.10 & 1.10 & 0.24 & -0.36 & 0.56 & 0.70 & 1.75 & 0.00 & 0.42 & 0.67 & 0.57 \\\\\n",
       "calificación & 0.06 & 1.06 & 0.13 & -0.19 & 0.30 & 0.83 & 1.36 & 0.00 & 0.47 & 0.64 & 0.64 \\\\\n",
       "género & -0.50 & 0.60 & 0.80 & -2.08 & 1.07 & 0.13 & 2.91 & 0.00 & -0.63 & 0.53 & 0.92 \\\\\n",
       "\\end{tabular}\n"
      ],
      "text/plain": [
       "<lifelines.CoxPHFitter: fitted with 17 total observations, 0 right-censored observations>\n",
       "             duration col = 'tiempo'\n",
       "                event col = 'examen'\n",
       "      baseline estimation = breslow\n",
       "   number of observations = 17\n",
       "number of events observed = 17\n",
       "   partial log-likelihood = -33.31\n",
       "         time fit was run = 2023-03-16 14:38:55 UTC\n",
       "\n",
       "---\n",
       "               coef  exp(coef)   se(coef)   coef lower 95%   coef upper 95%  exp(coef) lower 95%  exp(coef) upper 95%\n",
       "covariate                                                                                                            \n",
       "id             0.10       1.10       0.24            -0.36             0.56                 0.70                 1.75\n",
       "calificación   0.06       1.06       0.13            -0.19             0.30                 0.83                 1.36\n",
       "género        -0.50       0.60       0.80            -2.08             1.07                 0.13                 2.91\n",
       "\n",
       "               cmp to     z    p   -log2(p)\n",
       "covariate                                  \n",
       "id               0.00  0.42 0.67       0.57\n",
       "calificación     0.00  0.47 0.64       0.64\n",
       "género           0.00 -0.63 0.53       0.92\n",
       "---\n",
       "Concordance = 0.51\n",
       "Partial AIC = 72.61\n",
       "log-likelihood ratio test = 0.40 on 3 df\n",
       "-log2(p) of ll-ratio test = 0.09"
      ]
     },
     "metadata": {},
     "output_type": "display_data"
    }
   ],
   "source": [
    "cph = CoxPHFitter()\n",
    "cph.fit(alumnos, 'tiempo', 'examen')\n",
    "cph.print_summary()"
   ]
  },
  {
   "cell_type": "markdown",
   "id": "c5253adc",
   "metadata": {},
   "source": [
    "# h) Interpretación"
   ]
  },
  {
   "cell_type": "markdown",
   "id": "c41cd2d1",
   "metadata": {},
   "source": [
    "P < alpha\n",
    "\n",
    "id no es significativa\n",
    "\n",
    "calificación no es significativa\n",
    "\n",
    "género no es significativa\n",
    "\n",
    "- Por lo tanto ser hombre, mujer, haber estudiado o no, no afecta la probabilidad de entregar el examen\n",
    "\n"
   ]
  },
  {
   "cell_type": "markdown",
   "id": "816b9e21",
   "metadata": {},
   "source": [
    "# i)"
   ]
  },
  {
   "cell_type": "code",
   "execution_count": 89,
   "id": "554f14fb",
   "metadata": {},
   "outputs": [
    {
     "data": {
      "text/plain": [
       "<AxesSubplot:xlabel='log(HR) (95% CI)'>"
      ]
     },
     "execution_count": 89,
     "metadata": {},
     "output_type": "execute_result"
    },
    {
     "data": {
      "image/png": "[encoded data removed]",
      "text/plain": [
       "<Figure size 640x480 with 1 Axes>"
      ]
     },
     "metadata": {},
     "output_type": "display_data"
    }
   ],
   "source": [
    "cph.plot()"
   ]
  },
  {
   "cell_type": "code",
   "execution_count": 90,
   "id": "fa9f108f",
   "metadata": {
    "scrolled": true
   },
   "outputs": [
    {
     "data": {
      "text/plain": [
       "<AxesSubplot:>"
      ]
     },
     "execution_count": 90,
     "metadata": {},
     "output_type": "execute_result"
    },
    {
     "data": {
      "image/png": "[encoded data removed]",
      "text/plain": [
       "<Figure size 640x480 with 1 Axes>"
      ]
     },
     "metadata": {},
     "output_type": "display_data"
    }
   ],
   "source": [
    "cph.plot_partial_effects_on_outcome(covariates='género',values=[0,1]) #todo esto suponiendo que fue signifiacativo\n",
    "#0 es hombre, 1 es mujer"
   ]
  },
  {
   "cell_type": "markdown",
   "id": "a586e01d",
   "metadata": {},
   "source": [
    "Las funciones de supervivencia si se parecen ya que en kaplan meier como aquí, han llegado a traslaparse y se repite que la función de supervivencia de las mujeres está por encima de la de los hombres"
   ]
  },
  {
   "cell_type": "markdown",
   "id": "3c6a0cf8",
   "metadata": {},
   "source": [
    "# j)"
   ]
  },
  {
   "cell_type": "markdown",
   "id": "6add9e06",
   "metadata": {},
   "source": [
    "Dados los resultados del modelo de Cox, obtenemos que las variables NO son significativas, es decir que las funciones de supervivencia son iguales. Eso quiere decir que no se puede afirmar que las alumnas fueron más rapidas que los alumnos al entregar examen. A su vez como la calificación no es significativa con el tiempo, no es correcto señalar que los que entregaron el examen rapido es porque no estudiaron, ya que pueden haber contestado rapido porque sabían todo o por otra razón."
   ]
  },
  {
   "cell_type": "code",
   "execution_count": null,
   "id": "dc245f42",
   "metadata": {},
   "outputs": [],
   "source": []
  }
 ],
 "metadata": {
  "kernelspec": {
   "display_name": "Python 3 (ipykernel)",
   "language": "python",
   "name": "python3"
  },
  "language_info": {
   "codemirror_mode": {
    "name": "ipython",
    "version": 3
   },
   "file_extension": ".py",
   "mimetype": "text/x-python",
   "name": "python",
   "nbconvert_exporter": "python",
   "pygments_lexer": "ipython3",
   "version": "3.9.13"
  }
 },
 "nbformat": 4,
 "nbformat_minor": 5
}
